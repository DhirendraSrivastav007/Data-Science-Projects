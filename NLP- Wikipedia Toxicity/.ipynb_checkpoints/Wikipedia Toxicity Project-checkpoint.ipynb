{
 "cells": [
  {
   "cell_type": "markdown",
   "metadata": {},
   "source": [
    "<hr>\n",
    "\n",
    "<font size = 100px color = 'royalblue'><b><center>Wikipedia Toxicity</center></b></font>\n",
    "\n",
    "<hr>\n",
    "\n",
    "\n",
    "<font size = 4px color = 'darkred'><b>Problem Statement:</b></font> \n",
    "\n",
    "Wikipedia is the world’s largest and most popular reference work on the internet with about 500 million unique visitors per month. It also has millions of contributors who can make edits to pages. The Talk edit pages, the key community interaction forum where the contributing community interacts or discusses or debates about the changes pertaining to a particular topic. \n",
    "\n",
    "Wikipedia continuously strives to help online discussion become more productive and respectful. You are a data scientist at Wikipedia who will help Wikipedia to build a predictive model that identifies toxic comments in the discussion and marks them for cleanup by using NLP and machine learning. Post that, help identify the top terms from the toxic comments. \n",
    "\n",
    "<br>\n",
    "<font size = 4px color = 'darkred'><b>Analysis to be done:</b></font>\n",
    "<br>\n",
    "<li> Build a text classification model using NLP and machine learning that detects toxic comments.\n",
    "<br><br>\n",
    "\n",
    "<font size = 4px color = 'darkred'><b>Content: </b></font>\n",
    "\n",
    "\n",
    "<ul>\n",
    "    <li> <b>id:</b> identifier number of the comment\n",
    "    <li><b>comment_text:</b> the text in the comment\n",
    "    <li><b>toxic:</b>\n",
    "    <ul>\n",
    "        <li> 0 (non-toxic)\n",
    "        <li> 1 (toxic)\n",
    "    </ul>\n",
    "</ul>\n",
    "<br>  \n",
    "\n",
    "<ul><font size = 4px color = 'darkred'><b>Steps to perform:</b></font>\n",
    "    <li>Cleanup the text data, using TF-IDF convert to vector space representation, use Support Vector Machines to detect toxic comments.\n",
    "    <li>Finally, get the list of top 15 toxic terms from the comments identified by the model.\n",
    "</ul>\n",
    "<br><br>\n",
    "<p style='box-sizing: border-box; margin: 0px 0px 10px; color: rgb(77, 87, 93); font-family: \"Gotham Rounded SSm A\", \"Gotham Rounded SSm B\", Helvetica, Arial, sans-serif; font-size: 14px; font-style: normal; font-variant-ligatures: normal; font-variant-caps: normal; font-weight: 400; letter-spacing: normal; orphans: 2; text-align: start; text-indent: 0px; text-transform: none; white-space: normal; widows: 2; word-spacing: 0px; -webkit-text-stroke-width: 0px; background-color: rgb(255, 255, 255); text-decoration-thickness: initial; text-decoration-style: initial; text-decoration-color: initial;'><strong style=\"box-sizing: border-box; font-weight: 700;\">Tasks:</strong>&nbsp;</p>\n",
    "<ol style='box-sizing: border-box; margin-top: 0px; margin-bottom: 10px; color: rgb(77, 87, 93); font-family: \"Gotham Rounded SSm A\", \"Gotham Rounded SSm B\", Helvetica, Arial, sans-serif; font-size: 14px; font-style: normal; font-variant-ligatures: normal; font-variant-caps: normal; font-weight: 400; letter-spacing: normal; orphans: 2; text-align: start; text-indent: 0px; text-transform: none; white-space: normal; widows: 2; word-spacing: 0px; -webkit-text-stroke-width: 0px; background-color: rgb(255, 255, 255); text-decoration-thickness: initial; text-decoration-style: initial; text-decoration-color: initial;'>\n",
    "    <li style=\"box-sizing: border-box; margin: 0px; padding: 0px; list-style: decimal;\">\n",
    "        <p style=\"box-sizing: border-box; margin: 0px 0px 10px;\">Load the data using read_csv function from pandas package</p>\n",
    "    </li>\n",
    "    <li style=\"box-sizing: border-box; margin: 0px; padding: 0px; list-style: decimal;\">\n",
    "        <p style=\"box-sizing: border-box; margin: 0px 0px 10px;\">Get the comments into a list, for easy text cleanup and manipulation</p>\n",
    "    </li>\n",
    "    <li style=\"box-sizing: border-box; margin: 0px; padding: 0px; list-style: decimal;\">\n",
    "        <p style=\"box-sizing: border-box; margin: 0px 0px 10px;\">Cleanup:&nbsp;</p>\n",
    "        <ol style=\"box-sizing: border-box; margin-top: 0px; margin-bottom: 0px;\">\n",
    "            <li style=\"box-sizing: border-box; margin: 0px; padding: 0px; list-style: decimal;\">\n",
    "                <p style=\"box-sizing: border-box; margin: 0px 0px 10px;\">Using regular expressions, remove IP addresses</p>\n",
    "            </li>\n",
    "            <li style=\"box-sizing: border-box; margin: 0px; padding: 0px; list-style: decimal;\">\n",
    "                <p style=\"box-sizing: border-box; margin: 0px 0px 10px;\">Using regular expressions, remove URLs</p>\n",
    "            </li>\n",
    "            <li style=\"box-sizing: border-box; margin: 0px; padding: 0px; list-style: decimal;\">\n",
    "                <p style=\"box-sizing: border-box; margin: 0px 0px 10px;\">Normalize the casing</p>\n",
    "            </li>\n",
    "            <li style=\"box-sizing: border-box; margin: 0px; padding: 0px; list-style: decimal;\">\n",
    "                <p style=\"box-sizing: border-box; margin: 0px 0px 10px;\">Tokenize using word_tokenize from NLTK</p>\n",
    "            </li>\n",
    "            <li style=\"box-sizing: border-box; margin: 0px; padding: 0px; list-style: decimal;\">\n",
    "                <p style=\"box-sizing: border-box; margin: 0px 0px 10px;\">Remove stop words</p>\n",
    "            </li>\n",
    "            <li style=\"box-sizing: border-box; margin: 0px; padding: 0px; list-style: decimal;\">\n",
    "                <p style=\"box-sizing: border-box; margin: 0px 0px 10px;\">Remove punctuation</p>\n",
    "            </li>\n",
    "            <li style=\"box-sizing: border-box; margin: 0px; padding: 0px; list-style: decimal;\">\n",
    "                <p style=\"box-sizing: border-box; margin: 0px 0px 10px;\">Define a function to perform all these steps, you&rsquo;ll use this later on the actual test set</p>\n",
    "            </li>\n",
    "        </ol>\n",
    "    </li>\n",
    "    <li style=\"box-sizing: border-box; margin: 0px; padding: 0px; list-style: decimal;\">\n",
    "        <p style=\"box-sizing: border-box; margin: 0px 0px 10px;\">Using a counter, find the top terms in the data.&nbsp;</p>\n",
    "        <ol style=\"box-sizing: border-box; margin-top: 0px; margin-bottom: 0px;\">\n",
    "            <li style=\"box-sizing: border-box; margin: 0px; padding: 0px; list-style: decimal;\">\n",
    "                <p style=\"box-sizing: border-box; margin: 0px 0px 10px;\">Can any of these be considered contextual stop words?&nbsp;</p>\n",
    "            </li>\n",
    "            <li style=\"box-sizing: border-box; margin: 0px; padding: 0px; list-style: decimal;\">\n",
    "                <p style=\"box-sizing: border-box; margin: 0px 0px 10px;\">Words like &ldquo;Wikipedia&rdquo;, &ldquo;page&rdquo;, &ldquo;edit&rdquo; are examples of contextual stop words</p>\n",
    "            </li>\n",
    "            <li style=\"box-sizing: border-box; margin: 0px; padding: 0px; list-style: decimal;\">\n",
    "                <p style=\"box-sizing: border-box; margin: 0px 0px 10px;\">If yes, drop these from the data</p>\n",
    "            </li>\n",
    "        </ol>\n",
    "    </li>\n",
    "    <li style=\"box-sizing: border-box; margin: 0px; padding: 0px; list-style: decimal;\">\n",
    "        <p style=\"box-sizing: border-box; margin: 0px 0px 10px;\">Separate into train and test sets</p>\n",
    "        <ol style=\"box-sizing: border-box; margin-top: 0px; margin-bottom: 0px;\">\n",
    "            <li style=\"box-sizing: border-box; margin: 0px; padding: 0px; list-style: decimal;\">\n",
    "                <p style=\"box-sizing: border-box; margin: 0px 0px 10px;\">Use train-test method to divide your data into 2 sets: train and test</p>\n",
    "            </li>\n",
    "            <li style=\"box-sizing: border-box; margin: 0px; padding: 0px; list-style: decimal;\">\n",
    "                <p style=\"box-sizing: border-box; margin: 0px 0px 10px;\">Use a 70-30 split</p>\n",
    "            </li>\n",
    "        </ol>\n",
    "    </li>\n",
    "    <li style=\"box-sizing: border-box; margin: 0px; padding: 0px; list-style: decimal;\">\n",
    "        <p style=\"box-sizing: border-box; margin: 0px 0px 10px;\">Use TF-IDF values for the terms as feature to get into a vector space model</p>\n",
    "        <ol style=\"box-sizing: border-box; margin-top: 0px; margin-bottom: 0px;\">\n",
    "            <li style=\"box-sizing: border-box; margin: 0px; padding: 0px; list-style: decimal;\">\n",
    "                <p style=\"box-sizing: border-box; margin: 0px 0px 10px;\">Import TF-IDF vectorizer from sklearn</p>\n",
    "            </li>\n",
    "            <li style=\"box-sizing: border-box; margin: 0px; padding: 0px; list-style: decimal;\">\n",
    "                <p style=\"box-sizing: border-box; margin: 0px 0px 10px;\">Instantiate with a maximum of 4000 terms in your vocabulary</p>\n",
    "            </li>\n",
    "            <li style=\"box-sizing: border-box; margin: 0px; padding: 0px; list-style: decimal;\">\n",
    "                <p style=\"box-sizing: border-box; margin: 0px 0px 10px;\">Fit and apply on the train set</p>\n",
    "            </li>\n",
    "            <li style=\"box-sizing: border-box; margin: 0px; padding: 0px; list-style: decimal;\">\n",
    "                <p style=\"box-sizing: border-box; margin: 0px 0px 10px;\">Apply on the test set</p>\n",
    "            </li>\n",
    "        </ol>\n",
    "    </li>\n",
    "    <li style=\"box-sizing: border-box; margin: 0px; padding: 0px; list-style: decimal;\">\n",
    "        <p style=\"box-sizing: border-box; margin: 0px 0px 10px;\">Model building: Support Vector Machine</p>\n",
    "        <ol style=\"box-sizing: border-box; margin-top: 0px; margin-bottom: 0px;\">\n",
    "            <li style=\"box-sizing: border-box; margin: 0px; padding: 0px; list-style: decimal;\">\n",
    "                <p style=\"box-sizing: border-box; margin: 0px 0px 10px;\">Instantiate SVC from sklearn with a linear kernel</p>\n",
    "            </li>\n",
    "            <li style=\"box-sizing: border-box; margin: 0px; padding: 0px; list-style: decimal;\">\n",
    "                <p style=\"box-sizing: border-box; margin: 0px 0px 10px;\">Fit on the train data</p>\n",
    "            </li>\n",
    "            <li style=\"box-sizing: border-box; margin: 0px; padding: 0px; list-style: decimal;\">\n",
    "                <p style=\"box-sizing: border-box; margin: 0px 0px 10px;\">Make predictions for the train and the test set</p>\n",
    "            </li>\n",
    "        </ol>\n",
    "    </li>\n",
    "    <li style=\"box-sizing: border-box; margin: 0px; padding: 0px; list-style: decimal;\">\n",
    "        <p style=\"box-sizing: border-box; margin: 0px 0px 10px;\">Model evaluation: Accuracy, recall, and f1_score</p>\n",
    "        <ol style=\"box-sizing: border-box; margin-top: 0px; margin-bottom: 0px;\">\n",
    "            <li style=\"box-sizing: border-box; margin: 0px; padding: 0px; list-style: decimal;\">\n",
    "                <p style=\"box-sizing: border-box; margin: 0px 0px 10px;\">Report the accuracy on the train set</p>\n",
    "            </li>\n",
    "            <li style=\"box-sizing: border-box; margin: 0px; padding: 0px; list-style: decimal;\">\n",
    "                <p style=\"box-sizing: border-box; margin: 0px 0px 10px;\">Report the recall on the train set:decent, high, low?</p>\n",
    "            </li>\n",
    "            <li style=\"box-sizing: border-box; margin: 0px; padding: 0px; list-style: decimal;\">\n",
    "                <p style=\"box-sizing: border-box; margin: 0px 0px 10px;\">Get the f1_score on the train set</p>\n",
    "            </li>\n",
    "        </ol>\n",
    "    </li>\n",
    "    <li style=\"box-sizing: border-box; margin: 0px; padding: 0px; list-style: decimal;\">\n",
    "        <p style=\"box-sizing: border-box; margin: 0px 0px 10px;\">Looks like you need to adjust &nbsp;the class imbalance, as the model seems to focus on the 0s</p>\n",
    "        <ol style=\"box-sizing: border-box; margin-top: 0px; margin-bottom: 0px;\">\n",
    "            <li style=\"box-sizing: border-box; margin: 0px; padding: 0px; list-style: decimal;\">\n",
    "                <p style=\"box-sizing: border-box; margin: 0px 0px 10px;\">Adjust the appropriate parameter in the SVC module</p>\n",
    "            </li>\n",
    "        </ol>\n",
    "    </li>\n",
    "    <li style=\"box-sizing: border-box; margin: 0px; padding: 0px; list-style: decimal;\">\n",
    "        <p style=\"box-sizing: border-box; margin: 0px 0px 10px;\">Train again with the adjustment and evaluate</p>\n",
    "        <ol style=\"box-sizing: border-box; margin-top: 0px; margin-bottom: 0px;\">\n",
    "            <li style=\"box-sizing: border-box; margin: 0px; padding: 0px; list-style: decimal;\">\n",
    "                <p style=\"box-sizing: border-box; margin: 0px 0px 10px;\">Train the model on the train set</p>\n",
    "            </li>\n",
    "            <li style=\"box-sizing: border-box; margin: 0px; padding: 0px; list-style: decimal;\">\n",
    "                <p style=\"box-sizing: border-box; margin: 0px 0px 10px;\">Evaluate the predictions on the validation set: accuracy, recall, f1_score</p>\n",
    "            </li>\n",
    "        </ol>\n",
    "    </li>\n",
    "    <li style=\"box-sizing: border-box; margin: 0px; padding: 0px; list-style: decimal;\">\n",
    "        <p style=\"box-sizing: border-box; margin: 0px 0px 10px;\">Hyperparameter tuning</p>\n",
    "        <ol style=\"box-sizing: border-box; margin-top: 0px; margin-bottom: 0px;\">\n",
    "            <li style=\"box-sizing: border-box; margin: 0px; padding: 0px; list-style: decimal;\">\n",
    "                <p style=\"box-sizing: border-box; margin: 0px 0px 10px;\">Import GridSearch and StratifiedKFold (because of class imbalance)</p>\n",
    "            </li>\n",
    "            <li style=\"box-sizing: border-box; margin: 0px; padding: 0px; list-style: decimal;\">\n",
    "                <p style=\"box-sizing: border-box; margin: 0px 0px 10px;\">Provide the parameter grid to choose for &lsquo;C&rsquo;</p>\n",
    "            </li>\n",
    "            <li style=\"box-sizing: border-box; margin: 0px; padding: 0px; list-style: decimal;\">\n",
    "                <p style=\"box-sizing: border-box; margin: 0px 0px 10px;\">Use a balanced class weight while instantiating the Support Vector Classifier</p>\n",
    "            </li>\n",
    "        </ol>\n",
    "    </li>\n",
    "    <li style=\"box-sizing: border-box; margin: 0px; padding: 0px; list-style: decimal;\">\n",
    "        <p style=\"box-sizing: border-box; margin: 0px 0px 10px;\">Find the parameters with the best recall in cross validation</p>\n",
    "        <ol style=\"box-sizing: border-box; margin-top: 0px; margin-bottom: 0px;\">\n",
    "            <li style=\"box-sizing: border-box; margin: 0px; padding: 0px; list-style: decimal;\">\n",
    "                <p style=\"box-sizing: border-box; margin: 0px 0px 10px;\">Choose &lsquo;recall&rsquo; as the metric for scoring</p>\n",
    "            </li>\n",
    "            <li style=\"box-sizing: border-box; margin: 0px; padding: 0px; list-style: decimal;\">\n",
    "                <p style=\"box-sizing: border-box; margin: 0px 0px 10px;\">Choose stratified 5 fold cross validation scheme</p>\n",
    "            </li>\n",
    "            <li style=\"box-sizing: border-box; margin: 0px; padding: 0px; list-style: decimal;\">\n",
    "                <p style=\"box-sizing: border-box; margin: 0px 0px 10px;\">Fit on the train set</p>\n",
    "            </li>\n",
    "        </ol>\n",
    "    </li>\n",
    "    <li style=\"box-sizing: border-box; margin: 0px; padding: 0px; list-style: decimal;\">\n",
    "        <p style=\"box-sizing: border-box; margin: 0px 0px 10px;\">What are the best parameters?</p>\n",
    "    </li>\n",
    "    <li style=\"box-sizing: border-box; margin: 0px; padding: 0px; list-style: decimal;\">\n",
    "        <p style=\"box-sizing: border-box; margin: 0px 0px 10px;\">Predict and evaluate using the best estimator</p>\n",
    "        <ol style=\"box-sizing: border-box; margin-top: 0px; margin-bottom: 0px;\">\n",
    "            <li style=\"box-sizing: border-box; margin: 0px; padding: 0px; list-style: decimal;\">\n",
    "                <p style=\"box-sizing: border-box; margin: 0px 0px 10px;\">Use best estimator from the grid search to make predictions on the test set</p>\n",
    "            </li>\n",
    "            <li style=\"box-sizing: border-box; margin: 0px; padding: 0px; list-style: decimal;\">\n",
    "                <p style=\"box-sizing: border-box; margin: 0px 0px 10px;\">What is the recall on the test set for the toxic comments?</p>\n",
    "            </li>\n",
    "            <li style=\"box-sizing: border-box; margin: 0px; padding: 0px; list-style: decimal;\">\n",
    "                <p style=\"box-sizing: border-box; margin: 0px 0px 10px;\">What is the f1_score?</p>\n",
    "            </li>\n",
    "        </ol>\n",
    "    </li>\n",
    "    <li style=\"box-sizing: border-box; margin: 0px; padding: 0px; list-style: decimal;\">\n",
    "        <p style=\"box-sizing: border-box; margin: 0px 0px 10px;\">What are the most prominent terms in the toxic comments?</p>\n",
    "        <ol style=\"box-sizing: border-box; margin-top: 0px; margin-bottom: 0px;\">\n",
    "            <li style=\"box-sizing: border-box; margin: 0px; padding: 0px; list-style: decimal;\">\n",
    "                <p style=\"box-sizing: border-box; margin: 0px 0px 10px;\">Separate the comments from the test set that the model identified as toxic</p>\n",
    "            </li>\n",
    "            <li style=\"box-sizing: border-box; margin: 0px; padding: 0px; list-style: decimal;\">\n",
    "                <p style=\"box-sizing: border-box; margin: 0px 0px 10px;\">Make one large list of the terms</p>\n",
    "            </li>\n",
    "            <li style=\"box-sizing: border-box; margin: 0px; padding: 0px; list-style: decimal;\">\n",
    "                <p style=\"box-sizing: border-box; margin: 0px 0px 10px;\">Get the top 15 terms</p>\n",
    "            </li>\n",
    "        </ol>\n",
    "    </li>\n",
    "</ol>\n",
    "    \n",
    "<hr>"
   ]
  },
  {
   "cell_type": "code",
   "execution_count": 2,
   "metadata": {},
   "outputs": [
    {
     "name": "stdout",
     "output_type": "stream",
     "text": [
      "Requirement already satisfied: pandas in c:\\users\\jaysr\\anaconda3\\lib\\site-packages (1.3.0)\n",
      "Requirement already satisfied: numpy>=1.17.3 in c:\\users\\jaysr\\anaconda3\\lib\\site-packages (from pandas) (1.21.0)\n",
      "Requirement already satisfied: pytz>=2017.3 in c:\\users\\jaysr\\anaconda3\\lib\\site-packages (from pandas) (2021.1)\n",
      "Requirement already satisfied: python-dateutil>=2.7.3 in c:\\users\\jaysr\\anaconda3\\lib\\site-packages (from pandas) (2.8.2)\n",
      "Requirement already satisfied: six>=1.5 in c:\\users\\jaysr\\anaconda3\\lib\\site-packages (from python-dateutil>=2.7.3->pandas) (1.16.0)\n"
     ]
    }
   ],
   "source": [
    "!pip install --upgrade pandas"
   ]
  },
  {
   "cell_type": "markdown",
   "metadata": {},
   "source": [
    "<font size = 5.5px color = 'darkgreen'><b>Import Required Libraries</b></font>"
   ]
  },
  {
   "cell_type": "code",
   "execution_count": 3,
   "metadata": {},
   "outputs": [
    {
     "ename": "ImportError",
     "evalue": "cannot import name 'DtypeArg' from 'pandas._typing' (C:\\Users\\jaysr\\anaconda3\\lib\\site-packages\\pandas\\_typing.py)",
     "output_type": "error",
     "traceback": [
      "\u001b[1;31m---------------------------------------------------------------------------\u001b[0m",
      "\u001b[1;31mImportError\u001b[0m                               Traceback (most recent call last)",
      "\u001b[1;32m<ipython-input-3-54abb39b2d90>\u001b[0m in \u001b[0;36m<module>\u001b[1;34m\u001b[0m\n\u001b[0;32m      1\u001b[0m \u001b[1;31m# Data Wrangling\u001b[0m\u001b[1;33m\u001b[0m\u001b[1;33m\u001b[0m\u001b[1;33m\u001b[0m\u001b[0m\n\u001b[1;32m----> 2\u001b[1;33m \u001b[1;32mimport\u001b[0m \u001b[0mpandas\u001b[0m \u001b[1;32mas\u001b[0m \u001b[0mpd\u001b[0m\u001b[1;33m,\u001b[0m \u001b[0mnumpy\u001b[0m \u001b[1;32mas\u001b[0m \u001b[0mnp\u001b[0m\u001b[1;33m,\u001b[0m \u001b[0mre\u001b[0m\u001b[1;33m\u001b[0m\u001b[1;33m\u001b[0m\u001b[0m\n\u001b[0m\u001b[0;32m      3\u001b[0m \u001b[1;33m\u001b[0m\u001b[0m\n\u001b[0;32m      4\u001b[0m \u001b[1;31m# Feature Engineering /Feature Selection\u001b[0m\u001b[1;33m\u001b[0m\u001b[1;33m\u001b[0m\u001b[1;33m\u001b[0m\u001b[0m\n\u001b[0;32m      5\u001b[0m \u001b[1;32mimport\u001b[0m \u001b[0mnltk\u001b[0m\u001b[1;33m\u001b[0m\u001b[1;33m\u001b[0m\u001b[0m\n",
      "\u001b[1;32m~\\anaconda3\\lib\\site-packages\\pandas\\__init__.py\u001b[0m in \u001b[0;36m<module>\u001b[1;34m\u001b[0m\n\u001b[0;32m    142\u001b[0m \u001b[1;32mfrom\u001b[0m \u001b[0mpandas\u001b[0m\u001b[1;33m.\u001b[0m\u001b[0mutil\u001b[0m\u001b[1;33m.\u001b[0m\u001b[0m_print_versions\u001b[0m \u001b[1;32mimport\u001b[0m \u001b[0mshow_versions\u001b[0m\u001b[1;33m\u001b[0m\u001b[1;33m\u001b[0m\u001b[0m\n\u001b[0;32m    143\u001b[0m \u001b[1;33m\u001b[0m\u001b[0m\n\u001b[1;32m--> 144\u001b[1;33m from pandas.io.api import (\n\u001b[0m\u001b[0;32m    145\u001b[0m     \u001b[1;31m# excel\u001b[0m\u001b[1;33m\u001b[0m\u001b[1;33m\u001b[0m\u001b[1;33m\u001b[0m\u001b[0m\n\u001b[0;32m    146\u001b[0m     \u001b[0mExcelFile\u001b[0m\u001b[1;33m,\u001b[0m\u001b[1;33m\u001b[0m\u001b[1;33m\u001b[0m\u001b[0m\n",
      "\u001b[1;32m~\\anaconda3\\lib\\site-packages\\pandas\\io\\api.py\u001b[0m in \u001b[0;36m<module>\u001b[1;34m\u001b[0m\n\u001b[0;32m      6\u001b[0m \u001b[1;33m\u001b[0m\u001b[0m\n\u001b[0;32m      7\u001b[0m \u001b[1;32mfrom\u001b[0m \u001b[0mpandas\u001b[0m\u001b[1;33m.\u001b[0m\u001b[0mio\u001b[0m\u001b[1;33m.\u001b[0m\u001b[0mclipboards\u001b[0m \u001b[1;32mimport\u001b[0m \u001b[0mread_clipboard\u001b[0m\u001b[1;33m\u001b[0m\u001b[1;33m\u001b[0m\u001b[0m\n\u001b[1;32m----> 8\u001b[1;33m \u001b[1;32mfrom\u001b[0m \u001b[0mpandas\u001b[0m\u001b[1;33m.\u001b[0m\u001b[0mio\u001b[0m\u001b[1;33m.\u001b[0m\u001b[0mexcel\u001b[0m \u001b[1;32mimport\u001b[0m \u001b[0mExcelFile\u001b[0m\u001b[1;33m,\u001b[0m \u001b[0mExcelWriter\u001b[0m\u001b[1;33m,\u001b[0m \u001b[0mread_excel\u001b[0m\u001b[1;33m\u001b[0m\u001b[1;33m\u001b[0m\u001b[0m\n\u001b[0m\u001b[0;32m      9\u001b[0m \u001b[1;32mfrom\u001b[0m \u001b[0mpandas\u001b[0m\u001b[1;33m.\u001b[0m\u001b[0mio\u001b[0m\u001b[1;33m.\u001b[0m\u001b[0mfeather_format\u001b[0m \u001b[1;32mimport\u001b[0m \u001b[0mread_feather\u001b[0m\u001b[1;33m\u001b[0m\u001b[1;33m\u001b[0m\u001b[0m\n\u001b[0;32m     10\u001b[0m \u001b[1;32mfrom\u001b[0m \u001b[0mpandas\u001b[0m\u001b[1;33m.\u001b[0m\u001b[0mio\u001b[0m\u001b[1;33m.\u001b[0m\u001b[0mgbq\u001b[0m \u001b[1;32mimport\u001b[0m \u001b[0mread_gbq\u001b[0m\u001b[1;33m\u001b[0m\u001b[1;33m\u001b[0m\u001b[0m\n",
      "\u001b[1;32m~\\anaconda3\\lib\\site-packages\\pandas\\io\\excel\\__init__.py\u001b[0m in \u001b[0;36m<module>\u001b[1;34m\u001b[0m\n\u001b[1;32m----> 1\u001b[1;33m \u001b[1;32mfrom\u001b[0m \u001b[0mpandas\u001b[0m\u001b[1;33m.\u001b[0m\u001b[0mio\u001b[0m\u001b[1;33m.\u001b[0m\u001b[0mexcel\u001b[0m\u001b[1;33m.\u001b[0m\u001b[0m_base\u001b[0m \u001b[1;32mimport\u001b[0m \u001b[0mExcelFile\u001b[0m\u001b[1;33m,\u001b[0m \u001b[0mExcelWriter\u001b[0m\u001b[1;33m,\u001b[0m \u001b[0mread_excel\u001b[0m\u001b[1;33m\u001b[0m\u001b[1;33m\u001b[0m\u001b[0m\n\u001b[0m\u001b[0;32m      2\u001b[0m \u001b[1;32mfrom\u001b[0m \u001b[0mpandas\u001b[0m\u001b[1;33m.\u001b[0m\u001b[0mio\u001b[0m\u001b[1;33m.\u001b[0m\u001b[0mexcel\u001b[0m\u001b[1;33m.\u001b[0m\u001b[0m_odswriter\u001b[0m \u001b[1;32mimport\u001b[0m \u001b[0mODSWriter\u001b[0m \u001b[1;32mas\u001b[0m \u001b[0m_ODSWriter\u001b[0m\u001b[1;33m\u001b[0m\u001b[1;33m\u001b[0m\u001b[0m\n\u001b[0;32m      3\u001b[0m \u001b[1;32mfrom\u001b[0m \u001b[0mpandas\u001b[0m\u001b[1;33m.\u001b[0m\u001b[0mio\u001b[0m\u001b[1;33m.\u001b[0m\u001b[0mexcel\u001b[0m\u001b[1;33m.\u001b[0m\u001b[0m_openpyxl\u001b[0m \u001b[1;32mimport\u001b[0m \u001b[0mOpenpyxlWriter\u001b[0m \u001b[1;32mas\u001b[0m \u001b[0m_OpenpyxlWriter\u001b[0m\u001b[1;33m\u001b[0m\u001b[1;33m\u001b[0m\u001b[0m\n\u001b[0;32m      4\u001b[0m \u001b[1;32mfrom\u001b[0m \u001b[0mpandas\u001b[0m\u001b[1;33m.\u001b[0m\u001b[0mio\u001b[0m\u001b[1;33m.\u001b[0m\u001b[0mexcel\u001b[0m\u001b[1;33m.\u001b[0m\u001b[0m_util\u001b[0m \u001b[1;32mimport\u001b[0m \u001b[0mregister_writer\u001b[0m\u001b[1;33m\u001b[0m\u001b[1;33m\u001b[0m\u001b[0m\n\u001b[0;32m      5\u001b[0m \u001b[1;32mfrom\u001b[0m \u001b[0mpandas\u001b[0m\u001b[1;33m.\u001b[0m\u001b[0mio\u001b[0m\u001b[1;33m.\u001b[0m\u001b[0mexcel\u001b[0m\u001b[1;33m.\u001b[0m\u001b[0m_xlsxwriter\u001b[0m \u001b[1;32mimport\u001b[0m \u001b[0mXlsxWriter\u001b[0m \u001b[1;32mas\u001b[0m \u001b[0m_XlsxWriter\u001b[0m\u001b[1;33m\u001b[0m\u001b[1;33m\u001b[0m\u001b[0m\n",
      "\u001b[1;32m~\\anaconda3\\lib\\site-packages\\pandas\\io\\excel\\_base.py\u001b[0m in \u001b[0;36m<module>\u001b[1;34m\u001b[0m\n\u001b[0;32m     31\u001b[0m     \u001b[0mpop_header_name\u001b[0m\u001b[1;33m,\u001b[0m\u001b[1;33m\u001b[0m\u001b[1;33m\u001b[0m\u001b[0m\n\u001b[0;32m     32\u001b[0m )\n\u001b[1;32m---> 33\u001b[1;33m \u001b[1;32mfrom\u001b[0m \u001b[0mpandas\u001b[0m\u001b[1;33m.\u001b[0m\u001b[0mio\u001b[0m\u001b[1;33m.\u001b[0m\u001b[0mparsers\u001b[0m \u001b[1;32mimport\u001b[0m \u001b[0mTextParser\u001b[0m\u001b[1;33m\u001b[0m\u001b[1;33m\u001b[0m\u001b[0m\n\u001b[0m\u001b[0;32m     34\u001b[0m \u001b[1;33m\u001b[0m\u001b[0m\n\u001b[0;32m     35\u001b[0m _read_excel_doc = (\n",
      "\u001b[1;32m~\\anaconda3\\lib\\site-packages\\pandas\\io\\parsers\\__init__.py\u001b[0m in \u001b[0;36m<module>\u001b[1;34m\u001b[0m\n\u001b[1;32m----> 1\u001b[1;33m from pandas.io.parsers.readers import (\n\u001b[0m\u001b[0;32m      2\u001b[0m     \u001b[0mTextFileReader\u001b[0m\u001b[1;33m,\u001b[0m\u001b[1;33m\u001b[0m\u001b[1;33m\u001b[0m\u001b[0m\n\u001b[0;32m      3\u001b[0m     \u001b[0mTextParser\u001b[0m\u001b[1;33m,\u001b[0m\u001b[1;33m\u001b[0m\u001b[1;33m\u001b[0m\u001b[0m\n\u001b[0;32m      4\u001b[0m     \u001b[0mread_csv\u001b[0m\u001b[1;33m,\u001b[0m\u001b[1;33m\u001b[0m\u001b[1;33m\u001b[0m\u001b[0m\n\u001b[0;32m      5\u001b[0m     \u001b[0mread_fwf\u001b[0m\u001b[1;33m,\u001b[0m\u001b[1;33m\u001b[0m\u001b[1;33m\u001b[0m\u001b[0m\n",
      "\u001b[1;32m~\\anaconda3\\lib\\site-packages\\pandas\\io\\parsers\\readers.py\u001b[0m in \u001b[0;36m<module>\u001b[1;34m\u001b[0m\n\u001b[0;32m     15\u001b[0m \u001b[1;32mimport\u001b[0m \u001b[0mpandas\u001b[0m\u001b[1;33m.\u001b[0m\u001b[0m_libs\u001b[0m\u001b[1;33m.\u001b[0m\u001b[0mlib\u001b[0m \u001b[1;32mas\u001b[0m \u001b[0mlib\u001b[0m\u001b[1;33m\u001b[0m\u001b[1;33m\u001b[0m\u001b[0m\n\u001b[0;32m     16\u001b[0m \u001b[1;32mfrom\u001b[0m \u001b[0mpandas\u001b[0m\u001b[1;33m.\u001b[0m\u001b[0m_libs\u001b[0m\u001b[1;33m.\u001b[0m\u001b[0mparsers\u001b[0m \u001b[1;32mimport\u001b[0m \u001b[0mSTR_NA_VALUES\u001b[0m\u001b[1;33m\u001b[0m\u001b[1;33m\u001b[0m\u001b[0m\n\u001b[1;32m---> 17\u001b[1;33m from pandas._typing import (\n\u001b[0m\u001b[0;32m     18\u001b[0m     \u001b[0mArrayLike\u001b[0m\u001b[1;33m,\u001b[0m\u001b[1;33m\u001b[0m\u001b[1;33m\u001b[0m\u001b[0m\n\u001b[0;32m     19\u001b[0m     \u001b[0mDtypeArg\u001b[0m\u001b[1;33m,\u001b[0m\u001b[1;33m\u001b[0m\u001b[1;33m\u001b[0m\u001b[0m\n",
      "\u001b[1;31mImportError\u001b[0m: cannot import name 'DtypeArg' from 'pandas._typing' (C:\\Users\\jaysr\\anaconda3\\lib\\site-packages\\pandas\\_typing.py)"
     ]
    }
   ],
   "source": [
    "# Data Wrangling \n",
    "import pandas as pd, numpy as np, re\n",
    "\n",
    "# Feature Engineering /Feature Selection\n",
    "import nltk\n",
    "from nltk.stem import WordNetLemmatizer\n",
    "from sklearn.model_selection import train_test_split\n",
    "from sklearn.feature_extraction.text import CountVectorizer, TfidfVectorizer\n",
    "lemmatizer = WordNetLemmatizer()\n",
    "from nltk.tokenize import sent_tokenize, word_tokenize\n",
    "from nltk.corpus import stopwords\n",
    "from string import punctuation\n",
    "from collections import Counter\n",
    "from sklearn.model_selection import StratifiedKFold, GridSearchCV\n",
    "\n",
    "#Data Visualization\n",
    "import seaborn as sns\n",
    "from matplotlib import pyplot as plt, style\n",
    "\n",
    "# Model Building \n",
    "from sklearn.svm import SVC\n",
    "from sklearn.naive_bayes import MultinomialNB\n",
    "from sklearn import metrics\n",
    "\n",
    "# Set warnings off\n",
    "import warnings\n",
    "warnings.filterwarnings('ignore')"
   ]
  },
  {
   "cell_type": "markdown",
   "metadata": {},
   "source": [
    "<font size = 5.5px color = 'darkgreen'><b>Task 1: Read The Data</b></font>"
   ]
  },
  {
   "cell_type": "code",
   "execution_count": 7,
   "metadata": {},
   "outputs": [
    {
     "data": {
      "text/html": [
       "<div>\n",
       "<style scoped>\n",
       "    .dataframe tbody tr th:only-of-type {\n",
       "        vertical-align: middle;\n",
       "    }\n",
       "\n",
       "    .dataframe tbody tr th {\n",
       "        vertical-align: top;\n",
       "    }\n",
       "\n",
       "    .dataframe thead th {\n",
       "        text-align: right;\n",
       "    }\n",
       "</style>\n",
       "<table border=\"1\" class=\"dataframe\">\n",
       "  <thead>\n",
       "    <tr style=\"text-align: right;\">\n",
       "      <th></th>\n",
       "      <th>comment_text</th>\n",
       "      <th>toxic</th>\n",
       "    </tr>\n",
       "  </thead>\n",
       "  <tbody>\n",
       "    <tr>\n",
       "      <th>0</th>\n",
       "      <td>\"\\r\\n\\r\\n A barnstar for you! \\r\\n\\r\\n  The De...</td>\n",
       "      <td>0</td>\n",
       "    </tr>\n",
       "    <tr>\n",
       "      <th>1</th>\n",
       "      <td>\"\\r\\n\\r\\nThis seems unbalanced.  whatever I ha...</td>\n",
       "      <td>0</td>\n",
       "    </tr>\n",
       "    <tr>\n",
       "      <th>2</th>\n",
       "      <td>Marya Dzmitruk was born in Minsk, Belarus in M...</td>\n",
       "      <td>0</td>\n",
       "    </tr>\n",
       "    <tr>\n",
       "      <th>3</th>\n",
       "      <td>\"\\r\\n\\r\\nTalkback\\r\\n\\r\\n Dear Celestia...  \"</td>\n",
       "      <td>0</td>\n",
       "    </tr>\n",
       "    <tr>\n",
       "      <th>4</th>\n",
       "      <td>New Categories \\r\\n\\r\\nI honestly think that w...</td>\n",
       "      <td>0</td>\n",
       "    </tr>\n",
       "  </tbody>\n",
       "</table>\n",
       "</div>"
      ],
      "text/plain": [
       "                                        comment_text  toxic\n",
       "0  \"\\r\\n\\r\\n A barnstar for you! \\r\\n\\r\\n  The De...      0\n",
       "1  \"\\r\\n\\r\\nThis seems unbalanced.  whatever I ha...      0\n",
       "2  Marya Dzmitruk was born in Minsk, Belarus in M...      0\n",
       "3      \"\\r\\n\\r\\nTalkback\\r\\n\\r\\n Dear Celestia...  \"      0\n",
       "4  New Categories \\r\\n\\r\\nI honestly think that w...      0"
      ]
     },
     "execution_count": 7,
     "metadata": {},
     "output_type": "execute_result"
    }
   ],
   "source": [
    "# Read Data and exclude Id Column\n",
    "\n",
    "df = pd.read_csv('train.csv', usecols=['comment_text','toxic'])\n",
    "df.head()"
   ]
  },
  {
   "cell_type": "markdown",
   "metadata": {},
   "source": [
    "<font size = 4px color = 'black'><b>1.1 Check if Data Is Balanced </b></font>"
   ]
  },
  {
   "cell_type": "code",
   "execution_count": 35,
   "metadata": {},
   "outputs": [
    {
     "data": {
      "image/png": "[encoded data removed]",
      "text/plain": [
       "<Figure size 864x432 with 1 Axes>"
      ]
     },
     "metadata": {
      "needs_background": "light"
     },
     "output_type": "display_data"
    }
   ],
   "source": [
    "plt.figure(figsize=(12,6))\n",
    "sns.countplot(df.toxic)\n",
    "ax = sns.countplot(df.toxic)\n",
    "ax.set_title('Count of Comments', fontsize=20,pad=10)\n",
    "plt.xticks([0,1],['Not Toxic','Toxic'])\n",
    "plt.xlabel('Comments')\n",
    "for p in ax.patches:\n",
    "    ax.annotate(f'\\n{p.get_height()}', (p.get_x()+0.4, p.get_height()), ha='center', va='top', color='white', size=15)\n",
    "plt.show()"
   ]
  },
  {
   "cell_type": "markdown",
   "metadata": {},
   "source": [
    "<hr>\n",
    "\n",
    "<font color = \"blue\" size=4px> <b>Interpretation : </b></font>\n",
    "\n",
    "<li> <font color = \"red\" size=4px>4563 Comments are classified as Non-Toxic and 437 are Classified as Toxic </font>\n",
    "<li> <font color = \"red\" size=4px>Data is Highly Imbalanced</font>\n",
    "\n",
    "    \n",
    "<hr>"
   ]
  },
  {
   "cell_type": "markdown",
   "metadata": {},
   "source": [
    "<font size = 5.5px color = 'darkgreen'><b>Task 2: Get the comments into a list, for easy text cleanup and manipulation </b></font>"
   ]
  },
  {
   "cell_type": "code",
   "execution_count": 12,
   "metadata": {},
   "outputs": [
    {
     "data": {
      "text/plain": [
       "array(['\"\\r\\n\\r\\n A barnstar for you! \\r\\n\\r\\n  The Defender of the Wiki Barnstar I like your edit on the Kayastha page. Lets form a solidarity group against those who malign the article and its subject matter. I propose the folloing name for the group.\\r\\n\\r\\nUnited intellectuals\\' front of Kayastha ethinicty against racist or castist abuse (UIFKEARCA)   \"'],\n",
       "      dtype=object)"
      ]
     },
     "execution_count": 12,
     "metadata": {},
     "output_type": "execute_result"
    }
   ],
   "source": [
    "comments = df.comment_text.values\n",
    "comments[0:1]"
   ]
  },
  {
   "cell_type": "markdown",
   "metadata": {},
   "source": [
    "<font size = 4px color = 'black'><b>2.1 Lenght of Comments</b></font>"
   ]
  },
  {
   "cell_type": "code",
   "execution_count": 13,
   "metadata": {},
   "outputs": [
    {
     "name": "stdout",
     "output_type": "stream",
     "text": [
      "Total Comments :  5000\n"
     ]
    }
   ],
   "source": [
    "print(\"Total Comments : \",len(comments))"
   ]
  },
  {
   "cell_type": "markdown",
   "metadata": {},
   "source": [
    "<font size = 5.5px color = 'darkgreen'><b>Task 3: Clean UP</b></font>\n",
    "<li> Using Regular expressions, remove IP addresses  \n",
    "<li> Using Regular expressions, remove URLs  \n",
    "<li> Normalize the case  \n",
    "<li> Remove stop words  \n",
    "<li> Remove punctuations"
   ]
  },
  {
   "cell_type": "code",
   "execution_count": 101,
   "metadata": {},
   "outputs": [],
   "source": [
    "# Defining Function to do all above tasks\n",
    "\n",
    "\n",
    "\n",
    "def clean_up(comments):\n",
    "    \n",
    "    # remove IP addresses\n",
    "    comments_noip = [re.sub('[\\d+\\.{3}]\\d+',\"\",txt) for txt in comments]\n",
    "    \n",
    "    # Normalize the case\n",
    "    comments_lower = [txt.lower() for txt in comments_noip]\n",
    "    \n",
    "    # remove URLs\n",
    "    comments_nourl = [re.sub(\"\\w+://\\S+\",\"\", txt) for txt in comments_lower]\n",
    "    # Remove extra line breaks\n",
    "    comments_nourl = [txt.replace(\"\\'\",\"\") for txt in comments_nourl]\n",
    "    \n",
    "    # tokenize\n",
    "    comment_tokens = [word_tokenize(sent) for sent in comments_nourl]\n",
    "    \n",
    "    # Remove stop words and punctuations\n",
    "    stop_nltk = stopwords.words(\"english\")\n",
    "    stop_punct = list(punctuation)\n",
    "    stop_final = stop_nltk + stop_punct + [\"...\", \"``\",\"''\", \"====\", \"must\"]\n",
    "\n",
    "    def del_stop(sent):\n",
    "        return [lemmatizer.lemmatize(term) for term in sent if term not in stop_final]\n",
    "    \n",
    "    return [del_stop(sent) for sent in comment_tokens]\n",
    "    "
   ]
  },
  {
   "cell_type": "code",
   "execution_count": 106,
   "metadata": {},
   "outputs": [
    {
     "data": {
      "text/plain": [
       "['barnstar',\n",
       " 'defender',\n",
       " 'wiki',\n",
       " 'barnstar',\n",
       " 'like',\n",
       " 'edit',\n",
       " 'kayastha',\n",
       " 'page',\n",
       " 'let',\n",
       " 'form',\n",
       " 'solidarity',\n",
       " 'group',\n",
       " 'malign',\n",
       " 'article',\n",
       " 'subject',\n",
       " 'matter',\n",
       " 'propose',\n",
       " 'folloing',\n",
       " 'name',\n",
       " 'group',\n",
       " 'united',\n",
       " 'intellectual',\n",
       " 'front',\n",
       " 'kayastha',\n",
       " 'ethinicty',\n",
       " 'racist',\n",
       " 'castist',\n",
       " 'abuse',\n",
       " 'uifkearca']"
      ]
     },
     "execution_count": 106,
     "metadata": {},
     "output_type": "execute_result"
    }
   ],
   "source": [
    "# Call Fucntion store the cleaned comments\n",
    "\n",
    "cleaned_comments = clean_up(comments)\n",
    "cleaned_comments[0:1][0]"
   ]
  },
  {
   "cell_type": "markdown",
   "metadata": {},
   "source": [
    "<font size = 5.5px color = 'darkgreen'><b>Task 4: Using a counter, find the top terms in the data. </b></font>"
   ]
  },
  {
   "cell_type": "code",
   "execution_count": 109,
   "metadata": {},
   "outputs": [
    {
     "data": {
      "text/plain": [
       "[('article', 2205),\n",
       " ('page', 1835),\n",
       " ('wikipedia', 1340),\n",
       " ('talk', 1178),\n",
       " ('please', 1039),\n",
       " ('as', 986),\n",
       " ('would', 964),\n",
       " ('one', 918),\n",
       " ('fuck', 909),\n",
       " ('like', 847),\n",
       " ('dont', 780),\n",
       " ('also', 657),\n",
       " ('think', 653),\n",
       " ('see', 639),\n",
       " ('source', 619),\n",
       " ('know', 613),\n",
       " ('name', 609),\n",
       " ('time', 587),\n",
       " ('people', 563),\n",
       " ('im', 562)]"
      ]
     },
     "execution_count": 109,
     "metadata": {},
     "output_type": "execute_result"
    }
   ],
   "source": [
    "# Getting the top 20 terms in data\n",
    "\n",
    "term_list = []\n",
    "for sent in cleaned_comments:\n",
    "    term_list.extend(sent)\n",
    "\n",
    "res = Counter(term_list)\n",
    "res.most_common(20)"
   ]
  },
  {
   "cell_type": "markdown",
   "metadata": {},
   "source": [
    "<hr>\n",
    "\n",
    "<font color = \"blue\" size=4px> <b>Interpretation : </b></font>\n",
    "\n",
    "<li> <font color = \"red\" size=4px>Contextual stop words = \"article\", \"page\", \"wikipedia\", \"talk\", \"articles\", \"pages\" </font>\n",
    "\n",
    "\n",
    "    \n",
    "<hr>"
   ]
  },
  {
   "cell_type": "markdown",
   "metadata": {},
   "source": [
    "<font size = 4px color = 'black'><b>4.1 Lets drop the contexual Stopwords</b></font>"
   ]
  },
  {
   "cell_type": "code",
   "execution_count": 110,
   "metadata": {},
   "outputs": [
    {
     "data": {
      "text/plain": [
       "['barnstar defender wiki barnstar like edit kayastha let form solidarity group malign subject matter propose folloing name group united intellectual front kayastha ethinicty racist castist abuse uifkearca',\n",
       " 'seems unbalanced whatever said mathsci said far extreme unpleasant thing mention others much greater frequency im happy reign thats youd like ruth told trying get mathsci pay attention stop uncivil would expect issue request mathsci intentionally unbalanced whatever reason please let know voluntarily close account move thing like lot contribute way point contributing project editor administrative leave aggressively rude im good editor dont really deserve people riding as every time try certain thing ill happily leave hand drama-prone thats think best ludwigs2']"
      ]
     },
     "execution_count": 110,
     "metadata": {},
     "output_type": "execute_result"
    }
   ],
   "source": [
    "stop_context = [\"article\", \"page\", \"wikipedia\", \"talk\", \"articles\", \"pages\"]\n",
    "\n",
    "stop_final = stop_final + stop_context\n",
    "\n",
    "comments_clean = [del_stop(sent) for sent in comment_tokens]\n",
    "\n",
    "comments_clean = [\" \".join(sent) for sent in comments_clean]\n",
    "comments_clean[:2]"
   ]
  },
  {
   "cell_type": "markdown",
   "metadata": {},
   "source": [
    "<font size = 5.5px color = 'darkgreen'><b>Task 5: Separate into train and test sets (70-30 ratio) </b></font>"
   ]
  },
  {
   "cell_type": "code",
   "execution_count": 114,
   "metadata": {},
   "outputs": [],
   "source": [
    "# Define Features and Target \n",
    "\n",
    "X = comments_clean\n",
    "y = df.toxic"
   ]
  },
  {
   "cell_type": "code",
   "execution_count": 122,
   "metadata": {},
   "outputs": [
    {
     "name": "stdout",
     "output_type": "stream",
     "text": [
      "Shape of training set :  3500\n",
      "Shape of testing set :  1500\n"
     ]
    }
   ],
   "source": [
    "# Split the data into training and testing set\n",
    "\n",
    "x_train, x_test, y_train, y_test = train_test_split(X,y,test_size=0.30, random_state = 42)\n",
    "print(\"Shape of training set : \",len(x_train))\n",
    "print(\"Shape of testing set : \",len(x_test))"
   ]
  },
  {
   "cell_type": "markdown",
   "metadata": {},
   "source": [
    "<font size = 5.5px color = 'darkgreen'><b>Task 6: Use TF-IDF values for the terms as feature to get into a vector space model </b></font>"
   ]
  },
  {
   "cell_type": "code",
   "execution_count": 172,
   "metadata": {},
   "outputs": [
    {
     "name": "stdout",
     "output_type": "stream",
     "text": [
      "Shape of Training set :  (3500, 3337)\n",
      "Shape of Testing set :  (1500, 3337)\n"
     ]
    }
   ],
   "source": [
    "# Instantiate with a maximum of 4000 terms in your vocabulary\n",
    "\n",
    "cvect =  TfidfVectorizer(ngram_range=(1, 2),min_df=5,max_features=4000,stop_words='english')\n",
    "X_train_dtm = cvect.fit_transform(x_train)\n",
    "X_test_dtm = cvect.transform(x_test)\n",
    "\n",
    "print(\"Shape of Training set : \",X_train_dtm.shape)\n",
    "print(\"Shape of Testing set : \",X_test_dtm.shape)"
   ]
  },
  {
   "cell_type": "markdown",
   "metadata": {},
   "source": [
    "<font size = 5.5px color = 'darkgreen'><b>Task 7: Model building: Support Vector Machine</b></font>"
   ]
  },
  {
   "cell_type": "code",
   "execution_count": 173,
   "metadata": {},
   "outputs": [
    {
     "data": {
      "text/plain": [
       "SVC(kernel='linear')"
      ]
     },
     "execution_count": 173,
     "metadata": {},
     "output_type": "execute_result"
    }
   ],
   "source": [
    "# Creating estimator Object\n",
    "classifier_linear = SVC(kernel='linear')\n",
    "\n",
    "# Fitting the model\n",
    "classifier_linear.fit(X_train_dtm, y_train)\n"
   ]
  },
  {
   "cell_type": "markdown",
   "metadata": {},
   "source": [
    "<font size = 5.5px color = 'darkgreen'><b>Task 8: Model evaluation: Accuracy, recall, and f1_score</b></font>"
   ]
  },
  {
   "cell_type": "code",
   "execution_count": 174,
   "metadata": {},
   "outputs": [
    {
     "name": "stdout",
     "output_type": "stream",
     "text": [
      "              precision    recall  f1-score   support\n",
      "\n",
      "           0       0.97      1.00      0.98      3196\n",
      "           1       0.99      0.64      0.78       304\n",
      "\n",
      "    accuracy                           0.97      3500\n",
      "   macro avg       0.98      0.82      0.88      3500\n",
      "weighted avg       0.97      0.97      0.97      3500\n",
      "\n"
     ]
    }
   ],
   "source": [
    "# Classification Report \n",
    "print(metrics.classification_report(y_train, classifier_linear.predict(X_train_dtm)))"
   ]
  },
  {
   "cell_type": "markdown",
   "metadata": {},
   "source": [
    "<hr>\n",
    "\n",
    "<font color = \"blue\" size=4px> <b>Interpretation : </b></font>\n",
    "\n",
    "<li> <font color = \"red\" size=4px>Recall of 1 is pretty bad lets adjust the class_wieght as data is imbalanced</font>\n",
    "\n",
    "\n",
    "    \n",
    "<hr>"
   ]
  },
  {
   "cell_type": "markdown",
   "metadata": {},
   "source": [
    "<font size = 5.5px color = 'darkgreen'><b>Task 9-10:Adjusting the class weights to improve the recall for the label</b></font>"
   ]
  },
  {
   "cell_type": "code",
   "execution_count": 175,
   "metadata": {},
   "outputs": [
    {
     "name": "stdout",
     "output_type": "stream",
     "text": [
      "              precision    recall  f1-score   support\n",
      "\n",
      "           0       1.00      0.98      0.99      3196\n",
      "           1       0.83      0.99      0.90       304\n",
      "\n",
      "    accuracy                           0.98      3500\n",
      "   macro avg       0.91      0.98      0.95      3500\n",
      "weighted avg       0.98      0.98      0.98      3500\n",
      "\n"
     ]
    }
   ],
   "source": [
    "# Creating estimator Object\n",
    "classifier_linear = SVC(kernel='linear', class_weight=\"balanced\")\n",
    "\n",
    "# Fitting the model\n",
    "classifier_linear.fit(X_train_dtm, y_train)\n",
    "\n",
    "y_train_pred = classifier_linear.predict(X_train_dtm)\n",
    "\n",
    "print(metrics.classification_report(y_train, y_train_pred))"
   ]
  },
  {
   "cell_type": "markdown",
   "metadata": {},
   "source": [
    "#### Much better!"
   ]
  },
  {
   "cell_type": "markdown",
   "metadata": {},
   "source": [
    "<font size = 5.5px color = 'darkgreen'><b>Task 11:Hyperparameter tuning</b></font>"
   ]
  },
  {
   "cell_type": "code",
   "execution_count": 176,
   "metadata": {},
   "outputs": [
    {
     "name": "stdout",
     "output_type": "stream",
     "text": [
      "Fitting 5 folds for each of 36 candidates, totalling 180 fits\n"
     ]
    },
    {
     "name": "stderr",
     "output_type": "stream",
     "text": [
      "[Parallel(n_jobs=-1)]: Using backend LokyBackend with 4 concurrent workers.\n",
      "[Parallel(n_jobs=-1)]: Done  42 tasks      | elapsed:   20.9s\n",
      "[Parallel(n_jobs=-1)]: Done 180 out of 180 | elapsed:   56.1s finished\n"
     ]
    },
    {
     "data": {
      "text/plain": [
       "GridSearchCV(cv=StratifiedKFold(n_splits=5, random_state=None, shuffle=False),\n",
       "             estimator=SVC(class_weight='balanced', kernel='linear',\n",
       "                           random_state=42),\n",
       "             n_jobs=-1,\n",
       "             param_grid={'C': [0.1, 1, 10, 1000, 10000, 100000],\n",
       "                         'gamma': [1, 0.1, 0.01, 0.001, 0.0015, 0.0001]},\n",
       "             scoring='recall', verbose=1)"
      ]
     },
     "execution_count": 176,
     "metadata": {},
     "output_type": "execute_result"
    }
   ],
   "source": [
    "# Create the parameter grid based on the results of random search \n",
    "param_grid = {\n",
    "    'C': [0.1, 1, 10,1000, 10000, 100000],\n",
    "    'gamma': [1, 0.1, 0.01, 0.001,0.0015, 0.0001]\n",
    "}\n",
    "\n",
    "# Instantiate the grid search model\n",
    "grid_search = GridSearchCV(estimator = SVC(random_state=42, class_weight=\"balanced\", kernel=\"linear\"), param_grid = param_grid, \n",
    "                          cv = StratifiedKFold(5), n_jobs = -1, verbose = 1, scoring = \"recall\" )\n",
    "\n",
    "grid_search.fit(X_train_dtm, y_train)"
   ]
  },
  {
   "cell_type": "markdown",
   "metadata": {},
   "source": [
    "<font size = 5.5px color = 'darkgreen'><b>Task 12:Find the parameters with the best recall in cross validation</b></font>"
   ]
  },
  {
   "cell_type": "code",
   "execution_count": 177,
   "metadata": {},
   "outputs": [
    {
     "data": {
      "text/plain": [
       "SVC(C=1000, class_weight='balanced', gamma=1, kernel='linear', random_state=42)"
      ]
     },
     "execution_count": 177,
     "metadata": {},
     "output_type": "execute_result"
    }
   ],
   "source": [
    "grid_search.best_estimator_"
   ]
  },
  {
   "cell_type": "markdown",
   "metadata": {},
   "source": [
    "<font size = 5.5px color = 'darkgreen'><b>Task 13:What are the best parameters?</b></font>"
   ]
  },
  {
   "cell_type": "code",
   "execution_count": 178,
   "metadata": {},
   "outputs": [
    {
     "data": {
      "text/plain": [
       "{'C': 1000, 'gamma': 1}"
      ]
     },
     "execution_count": 178,
     "metadata": {},
     "output_type": "execute_result"
    }
   ],
   "source": [
    "grid_search.best_params_"
   ]
  },
  {
   "cell_type": "markdown",
   "metadata": {},
   "source": [
    "<font size = 5.5px color = 'darkgreen'><b>Task 14:Predict and evaluate using the best estimator</b></font>"
   ]
  },
  {
   "cell_type": "code",
   "execution_count": 179,
   "metadata": {
    "scrolled": true
   },
   "outputs": [
    {
     "name": "stdout",
     "output_type": "stream",
     "text": [
      "              precision    recall  f1-score   support\n",
      "\n",
      "           0       0.97      0.87      0.91      1367\n",
      "           1       0.33      0.69      0.45       133\n",
      "\n",
      "    accuracy                           0.85      1500\n",
      "   macro avg       0.65      0.78      0.68      1500\n",
      "weighted avg       0.91      0.85      0.87      1500\n",
      "\n"
     ]
    }
   ],
   "source": [
    "# Predictions\n",
    "y_test_pred = grid_search.best_estimator_.predict(X_test_dtm)\n",
    "\n",
    "# Report \n",
    "print(metrics.classification_report(y_test, y_test_pred))"
   ]
  },
  {
   "cell_type": "markdown",
   "metadata": {},
   "source": [
    "<hr>\n",
    "\n",
    "<font color = \"blue\" size=4px> <b>Interpretation : </b></font>\n",
    "\n",
    "<li> <font color = \"red\" size=4px>What is the recall on the test set for the toxic comments? = 69%</font>\n",
    "<li> <font color = \"red\" size=4px>What is the f1_score? = 85%</font>\n",
    "\n",
    "    \n",
    "<hr>"
   ]
  },
  {
   "cell_type": "markdown",
   "metadata": {},
   "source": [
    "<font size = 5.5px color = 'darkgreen'><b>Task 15: Most prominent terms in the toxic comments</b></font>"
   ]
  },
  {
   "cell_type": "code",
   "execution_count": 180,
   "metadata": {},
   "outputs": [],
   "source": [
    "# Getting toxic Comments\n",
    "\n",
    "toxic_comments = pd.Series(x_test)[y_test_pred == 1].values\n",
    "\n",
    "term_list = []\n",
    "for comment in toxic_comments:\n",
    "    term_list.extend(word_tokenize(comment))"
   ]
  },
  {
   "cell_type": "code",
   "execution_count": 181,
   "metadata": {},
   "outputs": [
    {
     "data": {
      "text/plain": [
       "[('nigger', 264),\n",
       " ('die', 157),\n",
       " ('jim', 157),\n",
       " ('wale', 157),\n",
       " ('cuntbag', 126),\n",
       " ('fucking', 97),\n",
       " ('hate', 89),\n",
       " ('jew', 80),\n",
       " ('spic', 79),\n",
       " ('minority', 79),\n",
       " ('dont', 39),\n",
       " ('like', 23),\n",
       " ('people', 20),\n",
       " ('go', 20),\n",
       " ('would', 20)]"
      ]
     },
     "execution_count": 181,
     "metadata": {},
     "output_type": "execute_result"
    }
   ],
   "source": [
    "# Instializing counter\n",
    "cts = Counter(term_list)\n",
    "\n",
    "# Getting top 15 toxic comments\n",
    "cts.most_common(15)\n",
    "\n"
   ]
  },
  {
   "cell_type": "code",
   "execution_count": null,
   "metadata": {},
   "outputs": [],
   "source": []
  }
 ],
 "metadata": {
  "kernelspec": {
   "display_name": "Python 3 (ipykernel)",
   "language": "python",
   "name": "python3"
  },
  "language_info": {
   "codemirror_mode": {
    "name": "ipython",
    "version": 3
   },
   "file_extension": ".py",
   "mimetype": "text/x-python",
   "name": "python",
   "nbconvert_exporter": "python",
   "pygments_lexer": "ipython3",
   "version": "3.8.8"
  }
 },
 "nbformat": 4,
 "nbformat_minor": 4
}
