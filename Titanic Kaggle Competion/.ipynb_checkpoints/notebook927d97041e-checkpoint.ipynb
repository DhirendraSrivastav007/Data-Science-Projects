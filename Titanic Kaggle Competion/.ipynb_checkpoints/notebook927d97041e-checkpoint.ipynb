{
 "cells": [
  {
   "cell_type": "markdown",
   "metadata": {
    "_cell_guid": "b1076dfc-b9ad-4769-8c92-a6c4dae69d19",
    "_uuid": "8f2839f25d086af736a60e9eeb907d3b93b6e0e5",
    "papermill": {
     "duration": 0.084984,
     "end_time": "2021-05-30T12:10:36.243003",
     "exception": false,
     "start_time": "2021-05-30T12:10:36.158019",
     "status": "completed"
    },
    "tags": []
   },
   "source": [
    " <font size = 1000px color = 'royalblue'><center><b>Titanic - Machine Learning from Disaster<b></center></font>\n",
    " "
   ]
  },
  {
   "cell_type": "markdown",
   "metadata": {
    "papermill": {
     "duration": 0.084778,
     "end_time": "2021-05-30T12:10:36.410196",
     "exception": false,
     "start_time": "2021-05-30T12:10:36.325418",
     "status": "completed"
    },
    "tags": []
   },
   "source": [
    "<hr>\n",
    "\n",
    "# <u>Problem Statement</u> : -\n",
    "\n",
    "\n",
    "* Knowing from a training set of samples listing passengers who survived or did not survive the Titanic disaster, can our model determine based on a given test dataset not containing the survival information, if these passengers in the test dataset survived or not.\n",
    "\n",
    "* We may also want to develop some early understanding about the domain of our problem. This is described on the Kaggle competition description page here. Here are the highlights to note.\n",
    "\n",
    "* On April 15, 1912, during her maiden voyage, the Titanic sank after colliding with an iceberg, killing 1502 out of 2224 passengers and crew. Translated 32% survival rate.\n",
    "One of the reasons that the shipwreck led to such loss of life was that there were not enough lifeboats for the passengers and crew.\n",
    "* Although there was some element of luck involved in surviving the sinking, some groups of people were more likely to survive than others, such as women, children, and the upper-class.\n",
    "\n",
    "\n",
    "# Data Description : -\n",
    "\n",
    "\n",
    "**1. pclass: A proxy for socio-economic status (SES)**\n",
    "- 1st = Upper\n",
    "- 2nd = Middle\n",
    "- 3rd = Lower\n",
    "    \n",
    "\n",
    "**2. age:**\n",
    "\n",
    "* Age is fractional if less than 1. If the age is estimated, is it in the form of xx.5\n",
    "\n",
    "\n",
    "**3. sibsp: The dataset defines family relations in this way...**\n",
    "\n",
    "* Sibling = brother, sister, stepbrother, stepsister\n",
    "* Spouse = husband, wife (mistresses and fiancés were ignored)\n",
    "    \n",
    "\n",
    "**4. parch: The dataset defines family relations in this way...**\n",
    "\n",
    "\n",
    "* Parent = mother, father\n",
    "* Child = daughter, son, stepdaughter, stepson\n",
    "* Some children travelled only with a nanny, therefore parch=0 for them.\n",
    "\n",
    "**4. Embarked :-**\n",
    "\n",
    "* Port of Embarkation\tC = Cherbourg, Q = Queenstown, S = Southampton\n",
    "\n",
    "\n",
    "\n",
    "# Work Flow:\n",
    "\n",
    "1. Acquire the Data\n",
    "2. Data Exploration\n",
    "3. Check For Correlation Among Features and Between Features and Target\n",
    "4. Creating New Features That May Impact Significance in prediction\n",
    "5. Data Cleaning and Preprocessing/ Feature Engineering\n",
    "6. Feature Selection using Random Forest\n",
    "7. Evaluating Different Models\n",
    "8. Selecting Model With Best Score And Predicting the unseen Test data to Model\n",
    "\n",
    "\n",
    "\n",
    "<hr>"
   ]
  },
  {
   "cell_type": "markdown",
   "metadata": {
    "execution": {
     "iopub.execute_input": "2021-05-27T12:54:22.548171Z",
     "iopub.status.busy": "2021-05-27T12:54:22.547671Z",
     "iopub.status.idle": "2021-05-27T12:54:22.556604Z",
     "shell.execute_reply": "2021-05-27T12:54:22.555285Z",
     "shell.execute_reply.started": "2021-05-27T12:54:22.548064Z"
    },
    "papermill": {
     "duration": 0.082861,
     "end_time": "2021-05-30T12:10:36.575803",
     "exception": false,
     "start_time": "2021-05-30T12:10:36.492942",
     "status": "completed"
    },
    "tags": []
   },
   "source": [
    "<font color = \"#191970\" size=6px><center><b>Import Required Libraries</b></font>"
   ]
  },
  {
   "cell_type": "code",
   "execution_count": 1,
   "metadata": {
    "execution": {
     "iopub.execute_input": "2021-05-30T12:10:36.747155Z",
     "iopub.status.busy": "2021-05-30T12:10:36.745964Z",
     "iopub.status.idle": "2021-05-30T12:10:38.230817Z",
     "shell.execute_reply": "2021-05-30T12:10:38.231372Z",
     "shell.execute_reply.started": "2021-05-30T12:07:39.458828Z"
    },
    "papermill": {
     "duration": 1.570897,
     "end_time": "2021-05-30T12:10:38.231674",
     "exception": false,
     "start_time": "2021-05-30T12:10:36.660777",
     "status": "completed"
    },
    "tags": []
   },
   "outputs": [],
   "source": [
    "# Data Wrangling and Data Analysis\n",
    "\n",
    "import pandas as pd , numpy as np\n",
    "\n",
    "# Visualization\n",
    "\n",
    "from matplotlib import pyplot as plt, style\n",
    "import seaborn as sns\n",
    "\n",
    "# Feature Engineering / Feature Selection\n",
    "\n",
    "from sklearn.feature_selection import mutual_info_classif, VarianceThreshold\n",
    "from sklearn.preprocessing import LabelEncoder\n",
    "from sklearn import model_selection\n",
    "from sklearn.model_selection import GridSearchCV, RandomizedSearchCV, KFold, train_test_split\n",
    "from sklearn.preprocessing import StandardScaler\n",
    "\n",
    "# Model Building\n",
    "\n",
    "from sklearn.ensemble import RandomForestClassifier, AdaBoostClassifier, GradientBoostingClassifier\n",
    "from sklearn.svm import SVC\n",
    "from sklearn.naive_bayes import GaussianNB\n",
    "from sklearn.neighbors import KNeighborsClassifier\n",
    "from xgboost import XGBClassifier\n",
    "from sklearn import metrics\n",
    "\n",
    "# Ignore Warings\n",
    "\n",
    "import warnings\n",
    "warnings.filterwarnings(\"ignore\")"
   ]
  },
  {
   "cell_type": "markdown",
   "metadata": {
    "execution": {
     "iopub.execute_input": "2021-05-27T12:54:22.548171Z",
     "iopub.status.busy": "2021-05-27T12:54:22.547671Z",
     "iopub.status.idle": "2021-05-27T12:54:22.556604Z",
     "shell.execute_reply": "2021-05-27T12:54:22.555285Z",
     "shell.execute_reply.started": "2021-05-27T12:54:22.548064Z"
    },
    "papermill": {
     "duration": 0.081998,
     "end_time": "2021-05-30T12:10:38.396282",
     "exception": false,
     "start_time": "2021-05-30T12:10:38.314284",
     "status": "completed"
    },
    "tags": []
   },
   "source": [
    "<font color = \"#191970\" size=6px><center><b>Data Collection</b></font>"
   ]
  },
  {
   "cell_type": "code",
   "execution_count": 2,
   "metadata": {
    "execution": {
     "iopub.execute_input": "2021-05-30T12:10:38.569282Z",
     "iopub.status.busy": "2021-05-30T12:10:38.568371Z",
     "iopub.status.idle": "2021-05-30T12:10:38.596587Z",
     "shell.execute_reply": "2021-05-30T12:10:38.595796Z",
     "shell.execute_reply.started": "2021-05-30T12:07:39.471742Z"
    },
    "papermill": {
     "duration": 0.116983,
     "end_time": "2021-05-30T12:10:38.596762",
     "exception": false,
     "start_time": "2021-05-30T12:10:38.479779",
     "status": "completed"
    },
    "tags": []
   },
   "outputs": [],
   "source": [
    "# Read Train Data \n",
    "df_train = pd.read_csv(\"../input/titanic/train.csv\")\n",
    "\n",
    "# Read Test Data \n",
    "df_test = pd.read_csv(\"../input/titanic/test.csv\")\n",
    "\n",
    "# Combine Train and Test DataFrame in a List\n",
    "combine_df = [df_train, df_test]"
   ]
  },
  {
   "cell_type": "markdown",
   "metadata": {
    "execution": {
     "iopub.execute_input": "2021-05-27T12:54:22.548171Z",
     "iopub.status.busy": "2021-05-27T12:54:22.547671Z",
     "iopub.status.idle": "2021-05-27T12:54:22.556604Z",
     "shell.execute_reply": "2021-05-27T12:54:22.555285Z",
     "shell.execute_reply.started": "2021-05-27T12:54:22.548064Z"
    },
    "papermill": {
     "duration": 0.081821,
     "end_time": "2021-05-30T12:10:38.762502",
     "exception": false,
     "start_time": "2021-05-30T12:10:38.680681",
     "status": "completed"
    },
    "tags": []
   },
   "source": [
    "<font color = \"#191970\" size=6px><center><b>Exploratory Data Anylysis</b></font>"
   ]
  },
  {
   "cell_type": "markdown",
   "metadata": {
    "papermill": {
     "duration": 0.084044,
     "end_time": "2021-05-30T12:10:38.929178",
     "exception": false,
     "start_time": "2021-05-30T12:10:38.845134",
     "status": "completed"
    },
    "tags": []
   },
   "source": [
    "### Shape Of Train and Test Data"
   ]
  },
  {
   "cell_type": "code",
   "execution_count": 3,
   "metadata": {
    "execution": {
     "iopub.execute_input": "2021-05-30T12:10:39.101614Z",
     "iopub.status.busy": "2021-05-30T12:10:39.100813Z",
     "iopub.status.idle": "2021-05-30T12:10:39.104489Z",
     "shell.execute_reply": "2021-05-30T12:10:39.105397Z",
     "shell.execute_reply.started": "2021-05-30T12:07:39.509548Z"
    },
    "papermill": {
     "duration": 0.092241,
     "end_time": "2021-05-30T12:10:39.105631",
     "exception": false,
     "start_time": "2021-05-30T12:10:39.013390",
     "status": "completed"
    },
    "tags": []
   },
   "outputs": [
    {
     "name": "stdout",
     "output_type": "stream",
     "text": [
      "Train Shape : (891, 12)\n",
      "Test Shape : (418, 11)\n"
     ]
    }
   ],
   "source": [
    "print(f\"Train Shape : {combine_df[0].shape}\\nTest Shape : {combine_df[1].shape}\")"
   ]
  },
  {
   "cell_type": "markdown",
   "metadata": {
    "papermill": {
     "duration": 0.082093,
     "end_time": "2021-05-30T12:10:39.273351",
     "exception": false,
     "start_time": "2021-05-30T12:10:39.191258",
     "status": "completed"
    },
    "tags": []
   },
   "source": [
    "### Lets Look at Columns Of data "
   ]
  },
  {
   "cell_type": "code",
   "execution_count": 4,
   "metadata": {
    "execution": {
     "iopub.execute_input": "2021-05-30T12:10:39.452928Z",
     "iopub.status.busy": "2021-05-30T12:10:39.452256Z",
     "iopub.status.idle": "2021-05-30T12:10:39.455304Z",
     "shell.execute_reply": "2021-05-30T12:10:39.455817Z",
     "shell.execute_reply.started": "2021-05-30T12:07:39.518252Z"
    },
    "papermill": {
     "duration": 0.100197,
     "end_time": "2021-05-30T12:10:39.456018",
     "exception": false,
     "start_time": "2021-05-30T12:10:39.355821",
     "status": "completed"
    },
    "tags": []
   },
   "outputs": [
    {
     "name": "stdout",
     "output_type": "stream",
     "text": [
      "Index(['PassengerId', 'Survived', 'Pclass', 'Age', 'SibSp', 'Parch', 'Fare'], dtype='object')\n"
     ]
    }
   ],
   "source": [
    "print(df_train.select_dtypes([np.float64,np.int64]).columns)"
   ]
  },
  {
   "cell_type": "markdown",
   "metadata": {
    "papermill": {
     "duration": 0.085603,
     "end_time": "2021-05-30T12:10:39.625554",
     "exception": false,
     "start_time": "2021-05-30T12:10:39.539951",
     "status": "completed"
    },
    "tags": []
   },
   "source": [
    "* **Numeric Features** : -\n",
    "\n",
    "    * **Continous** :- Age, Fare.\n",
    "    * **Discrete** :-  SibSp, Parch."
   ]
  },
  {
   "cell_type": "code",
   "execution_count": 5,
   "metadata": {
    "execution": {
     "iopub.execute_input": "2021-05-30T12:10:39.794531Z",
     "iopub.status.busy": "2021-05-30T12:10:39.793881Z",
     "iopub.status.idle": "2021-05-30T12:10:39.804098Z",
     "shell.execute_reply": "2021-05-30T12:10:39.804883Z",
     "shell.execute_reply.started": "2021-05-30T12:07:39.547892Z"
    },
    "papermill": {
     "duration": 0.096173,
     "end_time": "2021-05-30T12:10:39.805140",
     "exception": false,
     "start_time": "2021-05-30T12:10:39.708967",
     "status": "completed"
    },
    "tags": []
   },
   "outputs": [
    {
     "name": "stdout",
     "output_type": "stream",
     "text": [
      "Index(['Name', 'Sex', 'Ticket', 'Cabin', 'Embarked'], dtype='object')\n"
     ]
    }
   ],
   "source": [
    "print(df_train.select_dtypes(np.object).columns)"
   ]
  },
  {
   "cell_type": "markdown",
   "metadata": {
    "papermill": {
     "duration": 0.084799,
     "end_time": "2021-05-30T12:10:39.976549",
     "exception": false,
     "start_time": "2021-05-30T12:10:39.891750",
     "status": "completed"
    },
    "tags": []
   },
   "source": [
    "* **Categorical : -**\n",
    "\n",
    "   * **Nominal** :- Survived, Sex, and Embarked. \n",
    "   * **Ordinal** :-  Pclass.\n",
    "   \n",
    "   \n"
   ]
  },
  {
   "cell_type": "markdown",
   "metadata": {
    "papermill": {
     "duration": 0.085012,
     "end_time": "2021-05-30T12:10:40.148737",
     "exception": false,
     "start_time": "2021-05-30T12:10:40.063725",
     "status": "completed"
    },
    "tags": []
   },
   "source": [
    "### Lets View Our Data Once"
   ]
  },
  {
   "cell_type": "code",
   "execution_count": 6,
   "metadata": {
    "execution": {
     "iopub.execute_input": "2021-05-30T12:10:40.323931Z",
     "iopub.status.busy": "2021-05-30T12:10:40.323191Z",
     "iopub.status.idle": "2021-05-30T12:10:40.344821Z",
     "shell.execute_reply": "2021-05-30T12:10:40.345468Z",
     "shell.execute_reply.started": "2021-05-30T12:07:39.591123Z"
    },
    "papermill": {
     "duration": 0.112519,
     "end_time": "2021-05-30T12:10:40.345649",
     "exception": false,
     "start_time": "2021-05-30T12:10:40.233130",
     "status": "completed"
    },
    "tags": []
   },
   "outputs": [
    {
     "data": {
      "text/html": [
       "<div>\n",
       "<style scoped>\n",
       "    .dataframe tbody tr th:only-of-type {\n",
       "        vertical-align: middle;\n",
       "    }\n",
       "\n",
       "    .dataframe tbody tr th {\n",
       "        vertical-align: top;\n",
       "    }\n",
       "\n",
       "    .dataframe thead th {\n",
       "        text-align: right;\n",
       "    }\n",
       "</style>\n",
       "<table border=\"1\" class=\"dataframe\">\n",
       "  <thead>\n",
       "    <tr style=\"text-align: right;\">\n",
       "      <th></th>\n",
       "      <th>PassengerId</th>\n",
       "      <th>Survived</th>\n",
       "      <th>Pclass</th>\n",
       "      <th>Name</th>\n",
       "      <th>Sex</th>\n",
       "      <th>Age</th>\n",
       "      <th>SibSp</th>\n",
       "      <th>Parch</th>\n",
       "      <th>Ticket</th>\n",
       "      <th>Fare</th>\n",
       "      <th>Cabin</th>\n",
       "      <th>Embarked</th>\n",
       "    </tr>\n",
       "  </thead>\n",
       "  <tbody>\n",
       "    <tr>\n",
       "      <th>0</th>\n",
       "      <td>1</td>\n",
       "      <td>0</td>\n",
       "      <td>3</td>\n",
       "      <td>Braund, Mr. Owen Harris</td>\n",
       "      <td>male</td>\n",
       "      <td>22.0</td>\n",
       "      <td>1</td>\n",
       "      <td>0</td>\n",
       "      <td>A/5 21171</td>\n",
       "      <td>7.2500</td>\n",
       "      <td>NaN</td>\n",
       "      <td>S</td>\n",
       "    </tr>\n",
       "    <tr>\n",
       "      <th>1</th>\n",
       "      <td>2</td>\n",
       "      <td>1</td>\n",
       "      <td>1</td>\n",
       "      <td>Cumings, Mrs. John Bradley (Florence Briggs Th...</td>\n",
       "      <td>female</td>\n",
       "      <td>38.0</td>\n",
       "      <td>1</td>\n",
       "      <td>0</td>\n",
       "      <td>PC 17599</td>\n",
       "      <td>71.2833</td>\n",
       "      <td>C85</td>\n",
       "      <td>C</td>\n",
       "    </tr>\n",
       "    <tr>\n",
       "      <th>2</th>\n",
       "      <td>3</td>\n",
       "      <td>1</td>\n",
       "      <td>3</td>\n",
       "      <td>Heikkinen, Miss. Laina</td>\n",
       "      <td>female</td>\n",
       "      <td>26.0</td>\n",
       "      <td>0</td>\n",
       "      <td>0</td>\n",
       "      <td>STON/O2. 3101282</td>\n",
       "      <td>7.9250</td>\n",
       "      <td>NaN</td>\n",
       "      <td>S</td>\n",
       "    </tr>\n",
       "    <tr>\n",
       "      <th>3</th>\n",
       "      <td>4</td>\n",
       "      <td>1</td>\n",
       "      <td>1</td>\n",
       "      <td>Futrelle, Mrs. Jacques Heath (Lily May Peel)</td>\n",
       "      <td>female</td>\n",
       "      <td>35.0</td>\n",
       "      <td>1</td>\n",
       "      <td>0</td>\n",
       "      <td>113803</td>\n",
       "      <td>53.1000</td>\n",
       "      <td>C123</td>\n",
       "      <td>S</td>\n",
       "    </tr>\n",
       "    <tr>\n",
       "      <th>4</th>\n",
       "      <td>5</td>\n",
       "      <td>0</td>\n",
       "      <td>3</td>\n",
       "      <td>Allen, Mr. William Henry</td>\n",
       "      <td>male</td>\n",
       "      <td>35.0</td>\n",
       "      <td>0</td>\n",
       "      <td>0</td>\n",
       "      <td>373450</td>\n",
       "      <td>8.0500</td>\n",
       "      <td>NaN</td>\n",
       "      <td>S</td>\n",
       "    </tr>\n",
       "  </tbody>\n",
       "</table>\n",
       "</div>"
      ],
      "text/plain": [
       "   PassengerId  Survived  Pclass  \\\n",
       "0            1         0       3   \n",
       "1            2         1       1   \n",
       "2            3         1       3   \n",
       "3            4         1       1   \n",
       "4            5         0       3   \n",
       "\n",
       "                                                Name     Sex   Age  SibSp  \\\n",
       "0                            Braund, Mr. Owen Harris    male  22.0      1   \n",
       "1  Cumings, Mrs. John Bradley (Florence Briggs Th...  female  38.0      1   \n",
       "2                             Heikkinen, Miss. Laina  female  26.0      0   \n",
       "3       Futrelle, Mrs. Jacques Heath (Lily May Peel)  female  35.0      1   \n",
       "4                           Allen, Mr. William Henry    male  35.0      0   \n",
       "\n",
       "   Parch            Ticket     Fare Cabin Embarked  \n",
       "0      0         A/5 21171   7.2500   NaN        S  \n",
       "1      0          PC 17599  71.2833   C85        C  \n",
       "2      0  STON/O2. 3101282   7.9250   NaN        S  \n",
       "3      0            113803  53.1000  C123        S  \n",
       "4      0            373450   8.0500   NaN        S  "
      ]
     },
     "execution_count": 6,
     "metadata": {},
     "output_type": "execute_result"
    }
   ],
   "source": [
    "df_train.head()"
   ]
  },
  {
   "cell_type": "markdown",
   "metadata": {
    "papermill": {
     "duration": 0.083231,
     "end_time": "2021-05-30T12:10:40.513674",
     "exception": false,
     "start_time": "2021-05-30T12:10:40.430443",
     "status": "completed"
    },
    "tags": []
   },
   "source": [
    "### Lets Check for null Values"
   ]
  },
  {
   "cell_type": "code",
   "execution_count": 7,
   "metadata": {
    "execution": {
     "iopub.execute_input": "2021-05-30T12:10:40.684723Z",
     "iopub.status.busy": "2021-05-30T12:10:40.684100Z",
     "iopub.status.idle": "2021-05-30T12:10:40.710512Z",
     "shell.execute_reply": "2021-05-30T12:10:40.709810Z",
     "shell.execute_reply.started": "2021-05-30T12:07:39.614507Z"
    },
    "papermill": {
     "duration": 0.113431,
     "end_time": "2021-05-30T12:10:40.710658",
     "exception": false,
     "start_time": "2021-05-30T12:10:40.597227",
     "status": "completed"
    },
    "tags": []
   },
   "outputs": [
    {
     "data": {
      "text/plain": [
       "PassengerId     0.000000\n",
       "Survived        0.000000\n",
       "Pclass          0.000000\n",
       "Name            0.000000\n",
       "Sex             0.000000\n",
       "Age            19.865320\n",
       "SibSp           0.000000\n",
       "Parch           0.000000\n",
       "Ticket          0.000000\n",
       "Fare            0.000000\n",
       "Cabin          77.104377\n",
       "Embarked        0.224467\n",
       "dtype: float64"
      ]
     },
     "execution_count": 7,
     "metadata": {},
     "output_type": "execute_result"
    }
   ],
   "source": [
    "# Lets Check For Null Values by percentage\n",
    "\n",
    "df_train.isnull().sum()/df_train.shape[0]*100"
   ]
  },
  {
   "cell_type": "markdown",
   "metadata": {
    "papermill": {
     "duration": 0.085351,
     "end_time": "2021-05-30T12:10:40.881616",
     "exception": false,
     "start_time": "2021-05-30T12:10:40.796265",
     "status": "completed"
    },
    "tags": []
   },
   "source": [
    "<font color = \"blue\" size=4px> <b>Interpretation :</b></font><font color = \"red\" size=4px>**Age** is have nearly **20%** Missing data, **Cabin** is Having **77%** Missing Data, **Embarked** is having very low amount of missing value so we will fill it with mode of the column </font>"
   ]
  },
  {
   "cell_type": "markdown",
   "metadata": {
    "papermill": {
     "duration": 0.084923,
     "end_time": "2021-05-30T12:10:41.050888",
     "exception": false,
     "start_time": "2021-05-30T12:10:40.965965",
     "status": "completed"
    },
    "tags": []
   },
   "source": [
    "### Lets Check The Distribution of Our Data"
   ]
  },
  {
   "cell_type": "code",
   "execution_count": 8,
   "metadata": {
    "execution": {
     "iopub.execute_input": "2021-05-30T12:10:41.223285Z",
     "iopub.status.busy": "2021-05-30T12:10:41.222570Z",
     "iopub.status.idle": "2021-05-30T12:10:41.231446Z",
     "shell.execute_reply": "2021-05-30T12:10:41.230903Z",
     "shell.execute_reply.started": "2021-05-30T12:07:39.632452Z"
    },
    "papermill": {
     "duration": 0.095537,
     "end_time": "2021-05-30T12:10:41.231659",
     "exception": false,
     "start_time": "2021-05-30T12:10:41.136122",
     "status": "completed"
    },
    "tags": []
   },
   "outputs": [],
   "source": [
    "# Making Numeric and Categorical Variables Separate for analysis\n",
    "\n",
    "num_columns = df_train[['Age','SibSp','Parch','Fare']]\n",
    "cat_columns = df_train[['Survived','Pclass','Sex','Ticket','Cabin','Embarked']]\n"
   ]
  },
  {
   "cell_type": "markdown",
   "metadata": {
    "papermill": {
     "duration": 0.083973,
     "end_time": "2021-05-30T12:10:41.399722",
     "exception": false,
     "start_time": "2021-05-30T12:10:41.315749",
     "status": "completed"
    },
    "tags": []
   },
   "source": [
    "* #### Lets View Distrubition Of Categorical Variables"
   ]
  },
  {
   "cell_type": "code",
   "execution_count": 9,
   "metadata": {
    "execution": {
     "iopub.execute_input": "2021-05-30T12:10:41.570537Z",
     "iopub.status.busy": "2021-05-30T12:10:41.569930Z",
     "iopub.status.idle": "2021-05-30T12:10:55.613364Z",
     "shell.execute_reply": "2021-05-30T12:10:55.613855Z",
     "shell.execute_reply.started": "2021-05-30T12:07:39.645114Z"
    },
    "papermill": {
     "duration": 14.130509,
     "end_time": "2021-05-30T12:10:55.614041",
     "exception": false,
     "start_time": "2021-05-30T12:10:41.483532",
     "status": "completed"
    },
    "tags": []
   },
   "outputs": [
    {
     "data": {
      "image/png": "[encoded data removed]",
      "text/plain": [
       "<Figure size 432x288 with 1 Axes>"
      ]
     },
     "metadata": {
      "needs_background": "light"
     },
     "output_type": "display_data"
    },
    {
     "data": {
      "image/png": "[encoded data removed]",
      "text/plain": [
       "<Figure size 432x288 with 1 Axes>"
      ]
     },
     "metadata": {
      "needs_background": "light"
     },
     "output_type": "display_data"
    },
    {
     "data": {
      "image/png": "[encoded data removed]",
      "text/plain": [
       "<Figure size 432x288 with 1 Axes>"
      ]
     },
     "metadata": {
      "needs_background": "light"
     },
     "output_type": "display_data"
    },
    {
     "data": {
      "image/png": "[encoded data removed]",
      "text/plain": [
       "<Figure size 432x288 with 1 Axes>"
      ]
     },
     "metadata": {
      "needs_background": "light"
     },
     "output_type": "display_data"
    },
    {
     "data": {
      "image/png": "[encoded data removed]",
      "text/plain": [
       "<Figure size 432x288 with 1 Axes>"
      ]
     },
     "metadata": {
      "needs_background": "light"
     },
     "output_type": "display_data"
    },
    {
     "data": {
      "image/png": "[encoded data removed]",
      "text/plain": [
       "<Figure size 432x288 with 1 Axes>"
      ]
     },
     "metadata": {
      "needs_background": "light"
     },
     "output_type": "display_data"
    }
   ],
   "source": [
    "for column in cat_columns.columns:\n",
    "    sns.barplot(cat_columns[column].value_counts().index,cat_columns[column].value_counts()).set_title(column)\n",
    "    plt.show()\n",
    "    "
   ]
  },
  {
   "cell_type": "markdown",
   "metadata": {
    "papermill": {
     "duration": 0.088843,
     "end_time": "2021-05-30T12:10:55.792888",
     "exception": false,
     "start_time": "2021-05-30T12:10:55.704045",
     "status": "completed"
    },
    "tags": []
   },
   "source": [
    "<font color = \"blue\" size=4px> <b>Interpretation : </b></font>\n",
    "\n",
    "* <font color = \"red\" size=4px> There Are More People Who Did not Survived therefore the data is not balanced</font>\n",
    "* <font color = \"red\" size=4px> There Were More Passengers In Plass 3  </font>\n",
    "* <font color = \"red\" size=4px> There Were More Males on Board</font>\n",
    "* <font color = \"red\" size=4px> Most passengers Embarked From Port S = Southampton </font>\n",
    "* <font color = \"red\" size=4px> We need to do Feature Engineering on Cabin And Ticket to make it more Clean</font>"
   ]
  },
  {
   "cell_type": "markdown",
   "metadata": {
    "papermill": {
     "duration": 0.087685,
     "end_time": "2021-05-30T12:10:55.968189",
     "exception": false,
     "start_time": "2021-05-30T12:10:55.880504",
     "status": "completed"
    },
    "tags": []
   },
   "source": [
    "### Lets Check Correlation Between Features and Between Feature and Target"
   ]
  },
  {
   "cell_type": "markdown",
   "metadata": {
    "papermill": {
     "duration": 0.087317,
     "end_time": "2021-05-30T12:10:56.144517",
     "exception": false,
     "start_time": "2021-05-30T12:10:56.057200",
     "status": "completed"
    },
    "tags": []
   },
   "source": [
    "*  ####  Lets Check If Pclass is playing Significant Variance In prediction of Survival rate"
   ]
  },
  {
   "cell_type": "code",
   "execution_count": 10,
   "metadata": {
    "execution": {
     "iopub.execute_input": "2021-05-30T12:10:56.333147Z",
     "iopub.status.busy": "2021-05-30T12:10:56.332462Z",
     "iopub.status.idle": "2021-05-30T12:10:56.519059Z",
     "shell.execute_reply": "2021-05-30T12:10:56.519515Z",
     "shell.execute_reply.started": "2021-05-30T12:07:52.861881Z"
    },
    "papermill": {
     "duration": 0.287489,
     "end_time": "2021-05-30T12:10:56.519688",
     "exception": false,
     "start_time": "2021-05-30T12:10:56.232199",
     "status": "completed"
    },
    "tags": []
   },
   "outputs": [
    {
     "data": {
      "image/png": "[encoded data removed]",
      "text/plain": [
       "<Figure size 720x360 with 1 Axes>"
      ]
     },
     "metadata": {
      "needs_background": "light"
     },
     "output_type": "display_data"
    }
   ],
   "source": [
    "# Plot Survival Rate By Pclass\n",
    "\n",
    "df_train[['Pclass','Survived']].groupby([\"Pclass\"]).mean().sort_values(by=\"Survived\", ascending=False).plot(kind = 'bar',figsize = (10,5))\n",
    "plt.xticks([0,1,2],[\"Upper\",\"Middle\",\"Lower\"],rotation = 20)\n",
    "plt.title(\"Survival Rate By Pclass\",pad=10)\n",
    "plt.show()\n"
   ]
  },
  {
   "cell_type": "markdown",
   "metadata": {
    "papermill": {
     "duration": 0.089433,
     "end_time": "2021-05-30T12:10:56.699394",
     "exception": false,
     "start_time": "2021-05-30T12:10:56.609961",
     "status": "completed"
    },
    "tags": []
   },
   "source": [
    "<font color = \"blue\" size=4px> <b>Interpretation : </b></font><font color = \"red\" size=4px> We Can Infere That Passengers who blong to **Upper class** Has higher Survival rate than other classes, So Pclass has Significant Role in prediction of survival rate , so we will use it as feature </font>"
   ]
  },
  {
   "cell_type": "markdown",
   "metadata": {
    "papermill": {
     "duration": 0.088115,
     "end_time": "2021-05-30T12:10:56.875791",
     "exception": false,
     "start_time": "2021-05-30T12:10:56.787676",
     "status": "completed"
    },
    "tags": []
   },
   "source": [
    "*  ####  Lets Check If Sex is playing any Significant Variance In prediction of Survival rate"
   ]
  },
  {
   "cell_type": "code",
   "execution_count": 11,
   "metadata": {
    "execution": {
     "iopub.execute_input": "2021-05-30T12:10:57.063905Z",
     "iopub.status.busy": "2021-05-30T12:10:57.063230Z",
     "iopub.status.idle": "2021-05-30T12:10:57.233061Z",
     "shell.execute_reply": "2021-05-30T12:10:57.233586Z",
     "shell.execute_reply.started": "2021-05-30T12:07:53.032747Z"
    },
    "papermill": {
     "duration": 0.269167,
     "end_time": "2021-05-30T12:10:57.233890",
     "exception": false,
     "start_time": "2021-05-30T12:10:56.964723",
     "status": "completed"
    },
    "tags": []
   },
   "outputs": [
    {
     "data": {
      "image/png": "[encoded data removed]",
      "text/plain": [
       "<Figure size 720x360 with 1 Axes>"
      ]
     },
     "metadata": {
      "needs_background": "light"
     },
     "output_type": "display_data"
    }
   ],
   "source": [
    "# Plot Survival Rate By Sex\n",
    "\n",
    "df_train[['Sex','Survived']].groupby([\"Sex\"]).mean().sort_values(by=\"Survived\", ascending=False).plot(kind = 'bar',figsize = (10,5))\n",
    "plt.xticks(rotation = 20)\n",
    "plt.title(\"Survival Rate By Sex\",pad=10)\n",
    "plt.show()"
   ]
  },
  {
   "cell_type": "markdown",
   "metadata": {
    "papermill": {
     "duration": 0.08917,
     "end_time": "2021-05-30T12:10:57.412663",
     "exception": false,
     "start_time": "2021-05-30T12:10:57.323493",
     "status": "completed"
    },
    "tags": []
   },
   "source": [
    "<font color = \"blue\" size=4px> <b>Interpretation : </b></font><font color = \"red\" size=4px> We Can Infere That **Females** has Higher Survival Rate Than **Males** , so we will use it as feature </font>"
   ]
  },
  {
   "cell_type": "markdown",
   "metadata": {
    "papermill": {
     "duration": 0.089751,
     "end_time": "2021-05-30T12:10:57.591519",
     "exception": false,
     "start_time": "2021-05-30T12:10:57.501768",
     "status": "completed"
    },
    "tags": []
   },
   "source": [
    "*  ####  Lets Check If Parch and SibSp is playing any Significant Variance In prediction of Survival rate"
   ]
  },
  {
   "cell_type": "code",
   "execution_count": 12,
   "metadata": {
    "execution": {
     "iopub.execute_input": "2021-05-30T12:10:57.777180Z",
     "iopub.status.busy": "2021-05-30T12:10:57.776413Z",
     "iopub.status.idle": "2021-05-30T12:10:57.966990Z",
     "shell.execute_reply": "2021-05-30T12:10:57.967524Z",
     "shell.execute_reply.started": "2021-05-30T12:07:53.198785Z"
    },
    "papermill": {
     "duration": 0.283792,
     "end_time": "2021-05-30T12:10:57.967707",
     "exception": false,
     "start_time": "2021-05-30T12:10:57.683915",
     "status": "completed"
    },
    "tags": []
   },
   "outputs": [
    {
     "data": {
      "image/png": "[encoded data removed]",
      "text/plain": [
       "<Figure size 432x288 with 1 Axes>"
      ]
     },
     "metadata": {
      "needs_background": "light"
     },
     "output_type": "display_data"
    }
   ],
   "source": [
    "# Plot Survival Rate By Parch\n",
    "\n",
    "df_train[['Parch','Survived']].groupby([\"Parch\"]).mean().sort_values(by=\"Survived\", ascending=False).plot(kind = 'bar')\n",
    "plt.xticks(rotation = 20)\n",
    "plt.title(\"Survival Rate By Parch\",pad=10)\n",
    "plt.show()\n"
   ]
  },
  {
   "cell_type": "code",
   "execution_count": 13,
   "metadata": {
    "execution": {
     "iopub.execute_input": "2021-05-30T12:10:58.157238Z",
     "iopub.status.busy": "2021-05-30T12:10:58.156506Z",
     "iopub.status.idle": "2021-05-30T12:10:58.340210Z",
     "shell.execute_reply": "2021-05-30T12:10:58.339578Z",
     "shell.execute_reply.started": "2021-05-30T12:07:53.376121Z"
    },
    "papermill": {
     "duration": 0.282374,
     "end_time": "2021-05-30T12:10:58.340365",
     "exception": false,
     "start_time": "2021-05-30T12:10:58.057991",
     "status": "completed"
    },
    "tags": []
   },
   "outputs": [
    {
     "data": {
      "image/png": "[encoded data removed]",
      "text/plain": [
       "<Figure size 432x288 with 1 Axes>"
      ]
     },
     "metadata": {
      "needs_background": "light"
     },
     "output_type": "display_data"
    }
   ],
   "source": [
    "# Plot Survival Rate By SibSp\n",
    "\n",
    "df_train[['SibSp','Survived']].groupby([\"SibSp\"]).mean().sort_values(by=\"Survived\", ascending=False).plot(kind = 'bar')\n",
    "plt.xticks(rotation = 20)\n",
    "plt.title(\"Survival Rate By SibSp\",pad=10)\n",
    "plt.show()"
   ]
  },
  {
   "cell_type": "markdown",
   "metadata": {
    "papermill": {
     "duration": 0.091217,
     "end_time": "2021-05-30T12:10:58.522658",
     "exception": false,
     "start_time": "2021-05-30T12:10:58.431441",
     "status": "completed"
    },
    "tags": []
   },
   "source": [
    "<font color = \"blue\" size=4px> <b>Interpretation : </b></font><font color = \"red\" size=4px> We Can Infere That **Parch** and **SibSP** are having zero correlation for some values , so we will combine some values and use it as feature </font>"
   ]
  },
  {
   "cell_type": "markdown",
   "metadata": {
    "papermill": {
     "duration": 0.092667,
     "end_time": "2021-05-30T12:10:58.707695",
     "exception": false,
     "start_time": "2021-05-30T12:10:58.615028",
     "status": "completed"
    },
    "tags": []
   },
   "source": [
    "*  ####  Lets Check If Age is Showing Significant Variance In prediction of Survival rate"
   ]
  },
  {
   "cell_type": "code",
   "execution_count": 14,
   "metadata": {
    "execution": {
     "iopub.execute_input": "2021-05-30T12:10:58.919483Z",
     "iopub.status.busy": "2021-05-30T12:10:58.916942Z",
     "iopub.status.idle": "2021-05-30T12:10:59.453026Z",
     "shell.execute_reply": "2021-05-30T12:10:59.452428Z",
     "shell.execute_reply.started": "2021-05-30T12:07:53.545276Z"
    },
    "papermill": {
     "duration": 0.653656,
     "end_time": "2021-05-30T12:10:59.453169",
     "exception": false,
     "start_time": "2021-05-30T12:10:58.799513",
     "status": "completed"
    },
    "tags": []
   },
   "outputs": [
    {
     "data": {
      "text/plain": [
       "<seaborn.axisgrid.FacetGrid at 0x7f4d4419a990>"
      ]
     },
     "execution_count": 14,
     "metadata": {},
     "output_type": "execute_result"
    },
    {
     "data": {
      "image/png": "[encoded data removed]",
      "text/plain": [
       "<Figure size 1152x288 with 2 Axes>"
      ]
     },
     "metadata": {
      "needs_background": "light"
     },
     "output_type": "display_data"
    }
   ],
   "source": [
    "# Plot Age Hitogram With Age Distribution in Both Survived and Not Survived\n",
    "\n",
    "p = sns.FacetGrid(df_train,col=\"Survived\",height=4,aspect=2)\n",
    "p.map(plt.hist,\"Age\",bins = 20)"
   ]
  },
  {
   "cell_type": "markdown",
   "metadata": {
    "papermill": {
     "duration": 0.092416,
     "end_time": "2021-05-30T12:10:59.637747",
     "exception": false,
     "start_time": "2021-05-30T12:10:59.545331",
     "status": "completed"
    },
    "tags": []
   },
   "source": [
    "<font color = \"blue\" size=4px> <b>Interpretation : </b></font>\n",
    "\n",
    "* <font color = \"red\" size=4px> Infants i.e age < 4 had higher Survival Rate  </font>\n",
    "* <font color = \"red\" size=4px> Elderly People i.e age = 80 had survived  </font>\n",
    "* <font color = \"red\" size=4px> Large number of 15-25 year olds did not survive.</font>\n",
    "* <font color = \"red\" size=4px> Most passengers are in 15-35 age range.</font>\n",
    "* <font color = \"red\" size=4px> Lets make this in Categories by binning them in ranges </font>"
   ]
  },
  {
   "cell_type": "markdown",
   "metadata": {
    "execution": {
     "iopub.execute_input": "2021-05-28T08:34:51.873901Z",
     "iopub.status.busy": "2021-05-28T08:34:51.873501Z",
     "iopub.status.idle": "2021-05-28T08:34:51.878448Z",
     "shell.execute_reply": "2021-05-28T08:34:51.877222Z",
     "shell.execute_reply.started": "2021-05-28T08:34:51.873868Z"
    },
    "papermill": {
     "duration": 0.093115,
     "end_time": "2021-05-30T12:10:59.825773",
     "exception": false,
     "start_time": "2021-05-30T12:10:59.732658",
     "status": "completed"
    },
    "tags": []
   },
   "source": [
    "* #### Lets Check The Significance Of Fare in Predicting Survival Rate"
   ]
  },
  {
   "cell_type": "code",
   "execution_count": 15,
   "metadata": {
    "execution": {
     "iopub.execute_input": "2021-05-30T12:11:00.050133Z",
     "iopub.status.busy": "2021-05-30T12:11:00.048799Z",
     "iopub.status.idle": "2021-05-30T12:11:00.173699Z",
     "shell.execute_reply": "2021-05-30T12:11:00.173125Z",
     "shell.execute_reply.started": "2021-05-30T12:07:54.037706Z"
    },
    "papermill": {
     "duration": 0.255211,
     "end_time": "2021-05-30T12:11:00.173860",
     "exception": false,
     "start_time": "2021-05-30T12:10:59.918649",
     "status": "completed"
    },
    "tags": []
   },
   "outputs": [
    {
     "data": {
      "image/png": "[encoded data removed]",
      "text/plain": [
       "<Figure size 864x432 with 1 Axes>"
      ]
     },
     "metadata": {
      "needs_background": "light"
     },
     "output_type": "display_data"
    }
   ],
   "source": [
    "# Plot Survival Rate By Fare\n",
    "\n",
    "df_train.groupby(\"Survived\")[\"Fare\"].mean().plot(kind = \"bar\",figsize = (12,6))\n",
    "plt.title(\"Survival Rate By Fare on Tickets\",pad=10)\n",
    "plt.show()"
   ]
  },
  {
   "cell_type": "markdown",
   "metadata": {
    "papermill": {
     "duration": 0.094419,
     "end_time": "2021-05-30T12:11:00.361799",
     "exception": false,
     "start_time": "2021-05-30T12:11:00.267380",
     "status": "completed"
    },
    "tags": []
   },
   "source": [
    "*  ####  Lets Check If Emabarked is Showing Significant Variance In prediction of Survival rate"
   ]
  },
  {
   "cell_type": "code",
   "execution_count": 16,
   "metadata": {
    "execution": {
     "iopub.execute_input": "2021-05-30T12:11:00.618124Z",
     "iopub.status.busy": "2021-05-30T12:11:00.617392Z",
     "iopub.status.idle": "2021-05-30T12:11:00.719106Z",
     "shell.execute_reply": "2021-05-30T12:11:00.718521Z",
     "shell.execute_reply.started": "2021-05-30T12:07:54.179398Z"
    },
    "papermill": {
     "duration": 0.263725,
     "end_time": "2021-05-30T12:11:00.719248",
     "exception": false,
     "start_time": "2021-05-30T12:11:00.455523",
     "status": "completed"
    },
    "tags": []
   },
   "outputs": [
    {
     "data": {
      "image/png": "[encoded data removed]",
      "text/plain": [
       "<Figure size 432x288 with 1 Axes>"
      ]
     },
     "metadata": {
      "needs_background": "light"
     },
     "output_type": "display_data"
    }
   ],
   "source": [
    "# Plot Survival Rate By Embarkation\n",
    "\n",
    "df_train[['Embarked','Survived']].groupby([\"Embarked\"]).mean().sort_values(by=\"Survived\", ascending=False).plot(kind = 'bar')\n",
    "plt.xticks(rotation = 20)\n",
    "plt.title(\"Survival Rate By Port OF Embarkation\",pad=10)\n",
    "plt.show()"
   ]
  },
  {
   "cell_type": "markdown",
   "metadata": {
    "papermill": {
     "duration": 0.093802,
     "end_time": "2021-05-30T12:11:00.908820",
     "exception": false,
     "start_time": "2021-05-30T12:11:00.815018",
     "status": "completed"
    },
    "tags": []
   },
   "source": [
    "<font color = \"blue\" size=4px> <b>Interpretation : </b></font>\n",
    "\n",
    "* <font color = \"red\" size=4px> Passengers with Port of Embarkation\t**C = Cherbourg**  had higher Survival Rate than other ports </font>\n",
    "* <font color = \"red\" size=4px> As the Data is Nominal, We will perform one hot encoding incude it as Feature</font>\n"
   ]
  },
  {
   "cell_type": "markdown",
   "metadata": {
    "papermill": {
     "duration": 0.098021,
     "end_time": "2021-05-30T12:11:01.102500",
     "exception": false,
     "start_time": "2021-05-30T12:11:01.004479",
     "status": "completed"
    },
    "tags": []
   },
   "source": [
    "*  ####  Lets Check Realtionship Between Pclass and Emabarked towards Survival rate"
   ]
  },
  {
   "cell_type": "code",
   "execution_count": 17,
   "metadata": {
    "execution": {
     "iopub.execute_input": "2021-05-30T12:11:01.300242Z",
     "iopub.status.busy": "2021-05-30T12:11:01.299509Z",
     "iopub.status.idle": "2021-05-30T12:11:01.847698Z",
     "shell.execute_reply": "2021-05-30T12:11:01.848184Z",
     "shell.execute_reply.started": "2021-05-30T12:07:54.340261Z"
    },
    "papermill": {
     "duration": 0.651833,
     "end_time": "2021-05-30T12:11:01.848365",
     "exception": false,
     "start_time": "2021-05-30T12:11:01.196532",
     "status": "completed"
    },
    "tags": []
   },
   "outputs": [
    {
     "data": {
      "image/png": "[encoded data removed]",
      "text/plain": [
       "<Figure size 1296x432 with 1 Axes>"
      ]
     },
     "metadata": {
      "needs_background": "light"
     },
     "output_type": "display_data"
    }
   ],
   "source": [
    "plt.figure(figsize=(18,6))\n",
    "sns.barplot(data= df_train, x = \"Embarked\", y = \"Survived\", hue = \"Pclass\")\n",
    "plt.title(\"Survival Rate By Port OF Embarkation and Pclass\",pad=10)\n",
    "plt.show()"
   ]
  },
  {
   "cell_type": "markdown",
   "metadata": {
    "papermill": {
     "duration": 0.147962,
     "end_time": "2021-05-30T12:11:02.092138",
     "exception": false,
     "start_time": "2021-05-30T12:11:01.944176",
     "status": "completed"
    },
    "tags": []
   },
   "source": [
    "<font color = \"blue\" size=4px> <b>Interpretation : </b></font>\n",
    "\n",
    "* <font color = \"red\" size=4px> There were more Survivers From Pclass 1 and also Embarkation Cherboug as there are more passengers belonging to Pclass from Port C</font>\n",
    "* <font color = \"red\" size=4px> Port Q Has Lowest Pclass Members so it had Lower Survival Rate</font>\n"
   ]
  },
  {
   "cell_type": "markdown",
   "metadata": {
    "execution": {
     "iopub.execute_input": "2021-05-27T12:54:22.548171Z",
     "iopub.status.busy": "2021-05-27T12:54:22.547671Z",
     "iopub.status.idle": "2021-05-27T12:54:22.556604Z",
     "shell.execute_reply": "2021-05-27T12:54:22.555285Z",
     "shell.execute_reply.started": "2021-05-27T12:54:22.548064Z"
    },
    "papermill": {
     "duration": 0.094274,
     "end_time": "2021-05-30T12:11:02.283771",
     "exception": false,
     "start_time": "2021-05-30T12:11:02.189497",
     "status": "completed"
    },
    "tags": []
   },
   "source": [
    "<font color = \"#191970\" size=6px><center><b>Data Cleaning And Data Preprocessing</b></font>"
   ]
  },
  {
   "cell_type": "markdown",
   "metadata": {
    "papermill": {
     "duration": 0.096409,
     "end_time": "2021-05-30T12:11:02.474804",
     "exception": false,
     "start_time": "2021-05-30T12:11:02.378395",
     "status": "completed"
    },
    "tags": []
   },
   "source": [
    "### Lets See If Cabin Playes Any Important Role In Survival Rate\n",
    "\n",
    "* #### Lets draw out Letters Of Cabin Name"
   ]
  },
  {
   "cell_type": "code",
   "execution_count": 18,
   "metadata": {
    "execution": {
     "iopub.execute_input": "2021-05-30T12:11:02.676092Z",
     "iopub.status.busy": "2021-05-30T12:11:02.675140Z",
     "iopub.status.idle": "2021-05-30T12:11:02.680860Z",
     "shell.execute_reply": "2021-05-30T12:11:02.680192Z",
     "shell.execute_reply.started": "2021-05-30T12:07:54.849944Z"
    },
    "papermill": {
     "duration": 0.111493,
     "end_time": "2021-05-30T12:11:02.681008",
     "exception": false,
     "start_time": "2021-05-30T12:11:02.569515",
     "status": "completed"
    },
    "tags": []
   },
   "outputs": [
    {
     "data": {
      "text/plain": [
       "n    687\n",
       "C     59\n",
       "B     47\n",
       "D     33\n",
       "E     32\n",
       "A     15\n",
       "F     13\n",
       "G      4\n",
       "T      1\n",
       "Name: Cabin_name, dtype: int64"
      ]
     },
     "execution_count": 18,
     "metadata": {},
     "output_type": "execute_result"
    }
   ],
   "source": [
    "# Lets Draw Letter From Ticket in both Train and test data\n",
    "\n",
    "for df in combine_df:\n",
    "    df['Cabin_name'] = df.Cabin.apply(lambda x: str(x)[0])\n",
    "\n",
    "df_train.Cabin_name.value_counts()"
   ]
  },
  {
   "cell_type": "markdown",
   "metadata": {
    "papermill": {
     "duration": 0.098173,
     "end_time": "2021-05-30T12:11:02.876020",
     "exception": false,
     "start_time": "2021-05-30T12:11:02.777847",
     "status": "completed"
    },
    "tags": []
   },
   "source": [
    "#### Compare Survival Rate By Cabin Name (n = na)"
   ]
  },
  {
   "cell_type": "code",
   "execution_count": 19,
   "metadata": {
    "execution": {
     "iopub.execute_input": "2021-05-30T12:11:03.083724Z",
     "iopub.status.busy": "2021-05-30T12:11:03.082508Z",
     "iopub.status.idle": "2021-05-30T12:11:03.118264Z",
     "shell.execute_reply": "2021-05-30T12:11:03.117578Z",
     "shell.execute_reply.started": "2021-05-30T12:07:54.869070Z"
    },
    "papermill": {
     "duration": 0.144878,
     "end_time": "2021-05-30T12:11:03.118419",
     "exception": false,
     "start_time": "2021-05-30T12:11:02.973541",
     "status": "completed"
    },
    "tags": []
   },
   "outputs": [
    {
     "data": {
      "text/html": [
       "<div>\n",
       "<style scoped>\n",
       "    .dataframe tbody tr th:only-of-type {\n",
       "        vertical-align: middle;\n",
       "    }\n",
       "\n",
       "    .dataframe tbody tr th {\n",
       "        vertical-align: top;\n",
       "    }\n",
       "\n",
       "    .dataframe thead th {\n",
       "        text-align: right;\n",
       "    }\n",
       "</style>\n",
       "<table border=\"1\" class=\"dataframe\">\n",
       "  <thead>\n",
       "    <tr style=\"text-align: right;\">\n",
       "      <th>Cabin_name</th>\n",
       "      <th>A</th>\n",
       "      <th>B</th>\n",
       "      <th>C</th>\n",
       "      <th>D</th>\n",
       "      <th>E</th>\n",
       "      <th>F</th>\n",
       "      <th>G</th>\n",
       "      <th>T</th>\n",
       "      <th>n</th>\n",
       "    </tr>\n",
       "    <tr>\n",
       "      <th>Survived</th>\n",
       "      <th></th>\n",
       "      <th></th>\n",
       "      <th></th>\n",
       "      <th></th>\n",
       "      <th></th>\n",
       "      <th></th>\n",
       "      <th></th>\n",
       "      <th></th>\n",
       "      <th></th>\n",
       "    </tr>\n",
       "  </thead>\n",
       "  <tbody>\n",
       "    <tr>\n",
       "      <th>0</th>\n",
       "      <td>8.0</td>\n",
       "      <td>12.0</td>\n",
       "      <td>24.0</td>\n",
       "      <td>8.0</td>\n",
       "      <td>8.0</td>\n",
       "      <td>5.0</td>\n",
       "      <td>2.0</td>\n",
       "      <td>1.0</td>\n",
       "      <td>481.0</td>\n",
       "    </tr>\n",
       "    <tr>\n",
       "      <th>1</th>\n",
       "      <td>7.0</td>\n",
       "      <td>35.0</td>\n",
       "      <td>35.0</td>\n",
       "      <td>25.0</td>\n",
       "      <td>24.0</td>\n",
       "      <td>8.0</td>\n",
       "      <td>2.0</td>\n",
       "      <td>NaN</td>\n",
       "      <td>206.0</td>\n",
       "    </tr>\n",
       "  </tbody>\n",
       "</table>\n",
       "</div>"
      ],
      "text/plain": [
       "Cabin_name    A     B     C     D     E    F    G    T      n\n",
       "Survived                                                     \n",
       "0           8.0  12.0  24.0   8.0   8.0  5.0  2.0  1.0  481.0\n",
       "1           7.0  35.0  35.0  25.0  24.0  8.0  2.0  NaN  206.0"
      ]
     },
     "execution_count": 19,
     "metadata": {},
     "output_type": "execute_result"
    }
   ],
   "source": [
    "pd.pivot_table(df_train,index='Survived',columns='Cabin_name', values = 'PassengerId', aggfunc='count')"
   ]
  },
  {
   "cell_type": "markdown",
   "metadata": {
    "papermill": {
     "duration": 0.095994,
     "end_time": "2021-05-30T12:11:03.310680",
     "exception": false,
     "start_time": "2021-05-30T12:11:03.214686",
     "status": "completed"
    },
    "tags": []
   },
   "source": [
    "* #### Lets See If Passengers Had Same Cabin\n"
   ]
  },
  {
   "cell_type": "code",
   "execution_count": 20,
   "metadata": {
    "execution": {
     "iopub.execute_input": "2021-05-30T12:11:03.509519Z",
     "iopub.status.busy": "2021-05-30T12:11:03.508805Z",
     "iopub.status.idle": "2021-05-30T12:11:03.519026Z",
     "shell.execute_reply": "2021-05-30T12:11:03.518325Z",
     "shell.execute_reply.started": "2021-05-30T12:07:54.905718Z"
    },
    "papermill": {
     "duration": 0.112621,
     "end_time": "2021-05-30T12:11:03.519187",
     "exception": false,
     "start_time": "2021-05-30T12:11:03.406566",
     "status": "completed"
    },
    "tags": []
   },
   "outputs": [
    {
     "data": {
      "text/html": [
       "<div>\n",
       "<style scoped>\n",
       "    .dataframe tbody tr th:only-of-type {\n",
       "        vertical-align: middle;\n",
       "    }\n",
       "\n",
       "    .dataframe tbody tr th {\n",
       "        vertical-align: top;\n",
       "    }\n",
       "\n",
       "    .dataframe thead th {\n",
       "        text-align: right;\n",
       "    }\n",
       "</style>\n",
       "<table border=\"1\" class=\"dataframe\">\n",
       "  <thead>\n",
       "    <tr style=\"text-align: right;\">\n",
       "      <th></th>\n",
       "      <th>PassengerId</th>\n",
       "    </tr>\n",
       "    <tr>\n",
       "      <th>Cabin_name</th>\n",
       "      <th></th>\n",
       "    </tr>\n",
       "  </thead>\n",
       "  <tbody>\n",
       "    <tr>\n",
       "      <th>A</th>\n",
       "      <td>15</td>\n",
       "    </tr>\n",
       "    <tr>\n",
       "      <th>B</th>\n",
       "      <td>47</td>\n",
       "    </tr>\n",
       "    <tr>\n",
       "      <th>C</th>\n",
       "      <td>59</td>\n",
       "    </tr>\n",
       "    <tr>\n",
       "      <th>D</th>\n",
       "      <td>33</td>\n",
       "    </tr>\n",
       "    <tr>\n",
       "      <th>E</th>\n",
       "      <td>32</td>\n",
       "    </tr>\n",
       "    <tr>\n",
       "      <th>F</th>\n",
       "      <td>13</td>\n",
       "    </tr>\n",
       "    <tr>\n",
       "      <th>G</th>\n",
       "      <td>4</td>\n",
       "    </tr>\n",
       "    <tr>\n",
       "      <th>T</th>\n",
       "      <td>1</td>\n",
       "    </tr>\n",
       "    <tr>\n",
       "      <th>n</th>\n",
       "      <td>687</td>\n",
       "    </tr>\n",
       "  </tbody>\n",
       "</table>\n",
       "</div>"
      ],
      "text/plain": [
       "            PassengerId\n",
       "Cabin_name             \n",
       "A                    15\n",
       "B                    47\n",
       "C                    59\n",
       "D                    33\n",
       "E                    32\n",
       "F                    13\n",
       "G                     4\n",
       "T                     1\n",
       "n                   687"
      ]
     },
     "execution_count": 20,
     "metadata": {},
     "output_type": "execute_result"
    }
   ],
   "source": [
    "pd.DataFrame(df_train.groupby(\"Cabin_name\",as_index=\"False\")[\"PassengerId\"].nunique())"
   ]
  },
  {
   "cell_type": "markdown",
   "metadata": {
    "papermill": {
     "duration": 0.096042,
     "end_time": "2021-05-30T12:11:03.712211",
     "exception": false,
     "start_time": "2021-05-30T12:11:03.616169",
     "status": "completed"
    },
    "tags": []
   },
   "source": [
    "<font color = \"blue\" size=4px> <b>Interpretation : </b></font>\n",
    "\n",
    "* <font color = \"red\" size=4px> Some Cabin Names Shows Signifance in Survival Rate , Lets keep it for experimental purpose </font>\n",
    "* <font color = \"red\" size=4px>Looks Like Some Passengers had Multiple Cabins </font>\n"
   ]
  },
  {
   "cell_type": "markdown",
   "metadata": {
    "papermill": {
     "duration": 0.09639,
     "end_time": "2021-05-30T12:11:03.904099",
     "exception": false,
     "start_time": "2021-05-30T12:11:03.807709",
     "status": "completed"
    },
    "tags": []
   },
   "source": [
    "### Lets See If Ticket Playes Any Important Role In Survival Rate\n",
    "\n",
    "* #### Lets draw out Tickets With numbers And without numbers and check if they show any significance in survival rates\n"
   ]
  },
  {
   "cell_type": "code",
   "execution_count": 21,
   "metadata": {
    "execution": {
     "iopub.execute_input": "2021-05-30T12:11:04.107697Z",
     "iopub.status.busy": "2021-05-30T12:11:04.107035Z",
     "iopub.status.idle": "2021-05-30T12:11:04.111276Z",
     "shell.execute_reply": "2021-05-30T12:11:04.110621Z",
     "shell.execute_reply.started": "2021-05-30T12:07:54.922754Z"
    },
    "papermill": {
     "duration": 0.111519,
     "end_time": "2021-05-30T12:11:04.111490",
     "exception": false,
     "start_time": "2021-05-30T12:11:03.999971",
     "status": "completed"
    },
    "tags": []
   },
   "outputs": [
    {
     "data": {
      "text/plain": [
       "1    661\n",
       "0    230\n",
       "Name: Ticket_Numeric, dtype: int64"
      ]
     },
     "execution_count": 21,
     "metadata": {},
     "output_type": "execute_result"
    }
   ],
   "source": [
    "for df in combine_df:\n",
    "    df[\"Ticket_Numeric\"] = df.Ticket.apply(lambda x : 1 if x.isnumeric() else 0)\n",
    "\n",
    "df_train.Ticket_Numeric.value_counts()"
   ]
  },
  {
   "cell_type": "code",
   "execution_count": 22,
   "metadata": {
    "execution": {
     "iopub.execute_input": "2021-05-30T12:11:04.590387Z",
     "iopub.status.busy": "2021-05-30T12:11:04.589686Z",
     "iopub.status.idle": "2021-05-30T12:11:04.770681Z",
     "shell.execute_reply": "2021-05-30T12:11:04.770024Z",
     "shell.execute_reply.started": "2021-05-30T12:07:54.938113Z"
    },
    "papermill": {
     "duration": 0.561907,
     "end_time": "2021-05-30T12:11:04.770820",
     "exception": false,
     "start_time": "2021-05-30T12:11:04.208913",
     "status": "completed"
    },
    "tags": []
   },
   "outputs": [
    {
     "data": {
      "image/png": "[encoded data removed]",
      "text/plain": [
       "<Figure size 864x432 with 1 Axes>"
      ]
     },
     "metadata": {
      "needs_background": "light"
     },
     "output_type": "display_data"
    }
   ],
   "source": [
    "# Lets See If Ticket Numeric Plays Any Significant role In survival rate\n",
    "plt.figure(figsize=(12,6))\n",
    "sns.countplot(data= df_train, x = \"Ticket_Numeric\", hue = \"Survived\").set_title(\"Surival Rates by Ticket if Numeric \")\n",
    "plt.show()"
   ]
  },
  {
   "cell_type": "markdown",
   "metadata": {
    "papermill": {
     "duration": 0.098368,
     "end_time": "2021-05-30T12:11:04.967739",
     "exception": false,
     "start_time": "2021-05-30T12:11:04.869371",
     "status": "completed"
    },
    "tags": []
   },
   "source": [
    "<font color = \"blue\" size=4px> <b>Interpretation : </b></font>\n",
    "\n",
    "* <font color = \"red\" size=4px> Its Evident That Numeric Tickets has Higher Survival Rate, but the data is not balanced , Numeric Tickets are more ,So  Lets keep it for experimental purpose </font>\n",
    "\n",
    "<hr>"
   ]
  },
  {
   "cell_type": "markdown",
   "metadata": {
    "papermill": {
     "duration": 0.100183,
     "end_time": "2021-05-30T12:11:05.172000",
     "exception": false,
     "start_time": "2021-05-30T12:11:05.071817",
     "status": "completed"
    },
    "tags": []
   },
   "source": [
    "* ### The Age column Has Missing Values, if we take the mean it might get us biased reults, we can use multiple methods to fill na values \n",
    "\n",
    "1. <font  size=4px>We can use find correlated columns to age i.e Sex or Pclass and then Substitute The Age respective to the grouped age by categories of Pcalss or Sex, but Pclass has only 3 categores and Sex has only 2 , we dont have enough variance to get more accurate imputation\n",
    "\n",
    "2. <font  size=4px>Take out the Title From Name Column Group Age With respect to Title and Substitue the missing age with median age of each title class, this will give higher variance in predicting age and more accurate Imputation\n",
    " <p>\n",
    "\n",
    "<hr>"
   ]
  },
  {
   "cell_type": "code",
   "execution_count": 23,
   "metadata": {
    "execution": {
     "iopub.execute_input": "2021-05-30T12:11:05.387258Z",
     "iopub.status.busy": "2021-05-30T12:11:05.386468Z",
     "iopub.status.idle": "2021-05-30T12:11:05.390252Z",
     "shell.execute_reply": "2021-05-30T12:11:05.389634Z",
     "shell.execute_reply.started": "2021-05-30T12:07:55.117631Z"
    },
    "papermill": {
     "duration": 0.119643,
     "end_time": "2021-05-30T12:11:05.390390",
     "exception": false,
     "start_time": "2021-05-30T12:11:05.270747",
     "status": "completed"
    },
    "tags": []
   },
   "outputs": [
    {
     "data": {
      "text/plain": [
       "Mr          517\n",
       "Miss        182\n",
       "Mrs         125\n",
       "Master       40\n",
       "Dr            7\n",
       "Rev           6\n",
       "Col           2\n",
       "Mlle          2\n",
       "Major         2\n",
       "Don           1\n",
       "Countess      1\n",
       "Lady          1\n",
       "Capt          1\n",
       "Sir           1\n",
       "Ms            1\n",
       "Mme           1\n",
       "Jonkheer      1\n",
       "Name: Title, dtype: int64"
      ]
     },
     "execution_count": 23,
     "metadata": {},
     "output_type": "execute_result"
    }
   ],
   "source": [
    "# Fetching Title From Name\n",
    "\n",
    "for df in combine_df:\n",
    "    df['Title'] = df.Name.str.extract(' ([A-Za-z]+)\\.',expand=False)\n",
    "    \n",
    "df_train.Title.value_counts()"
   ]
  },
  {
   "cell_type": "markdown",
   "metadata": {
    "papermill": {
     "duration": 0.098025,
     "end_time": "2021-05-30T12:11:05.587125",
     "exception": false,
     "start_time": "2021-05-30T12:11:05.489100",
     "status": "completed"
    },
    "tags": []
   },
   "source": [
    "<font color = \"blue\" size=4px> <b>Interpretation : </b></font>\n",
    "\n",
    "* <font color = \"darkred\" size=4px> Some title Are spelled differently but they bleong to same title : </font>\n",
    "    * <font color = \"darkred\" size=3px> **Mlle** is French Abbrivation For **Miss** </font>\n",
    "    * <font color = \"darkred\" size=3px> **Ms** is Used when we dont know maritial-status of women as there is only one entry we will categorize is in **Miss** </font>\n",
    "    * <font color = \"darkred\" size=3px> **Mme** a French title of respect equivalent to **Mrs** </font><br>\n",
    "    \n",
    "    \n",
    "    \n",
    "* <font color = \"darkred\" size=4px> As there are Not Much count in some titles, we will put them in others.. </font>\n",
    "\n",
    "<hr>"
   ]
  },
  {
   "cell_type": "code",
   "execution_count": 24,
   "metadata": {
    "execution": {
     "iopub.execute_input": "2021-05-30T12:11:05.791115Z",
     "iopub.status.busy": "2021-05-30T12:11:05.790257Z",
     "iopub.status.idle": "2021-05-30T12:11:05.804972Z",
     "shell.execute_reply": "2021-05-30T12:11:05.804279Z",
     "shell.execute_reply.started": "2021-05-30T12:07:55.132337Z"
    },
    "papermill": {
     "duration": 0.120415,
     "end_time": "2021-05-30T12:11:05.805133",
     "exception": false,
     "start_time": "2021-05-30T12:11:05.684718",
     "status": "completed"
    },
    "tags": []
   },
   "outputs": [
    {
     "data": {
      "text/plain": [
       "Mr        517\n",
       "Miss      185\n",
       "Mrs       126\n",
       "Master     40\n",
       "Others     23\n",
       "Name: Title, dtype: int64"
      ]
     },
     "execution_count": 24,
     "metadata": {},
     "output_type": "execute_result"
    }
   ],
   "source": [
    "for df in combine_df:\n",
    "    # Replace Rare Titles As Others\n",
    "    df.Title = df.Title.replace(['Lady', 'Countess','Capt', 'Col','Don', 'Dr', 'Major', 'Rev', 'Sir', 'Jonkheer', 'Dona'],'Others')\n",
    "    \n",
    "    # Replace Similar Titles In Single category\n",
    "    df.Title = df.Title.replace([\"Mlle\",\"Ms\"],\"Miss\")\n",
    "    df.Title = df.Title.replace(\"Mme\",\"Mrs\")\n",
    "    \n",
    "df_train.Title.value_counts()"
   ]
  },
  {
   "cell_type": "markdown",
   "metadata": {
    "papermill": {
     "duration": 0.098714,
     "end_time": "2021-05-30T12:11:06.003302",
     "exception": false,
     "start_time": "2021-05-30T12:11:05.904588",
     "status": "completed"
    },
    "tags": []
   },
   "source": [
    "* #### Lets See If Title is Playing significance role in survival rate"
   ]
  },
  {
   "cell_type": "code",
   "execution_count": 25,
   "metadata": {
    "execution": {
     "iopub.execute_input": "2021-05-30T12:11:06.242702Z",
     "iopub.status.busy": "2021-05-30T12:11:06.232227Z",
     "iopub.status.idle": "2021-05-30T12:11:06.386689Z",
     "shell.execute_reply": "2021-05-30T12:11:06.385908Z",
     "shell.execute_reply.started": "2021-05-30T12:07:55.154400Z"
    },
    "papermill": {
     "duration": 0.281391,
     "end_time": "2021-05-30T12:11:06.386872",
     "exception": false,
     "start_time": "2021-05-30T12:11:06.105481",
     "status": "completed"
    },
    "tags": []
   },
   "outputs": [
    {
     "data": {
      "image/png": "[encoded data removed]",
      "text/plain": [
       "<Figure size 864x432 with 1 Axes>"
      ]
     },
     "metadata": {
      "needs_background": "light"
     },
     "output_type": "display_data"
    }
   ],
   "source": [
    "plt.figure(figsize=(12,6))\n",
    "df_train.groupby(\"Title\")[\"Survived\"].mean().plot(kind = \"bar\")\n",
    "plt.xticks(rotation=0)\n",
    "plt.title(\"Survival Rate By Title\",pad=10)\n",
    "plt.show()"
   ]
  },
  {
   "cell_type": "markdown",
   "metadata": {
    "papermill": {
     "duration": 0.098205,
     "end_time": "2021-05-30T12:11:06.585421",
     "exception": false,
     "start_time": "2021-05-30T12:11:06.487216",
     "status": "completed"
    },
    "tags": []
   },
   "source": [
    "<font color = \"blue\" size=4px> <b>Interpretation : </b></font>\n",
    "\n",
    "* <font color = \"red\" size=4px> It is Evident That Passengers with **age < 18**, **Females** and **Others** has Survived more inspite is imbalance in proportion  </font>\n",
    "   \n",
    "\n",
    "<hr>"
   ]
  },
  {
   "cell_type": "markdown",
   "metadata": {
    "papermill": {
     "duration": 0.102337,
     "end_time": "2021-05-30T12:11:06.786129",
     "exception": false,
     "start_time": "2021-05-30T12:11:06.683792",
     "status": "completed"
    },
    "tags": []
   },
   "source": [
    "### Lets Now Fill the Missing Values In Age Column With respect to Title and perform Necessary Task : \n",
    "\n",
    "* <font color = \"darkred\" size=3px>Combine Parch and SibSp as family_size and ultimately to Alone</font>\n",
    "* <font color = \"darkred\" size=3px> Drop Irrelevant Columns Such as Cabin , Name , Ticket , PassengerId</font>\n",
    "* <font color = \"darkred\" size=3px> Perform One Hot Encoding for Categorical Nominal Features (Title, Pclass, Sex, Embarked)</font>\n",
    "* <font color = \"darkred\" size=3px> Fill Missing Values For Embarked i.e with mode of column</font>\n",
    "* <font color = \"darkred\" size=3px> Convert Object column to Categories</font>"
   ]
  },
  {
   "cell_type": "code",
   "execution_count": 26,
   "metadata": {
    "execution": {
     "iopub.execute_input": "2021-05-30T12:11:06.996381Z",
     "iopub.status.busy": "2021-05-30T12:11:06.992908Z",
     "iopub.status.idle": "2021-05-30T12:11:07.009323Z",
     "shell.execute_reply": "2021-05-30T12:11:07.008723Z",
     "shell.execute_reply.started": "2021-05-30T12:07:55.320985Z"
    },
    "papermill": {
     "duration": 0.124909,
     "end_time": "2021-05-30T12:11:07.009505",
     "exception": false,
     "start_time": "2021-05-30T12:11:06.884596",
     "status": "completed"
    },
    "tags": []
   },
   "outputs": [
    {
     "data": {
      "text/html": [
       "<div>\n",
       "<style scoped>\n",
       "    .dataframe tbody tr th:only-of-type {\n",
       "        vertical-align: middle;\n",
       "    }\n",
       "\n",
       "    .dataframe tbody tr th {\n",
       "        vertical-align: top;\n",
       "    }\n",
       "\n",
       "    .dataframe thead th {\n",
       "        text-align: right;\n",
       "    }\n",
       "</style>\n",
       "<table border=\"1\" class=\"dataframe\">\n",
       "  <thead>\n",
       "    <tr style=\"text-align: right;\">\n",
       "      <th></th>\n",
       "      <th>Family_Size</th>\n",
       "      <th>Survived</th>\n",
       "    </tr>\n",
       "  </thead>\n",
       "  <tbody>\n",
       "    <tr>\n",
       "      <th>3</th>\n",
       "      <td>4</td>\n",
       "      <td>0.724138</td>\n",
       "    </tr>\n",
       "    <tr>\n",
       "      <th>2</th>\n",
       "      <td>3</td>\n",
       "      <td>0.578431</td>\n",
       "    </tr>\n",
       "    <tr>\n",
       "      <th>1</th>\n",
       "      <td>2</td>\n",
       "      <td>0.552795</td>\n",
       "    </tr>\n",
       "    <tr>\n",
       "      <th>6</th>\n",
       "      <td>7</td>\n",
       "      <td>0.333333</td>\n",
       "    </tr>\n",
       "    <tr>\n",
       "      <th>0</th>\n",
       "      <td>1</td>\n",
       "      <td>0.303538</td>\n",
       "    </tr>\n",
       "    <tr>\n",
       "      <th>4</th>\n",
       "      <td>5</td>\n",
       "      <td>0.200000</td>\n",
       "    </tr>\n",
       "    <tr>\n",
       "      <th>5</th>\n",
       "      <td>6</td>\n",
       "      <td>0.136364</td>\n",
       "    </tr>\n",
       "    <tr>\n",
       "      <th>7</th>\n",
       "      <td>8</td>\n",
       "      <td>0.000000</td>\n",
       "    </tr>\n",
       "    <tr>\n",
       "      <th>8</th>\n",
       "      <td>11</td>\n",
       "      <td>0.000000</td>\n",
       "    </tr>\n",
       "  </tbody>\n",
       "</table>\n",
       "</div>"
      ],
      "text/plain": [
       "   Family_Size  Survived\n",
       "3            4  0.724138\n",
       "2            3  0.578431\n",
       "1            2  0.552795\n",
       "6            7  0.333333\n",
       "0            1  0.303538\n",
       "4            5  0.200000\n",
       "5            6  0.136364\n",
       "7            8  0.000000\n",
       "8           11  0.000000"
      ]
     },
     "execution_count": 26,
     "metadata": {},
     "output_type": "execute_result"
    }
   ],
   "source": [
    "for df in combine_df:\n",
    "    df['Family_Size'] = df['SibSp'] + df['Parch'] + 1\n",
    "\n",
    "df_train[['Family_Size', 'Survived']].groupby(['Family_Size'], as_index=False).mean().sort_values(by='Survived', ascending=False)"
   ]
  },
  {
   "cell_type": "code",
   "execution_count": 27,
   "metadata": {
    "execution": {
     "iopub.execute_input": "2021-05-30T12:11:07.223171Z",
     "iopub.status.busy": "2021-05-30T12:11:07.220462Z",
     "iopub.status.idle": "2021-05-30T12:11:07.746201Z",
     "shell.execute_reply": "2021-05-30T12:11:07.745535Z",
     "shell.execute_reply.started": "2021-05-30T12:07:55.345273Z"
    },
    "papermill": {
     "duration": 0.634839,
     "end_time": "2021-05-30T12:11:07.746375",
     "exception": false,
     "start_time": "2021-05-30T12:11:07.111536",
     "status": "completed"
    },
    "tags": []
   },
   "outputs": [
    {
     "data": {
      "image/png": "[encoded data removed]",
      "text/plain": [
       "<Figure size 1296x432 with 1 Axes>"
      ]
     },
     "metadata": {
      "needs_background": "light"
     },
     "output_type": "display_data"
    }
   ],
   "source": [
    "plt.figure(figsize=(18,6))\n",
    "sns.barplot(data= df_train, x = \"Family_Size\", y = \"Survived\")\n",
    "plt.title(\"Survival Rate By Family Size\",pad=10)\n",
    "plt.show()"
   ]
  },
  {
   "cell_type": "markdown",
   "metadata": {
    "papermill": {
     "duration": 0.102459,
     "end_time": "2021-05-30T12:11:07.950406",
     "exception": false,
     "start_time": "2021-05-30T12:11:07.847947",
     "status": "completed"
    },
    "tags": []
   },
   "source": [
    "<font color = \"blue\" size=4px> <b>Interpretation : </b></font>\n",
    "\n",
    "* <font color = \"red\" size=4px>It is Evident that Family Size 2-3 had good Survival rate  </font>\n",
    "* <font color = \"red\" size=4px>Individua with No Family had less survival rate than individuals with family  </font>\n",
    "* <font color = \"red\" size=4px>Family size > 7 had zero Survival Rate</font>\n",
    "* <font color = \"red\" size=4px>Lets Keep this Feature for Experimental Purpose</font>\n",
    "\n",
    "<hr>"
   ]
  },
  {
   "cell_type": "markdown",
   "metadata": {
    "papermill": {
     "duration": 0.102963,
     "end_time": "2021-05-30T12:11:08.155498",
     "exception": false,
     "start_time": "2021-05-30T12:11:08.052535",
     "status": "completed"
    },
    "tags": []
   },
   "source": [
    "### Lets Draw some more Inferences"
   ]
  },
  {
   "cell_type": "code",
   "execution_count": 28,
   "metadata": {
    "execution": {
     "iopub.execute_input": "2021-05-30T12:11:08.367275Z",
     "iopub.status.busy": "2021-05-30T12:11:08.366166Z",
     "iopub.status.idle": "2021-05-30T12:11:09.426406Z",
     "shell.execute_reply": "2021-05-30T12:11:09.425652Z",
     "shell.execute_reply.started": "2021-05-30T12:07:55.841954Z"
    },
    "papermill": {
     "duration": 1.169495,
     "end_time": "2021-05-30T12:11:09.426558",
     "exception": false,
     "start_time": "2021-05-30T12:11:08.257063",
     "status": "completed"
    },
    "tags": []
   },
   "outputs": [
    {
     "data": {
      "image/png": "[encoded data removed]",
      "text/plain": [
       "<Figure size 1296x432 with 1 Axes>"
      ]
     },
     "metadata": {
      "needs_background": "light"
     },
     "output_type": "display_data"
    }
   ],
   "source": [
    "plt.figure(figsize=(18,6))\n",
    "sns.barplot(data= df_train, x = \"Family_Size\", y = \"PassengerId\",hue =\"Pclass\")\n",
    "plt.title(\"Survival Rate By Family Size\",pad=10)\n",
    "plt.show()"
   ]
  },
  {
   "cell_type": "markdown",
   "metadata": {
    "papermill": {
     "duration": 0.104437,
     "end_time": "2021-05-30T12:11:09.631104",
     "exception": false,
     "start_time": "2021-05-30T12:11:09.526667",
     "status": "completed"
    },
    "tags": []
   },
   "source": [
    "<font color = \"blue\" size=4px> <b>Interpretation : </b></font>\n",
    "\n",
    "* <font color = \"red\" size=4px>It is Evident that Family Size > 6 had no individual from Pclass 1 </font>\n",
    " \n",
    "<hr>"
   ]
  },
  {
   "cell_type": "markdown",
   "metadata": {
    "papermill": {
     "duration": 0.100085,
     "end_time": "2021-05-30T12:11:09.834668",
     "exception": false,
     "start_time": "2021-05-30T12:11:09.734583",
     "status": "completed"
    },
    "tags": []
   },
   "source": [
    "### Lets Create Alone Column Indicating If Passenger is alone or with Family"
   ]
  },
  {
   "cell_type": "code",
   "execution_count": 29,
   "metadata": {
    "execution": {
     "iopub.execute_input": "2021-05-30T12:11:10.058716Z",
     "iopub.status.busy": "2021-05-30T12:11:10.054251Z",
     "iopub.status.idle": "2021-05-30T12:11:10.070007Z",
     "shell.execute_reply": "2021-05-30T12:11:10.069207Z",
     "shell.execute_reply.started": "2021-05-30T12:07:56.813922Z"
    },
    "papermill": {
     "duration": 0.132043,
     "end_time": "2021-05-30T12:11:10.070175",
     "exception": false,
     "start_time": "2021-05-30T12:11:09.938132",
     "status": "completed"
    },
    "tags": []
   },
   "outputs": [
    {
     "data": {
      "text/html": [
       "<div>\n",
       "<style scoped>\n",
       "    .dataframe tbody tr th:only-of-type {\n",
       "        vertical-align: middle;\n",
       "    }\n",
       "\n",
       "    .dataframe tbody tr th {\n",
       "        vertical-align: top;\n",
       "    }\n",
       "\n",
       "    .dataframe thead th {\n",
       "        text-align: right;\n",
       "    }\n",
       "</style>\n",
       "<table border=\"1\" class=\"dataframe\">\n",
       "  <thead>\n",
       "    <tr style=\"text-align: right;\">\n",
       "      <th></th>\n",
       "      <th>Alone</th>\n",
       "      <th>Survived</th>\n",
       "    </tr>\n",
       "  </thead>\n",
       "  <tbody>\n",
       "    <tr>\n",
       "      <th>0</th>\n",
       "      <td>0</td>\n",
       "      <td>0.505650</td>\n",
       "    </tr>\n",
       "    <tr>\n",
       "      <th>1</th>\n",
       "      <td>1</td>\n",
       "      <td>0.303538</td>\n",
       "    </tr>\n",
       "  </tbody>\n",
       "</table>\n",
       "</div>"
      ],
      "text/plain": [
       "   Alone  Survived\n",
       "0      0  0.505650\n",
       "1      1  0.303538"
      ]
     },
     "execution_count": 29,
     "metadata": {},
     "output_type": "execute_result"
    }
   ],
   "source": [
    "for df in combine_df:\n",
    "    df['Alone'] = 0\n",
    "    df.loc[df['Family_Size'] == 1, 'Alone'] = 1\n",
    "\n",
    "df_train[['Alone', 'Survived']].groupby(['Alone'], as_index=False).mean()\n"
   ]
  },
  {
   "cell_type": "markdown",
   "metadata": {
    "papermill": {
     "duration": 0.100172,
     "end_time": "2021-05-30T12:11:10.275923",
     "exception": false,
     "start_time": "2021-05-30T12:11:10.175751",
     "status": "completed"
    },
    "tags": []
   },
   "source": [
    "### Lets See if Alone status of Passengers Plays Significant Role in Survival Rate"
   ]
  },
  {
   "cell_type": "code",
   "execution_count": 30,
   "metadata": {
    "execution": {
     "iopub.execute_input": "2021-05-30T12:11:10.513553Z",
     "iopub.status.busy": "2021-05-30T12:11:10.510779Z",
     "iopub.status.idle": "2021-05-30T12:11:10.734469Z",
     "shell.execute_reply": "2021-05-30T12:11:10.733211Z",
     "shell.execute_reply.started": "2021-05-30T12:07:56.839551Z"
    },
    "papermill": {
     "duration": 0.351365,
     "end_time": "2021-05-30T12:11:10.734701",
     "exception": false,
     "start_time": "2021-05-30T12:11:10.383336",
     "status": "completed"
    },
    "tags": []
   },
   "outputs": [
    {
     "data": {
      "image/png": "[encoded data removed]",
      "text/plain": [
       "<Figure size 1296x432 with 1 Axes>"
      ]
     },
     "metadata": {
      "needs_background": "light"
     },
     "output_type": "display_data"
    }
   ],
   "source": [
    "plt.figure(figsize=(18,6))\n",
    "sns.barplot(data= df_train, x = \"Alone\", y = \"Survived\")\n",
    "plt.xticks([0,1],[\"No\",\"Yes\"])\n",
    "plt.title(\"Survival Rate By Alone Status\",pad=10)\n",
    "plt.show()"
   ]
  },
  {
   "cell_type": "markdown",
   "metadata": {
    "papermill": {
     "duration": 0.101985,
     "end_time": "2021-05-30T12:11:10.941269",
     "exception": false,
     "start_time": "2021-05-30T12:11:10.839284",
     "status": "completed"
    },
    "tags": []
   },
   "source": [
    "<font color = \"blue\" size=4px> <b>Interpretation : </b></font>\n",
    "\n",
    "* <font color = \"red\" size=4px>It is Evident that Passenger With Family Had Higher Survival Rate Than Passenger who was on Board alone </font>\n",
    "* <font color = \"red\" size=4px>Lets Keep This Feature For experimental Purpose</font>\n",
    " \n",
    "<hr>"
   ]
  },
  {
   "cell_type": "code",
   "execution_count": 31,
   "metadata": {
    "execution": {
     "iopub.execute_input": "2021-05-30T12:11:11.156299Z",
     "iopub.status.busy": "2021-05-30T12:11:11.155306Z",
     "iopub.status.idle": "2021-05-30T12:11:11.162158Z",
     "shell.execute_reply": "2021-05-30T12:11:11.162638Z",
     "shell.execute_reply.started": "2021-05-30T12:07:57.055655Z"
    },
    "papermill": {
     "duration": 0.118016,
     "end_time": "2021-05-30T12:11:11.162824",
     "exception": false,
     "start_time": "2021-05-30T12:11:11.044808",
     "status": "completed"
    },
    "tags": []
   },
   "outputs": [
    {
     "data": {
      "text/plain": [
       "Title\n",
       "Master     3.5\n",
       "Miss      21.0\n",
       "Mr        30.0\n",
       "Mrs       35.0\n",
       "Others    48.5\n",
       "Name: Age, dtype: float64"
      ]
     },
     "execution_count": 31,
     "metadata": {},
     "output_type": "execute_result"
    }
   ],
   "source": [
    "# Get Median age for each title\n",
    "\n",
    "df_train.groupby(\"Title\")[\"Age\"].median()"
   ]
  },
  {
   "cell_type": "code",
   "execution_count": 32,
   "metadata": {
    "execution": {
     "iopub.execute_input": "2021-05-30T12:11:11.376530Z",
     "iopub.status.busy": "2021-05-30T12:11:11.375877Z",
     "iopub.status.idle": "2021-05-30T12:11:11.382534Z",
     "shell.execute_reply": "2021-05-30T12:11:11.381882Z",
     "shell.execute_reply.started": "2021-05-30T12:07:57.066676Z"
    },
    "papermill": {
     "duration": 0.115914,
     "end_time": "2021-05-30T12:11:11.382676",
     "exception": false,
     "start_time": "2021-05-30T12:11:11.266762",
     "status": "completed"
    },
    "tags": []
   },
   "outputs": [
    {
     "data": {
      "text/plain": [
       "Index(['PassengerId', 'Survived', 'Pclass', 'Name', 'Sex', 'Age', 'SibSp',\n",
       "       'Parch', 'Ticket', 'Fare', 'Cabin', 'Embarked', 'Cabin_name',\n",
       "       'Ticket_Numeric', 'Title', 'Family_Size', 'Alone'],\n",
       "      dtype='object')"
      ]
     },
     "execution_count": 32,
     "metadata": {},
     "output_type": "execute_result"
    }
   ],
   "source": [
    "df_train.columns"
   ]
  },
  {
   "cell_type": "code",
   "execution_count": 33,
   "metadata": {
    "execution": {
     "iopub.execute_input": "2021-05-30T12:11:11.605160Z",
     "iopub.status.busy": "2021-05-30T12:11:11.604061Z",
     "iopub.status.idle": "2021-05-30T12:11:11.619775Z",
     "shell.execute_reply": "2021-05-30T12:11:11.620269Z",
     "shell.execute_reply.started": "2021-05-30T12:07:57.076616Z"
    },
    "papermill": {
     "duration": 0.131278,
     "end_time": "2021-05-30T12:11:11.620455",
     "exception": false,
     "start_time": "2021-05-30T12:11:11.489177",
     "status": "completed"
    },
    "tags": []
   },
   "outputs": [],
   "source": [
    "# Create Function to do all above task \n",
    "\n",
    "    \n",
    "# Fill Missing Age Values\n",
    "df_train.Age = df_train.groupby(\"Title\").Age.apply(lambda x:x.fillna(x.median()))\n",
    "df_test.Age = df_test.groupby(\"Title\").Age.apply(lambda x:x.fillna(x.median()))\n",
    "    \n",
    "# Fill Missing Value Of Embarked Column using mode\n",
    "df_train.Embarked = df_train.Embarked.fillna(df_train.Embarked.mode()[0])\n",
    "df_test.Embarked = df_test.Embarked.fillna(df_train.Embarked.mode()[0])\n",
    "\n",
    "# Dropping irrelevant columns  \n",
    "df_train.drop(columns=[\"PassengerId\",\"Name\",\"Ticket\",\"Cabin\",\"Parch\",\"SibSp\",\"Ticket_Numeric\",\"Alone\"],inplace=True)\n",
    "df_test.drop(columns=[\"PassengerId\",\"Name\",\"Ticket\",\"Cabin\",\"Parch\",\"SibSp\",\"Ticket_Numeric\",\"Alone\"],inplace=True)\n",
    "    \n"
   ]
  },
  {
   "cell_type": "code",
   "execution_count": 34,
   "metadata": {
    "execution": {
     "iopub.execute_input": "2021-05-30T12:11:11.835031Z",
     "iopub.status.busy": "2021-05-30T12:11:11.834043Z",
     "iopub.status.idle": "2021-05-30T12:11:11.854245Z",
     "shell.execute_reply": "2021-05-30T12:11:11.853657Z",
     "shell.execute_reply.started": "2021-05-30T12:07:57.104829Z"
    },
    "papermill": {
     "duration": 0.129168,
     "end_time": "2021-05-30T12:11:11.854415",
     "exception": false,
     "start_time": "2021-05-30T12:11:11.725247",
     "status": "completed"
    },
    "tags": []
   },
   "outputs": [],
   "source": [
    "# Lets Create Dummy Variables For Categorical Nominal Features\n",
    "\n",
    "df_train = pd.get_dummies(data=df_train,columns=[\"Sex\",\"Embarked\",\"Title\",\"Cabin_name\",\"Pclass\"],drop_first=True)\n",
    "df_test = pd.get_dummies(data=df_test,columns=[\"Sex\",\"Embarked\",\"Title\",\"Cabin_name\",\"Pclass\"],drop_first=True)"
   ]
  },
  {
   "cell_type": "markdown",
   "metadata": {
    "papermill": {
     "duration": 0.105474,
     "end_time": "2021-05-30T12:11:12.063698",
     "exception": false,
     "start_time": "2021-05-30T12:11:11.958224",
     "status": "completed"
    },
    "tags": []
   },
   "source": [
    "#### Filling the null Value present in Fare \n"
   ]
  },
  {
   "cell_type": "code",
   "execution_count": 35,
   "metadata": {
    "execution": {
     "iopub.execute_input": "2021-05-30T12:11:12.280208Z",
     "iopub.status.busy": "2021-05-30T12:11:12.279275Z",
     "iopub.status.idle": "2021-05-30T12:11:12.282540Z",
     "shell.execute_reply": "2021-05-30T12:11:12.283115Z",
     "shell.execute_reply.started": "2021-05-30T12:07:57.126803Z"
    },
    "papermill": {
     "duration": 0.114894,
     "end_time": "2021-05-30T12:11:12.283315",
     "exception": false,
     "start_time": "2021-05-30T12:11:12.168421",
     "status": "completed"
    },
    "tags": []
   },
   "outputs": [],
   "source": [
    "df_test.Fare.fillna(df_test.Fare.median(),inplace=True)"
   ]
  },
  {
   "cell_type": "markdown",
   "metadata": {
    "execution": {
     "iopub.execute_input": "2021-05-28T14:01:53.713693Z",
     "iopub.status.busy": "2021-05-28T14:01:53.713296Z",
     "iopub.status.idle": "2021-05-28T14:01:53.71901Z",
     "shell.execute_reply": "2021-05-28T14:01:53.718114Z",
     "shell.execute_reply.started": "2021-05-28T14:01:53.713658Z"
    },
    "papermill": {
     "duration": 0.103368,
     "end_time": "2021-05-30T12:11:12.489420",
     "exception": false,
     "start_time": "2021-05-30T12:11:12.386052",
     "status": "completed"
    },
    "tags": []
   },
   "source": [
    "### Lets Verify Data After Cleaning\n"
   ]
  },
  {
   "cell_type": "code",
   "execution_count": 36,
   "metadata": {
    "execution": {
     "iopub.execute_input": "2021-05-30T12:11:12.703950Z",
     "iopub.status.busy": "2021-05-30T12:11:12.702891Z",
     "iopub.status.idle": "2021-05-30T12:11:12.719058Z",
     "shell.execute_reply": "2021-05-30T12:11:12.718495Z",
     "shell.execute_reply.started": "2021-05-30T12:07:57.134243Z"
    },
    "papermill": {
     "duration": 0.126156,
     "end_time": "2021-05-30T12:11:12.719213",
     "exception": false,
     "start_time": "2021-05-30T12:11:12.593057",
     "status": "completed"
    },
    "tags": []
   },
   "outputs": [
    {
     "name": "stdout",
     "output_type": "stream",
     "text": [
      "<class 'pandas.core.frame.DataFrame'>\n",
      "RangeIndex: 891 entries, 0 to 890\n",
      "Data columns (total 21 columns):\n",
      " #   Column        Non-Null Count  Dtype  \n",
      "---  ------        --------------  -----  \n",
      " 0   Survived      891 non-null    int64  \n",
      " 1   Age           891 non-null    float64\n",
      " 2   Fare          891 non-null    float64\n",
      " 3   Family_Size   891 non-null    int64  \n",
      " 4   Sex_male      891 non-null    uint8  \n",
      " 5   Embarked_Q    891 non-null    uint8  \n",
      " 6   Embarked_S    891 non-null    uint8  \n",
      " 7   Title_Miss    891 non-null    uint8  \n",
      " 8   Title_Mr      891 non-null    uint8  \n",
      " 9   Title_Mrs     891 non-null    uint8  \n",
      " 10  Title_Others  891 non-null    uint8  \n",
      " 11  Cabin_name_B  891 non-null    uint8  \n",
      " 12  Cabin_name_C  891 non-null    uint8  \n",
      " 13  Cabin_name_D  891 non-null    uint8  \n",
      " 14  Cabin_name_E  891 non-null    uint8  \n",
      " 15  Cabin_name_F  891 non-null    uint8  \n",
      " 16  Cabin_name_G  891 non-null    uint8  \n",
      " 17  Cabin_name_T  891 non-null    uint8  \n",
      " 18  Cabin_name_n  891 non-null    uint8  \n",
      " 19  Pclass_2      891 non-null    uint8  \n",
      " 20  Pclass_3      891 non-null    uint8  \n",
      "dtypes: float64(2), int64(2), uint8(17)\n",
      "memory usage: 42.8 KB\n"
     ]
    }
   ],
   "source": [
    "# Verifying If Null Values present\n",
    "\n",
    "df_train.info()"
   ]
  },
  {
   "cell_type": "code",
   "execution_count": 37,
   "metadata": {
    "execution": {
     "iopub.execute_input": "2021-05-30T12:11:12.945653Z",
     "iopub.status.busy": "2021-05-30T12:11:12.943549Z",
     "iopub.status.idle": "2021-05-30T12:11:12.949498Z",
     "shell.execute_reply": "2021-05-30T12:11:12.948852Z",
     "shell.execute_reply.started": "2021-05-30T12:07:57.161823Z"
    },
    "papermill": {
     "duration": 0.125921,
     "end_time": "2021-05-30T12:11:12.949644",
     "exception": false,
     "start_time": "2021-05-30T12:11:12.823723",
     "status": "completed"
    },
    "tags": []
   },
   "outputs": [
    {
     "name": "stdout",
     "output_type": "stream",
     "text": [
      "<class 'pandas.core.frame.DataFrame'>\n",
      "RangeIndex: 418 entries, 0 to 417\n",
      "Data columns (total 19 columns):\n",
      " #   Column        Non-Null Count  Dtype  \n",
      "---  ------        --------------  -----  \n",
      " 0   Age           418 non-null    float64\n",
      " 1   Fare          418 non-null    float64\n",
      " 2   Family_Size   418 non-null    int64  \n",
      " 3   Sex_male      418 non-null    uint8  \n",
      " 4   Embarked_Q    418 non-null    uint8  \n",
      " 5   Embarked_S    418 non-null    uint8  \n",
      " 6   Title_Miss    418 non-null    uint8  \n",
      " 7   Title_Mr      418 non-null    uint8  \n",
      " 8   Title_Mrs     418 non-null    uint8  \n",
      " 9   Title_Others  418 non-null    uint8  \n",
      " 10  Cabin_name_B  418 non-null    uint8  \n",
      " 11  Cabin_name_C  418 non-null    uint8  \n",
      " 12  Cabin_name_D  418 non-null    uint8  \n",
      " 13  Cabin_name_E  418 non-null    uint8  \n",
      " 14  Cabin_name_F  418 non-null    uint8  \n",
      " 15  Cabin_name_G  418 non-null    uint8  \n",
      " 16  Cabin_name_n  418 non-null    uint8  \n",
      " 17  Pclass_2      418 non-null    uint8  \n",
      " 18  Pclass_3      418 non-null    uint8  \n",
      "dtypes: float64(2), int64(1), uint8(16)\n",
      "memory usage: 16.5 KB\n"
     ]
    }
   ],
   "source": [
    "# Verifying If Null Values present\n",
    "\n",
    "df_test.info()"
   ]
  },
  {
   "cell_type": "code",
   "execution_count": 38,
   "metadata": {
    "execution": {
     "iopub.execute_input": "2021-05-30T12:11:13.167661Z",
     "iopub.status.busy": "2021-05-30T12:11:13.166941Z",
     "iopub.status.idle": "2021-05-30T12:11:13.171997Z",
     "shell.execute_reply": "2021-05-30T12:11:13.171265Z",
     "shell.execute_reply.started": "2021-05-30T12:07:57.181443Z"
    },
    "papermill": {
     "duration": 0.114534,
     "end_time": "2021-05-30T12:11:13.172142",
     "exception": false,
     "start_time": "2021-05-30T12:11:13.057608",
     "status": "completed"
    },
    "tags": []
   },
   "outputs": [],
   "source": [
    "# Drop Cabin_bame_T in train as its not available on test\n",
    "\n",
    "df_train.drop(columns=[\"Cabin_name_T\"],inplace=True)"
   ]
  },
  {
   "cell_type": "markdown",
   "metadata": {
    "papermill": {
     "duration": 0.101791,
     "end_time": "2021-05-30T12:11:13.378203",
     "exception": false,
     "start_time": "2021-05-30T12:11:13.276412",
     "status": "completed"
    },
    "tags": []
   },
   "source": [
    "### Set Features and Target"
   ]
  },
  {
   "cell_type": "code",
   "execution_count": 39,
   "metadata": {
    "execution": {
     "iopub.execute_input": "2021-05-30T12:11:13.592471Z",
     "iopub.status.busy": "2021-05-30T12:11:13.591786Z",
     "iopub.status.idle": "2021-05-30T12:11:13.594399Z",
     "shell.execute_reply": "2021-05-30T12:11:13.593737Z",
     "shell.execute_reply.started": "2021-05-30T12:07:57.190473Z"
    },
    "papermill": {
     "duration": 0.111504,
     "end_time": "2021-05-30T12:11:13.594546",
     "exception": false,
     "start_time": "2021-05-30T12:11:13.483042",
     "status": "completed"
    },
    "tags": []
   },
   "outputs": [],
   "source": [
    "features = df_train.drop(columns = \"Survived\")\n",
    "target = df_train.Survived\n",
    "feature_col = features.columns"
   ]
  },
  {
   "cell_type": "markdown",
   "metadata": {
    "papermill": {
     "duration": 0.105564,
     "end_time": "2021-05-30T12:11:13.804783",
     "exception": false,
     "start_time": "2021-05-30T12:11:13.699219",
     "status": "completed"
    },
    "tags": []
   },
   "source": [
    "### Standardise the data"
   ]
  },
  {
   "cell_type": "code",
   "execution_count": 40,
   "metadata": {
    "execution": {
     "iopub.execute_input": "2021-05-30T12:11:14.018489Z",
     "iopub.status.busy": "2021-05-30T12:11:14.017754Z",
     "iopub.status.idle": "2021-05-30T12:11:14.025545Z",
     "shell.execute_reply": "2021-05-30T12:11:14.024932Z",
     "shell.execute_reply.started": "2021-05-30T12:07:57.204606Z"
    },
    "papermill": {
     "duration": 0.117316,
     "end_time": "2021-05-30T12:11:14.025709",
     "exception": false,
     "start_time": "2021-05-30T12:11:13.908393",
     "status": "completed"
    },
    "tags": []
   },
   "outputs": [
    {
     "name": "stdout",
     "output_type": "stream",
     "text": [
      "Shape of features :  (891, 19)\n"
     ]
    }
   ],
   "source": [
    "features = StandardScaler().fit_transform(features)\n",
    "\n",
    "print(\"Shape of features : \",features.shape)"
   ]
  },
  {
   "cell_type": "markdown",
   "metadata": {
    "papermill": {
     "duration": 0.104102,
     "end_time": "2021-05-30T12:11:14.234957",
     "exception": false,
     "start_time": "2021-05-30T12:11:14.130855",
     "status": "completed"
    },
    "tags": []
   },
   "source": [
    "### Remove Features with Zero Variance"
   ]
  },
  {
   "cell_type": "code",
   "execution_count": 41,
   "metadata": {
    "execution": {
     "iopub.execute_input": "2021-05-30T12:11:14.451932Z",
     "iopub.status.busy": "2021-05-30T12:11:14.449723Z",
     "iopub.status.idle": "2021-05-30T12:11:14.455939Z",
     "shell.execute_reply": "2021-05-30T12:11:14.456403Z",
     "shell.execute_reply.started": "2021-05-30T12:07:57.221645Z"
    },
    "papermill": {
     "duration": 0.117905,
     "end_time": "2021-05-30T12:11:14.456586",
     "exception": false,
     "start_time": "2021-05-30T12:11:14.338681",
     "status": "completed"
    },
    "tags": []
   },
   "outputs": [
    {
     "name": "stdout",
     "output_type": "stream",
     "text": [
      "Varible with Zero Variance :  []\n"
     ]
    }
   ],
   "source": [
    "# Check for Columns with Zero Variance In data Set\n",
    "\n",
    "var_thres = VarianceThreshold(threshold=0.7)\n",
    "\n",
    "features_var = pd.DataFrame(features,columns=feature_col)\n",
    "\n",
    "var_thres.fit(features_var)\n",
    "constant_columns = [column for column in features_var if column not in features_var.columns[var_thres.get_support()]]\n",
    "print(\"Varible with Zero Variance : \",constant_columns)"
   ]
  },
  {
   "cell_type": "markdown",
   "metadata": {
    "papermill": {
     "duration": 0.105575,
     "end_time": "2021-05-30T12:11:14.671907",
     "exception": false,
     "start_time": "2021-05-30T12:11:14.566332",
     "status": "completed"
    },
    "tags": []
   },
   "source": [
    "<font color = \"blue\" size=4px> <b>Interpretation : </b></font>\n",
    "\n",
    "* <font color = \"red\" size=4px>There are no Features with constant Variance</font>\n",
    "\n",
    " \n",
    "<hr>"
   ]
  },
  {
   "cell_type": "markdown",
   "metadata": {
    "execution": {
     "iopub.execute_input": "2021-05-27T12:54:22.548171Z",
     "iopub.status.busy": "2021-05-27T12:54:22.547671Z",
     "iopub.status.idle": "2021-05-27T12:54:22.556604Z",
     "shell.execute_reply": "2021-05-27T12:54:22.555285Z",
     "shell.execute_reply.started": "2021-05-27T12:54:22.548064Z"
    },
    "papermill": {
     "duration": 0.104652,
     "end_time": "2021-05-30T12:11:14.884917",
     "exception": false,
     "start_time": "2021-05-30T12:11:14.780265",
     "status": "completed"
    },
    "tags": []
   },
   "source": [
    "<hr>\n",
    "\n",
    "<font color = \"#191970\" size=10px><center><b>Model Building</b></font>\n",
    "    \n",
    "<hr>"
   ]
  },
  {
   "cell_type": "markdown",
   "metadata": {
    "execution": {
     "iopub.execute_input": "2021-05-27T12:54:22.548171Z",
     "iopub.status.busy": "2021-05-27T12:54:22.547671Z",
     "iopub.status.idle": "2021-05-27T12:54:22.556604Z",
     "shell.execute_reply": "2021-05-27T12:54:22.555285Z",
     "shell.execute_reply.started": "2021-05-27T12:54:22.548064Z"
    },
    "papermill": {
     "duration": 0.107036,
     "end_time": "2021-05-30T12:11:15.095402",
     "exception": false,
     "start_time": "2021-05-30T12:11:14.988366",
     "status": "completed"
    },
    "tags": []
   },
   "source": [
    "<font color = \"#191970\" size=5px><center><b>Lets Build Model With All Variables</b></font>"
   ]
  },
  {
   "cell_type": "markdown",
   "metadata": {
    "papermill": {
     "duration": 0.121932,
     "end_time": "2021-05-30T12:11:15.351590",
     "exception": false,
     "start_time": "2021-05-30T12:11:15.229658",
     "status": "completed"
    },
    "tags": []
   },
   "source": [
    "### Grid Search"
   ]
  },
  {
   "cell_type": "code",
   "execution_count": 42,
   "metadata": {
    "execution": {
     "iopub.execute_input": "2021-05-30T12:11:15.594643Z",
     "iopub.status.busy": "2021-05-30T12:11:15.593946Z",
     "iopub.status.idle": "2021-05-30T12:11:15.597454Z",
     "shell.execute_reply": "2021-05-30T12:11:15.596766Z",
     "shell.execute_reply.started": "2021-05-30T12:07:57.237091Z"
    },
    "papermill": {
     "duration": 0.114203,
     "end_time": "2021-05-30T12:11:15.597600",
     "exception": false,
     "start_time": "2021-05-30T12:11:15.483397",
     "status": "completed"
    },
    "tags": []
   },
   "outputs": [],
   "source": [
    "# grid_param = {\n",
    "#     'n_estimators': [100,200],\n",
    "#     'criterion':['gini','entropy'],\n",
    "#     'max_depth': [4,5,6],\n",
    "#     'min_samples_split':[1,3,5,6,7],\n",
    "#     'min_samples_leaf':[2,5,6],\n",
    "#     }\n",
    "    \n",
    "\n",
    "# gridModel_test = GridSearchCV(RandomForestClassifier(),param_grid=grid_param,n_jobs=-1,verbose=3)\n",
    "# gridModel_test.fit(features,target)\n",
    "\n",
    "\n",
    "# # Get best Parameters \n",
    "\n",
    "# gridModel_test.best_params_"
   ]
  },
  {
   "cell_type": "markdown",
   "metadata": {
    "execution": {
     "iopub.execute_input": "2021-05-27T12:54:22.548171Z",
     "iopub.status.busy": "2021-05-27T12:54:22.547671Z",
     "iopub.status.idle": "2021-05-27T12:54:22.556604Z",
     "shell.execute_reply": "2021-05-27T12:54:22.555285Z",
     "shell.execute_reply.started": "2021-05-27T12:54:22.548064Z"
    },
    "papermill": {
     "duration": 0.107379,
     "end_time": "2021-05-30T12:11:15.810524",
     "exception": false,
     "start_time": "2021-05-30T12:11:15.703145",
     "status": "completed"
    },
    "tags": []
   },
   "source": [
    "<font color = \"#191970\" size=4px><b>Kfold Cross validation Score</b></font>"
   ]
  },
  {
   "cell_type": "code",
   "execution_count": 43,
   "metadata": {
    "execution": {
     "iopub.execute_input": "2021-05-30T12:11:16.027740Z",
     "iopub.status.busy": "2021-05-30T12:11:16.026687Z",
     "iopub.status.idle": "2021-05-30T12:11:16.030203Z",
     "shell.execute_reply": "2021-05-30T12:11:16.029563Z",
     "shell.execute_reply.started": "2021-05-30T12:07:57.249092Z"
    },
    "papermill": {
     "duration": 0.113203,
     "end_time": "2021-05-30T12:11:16.030355",
     "exception": false,
     "start_time": "2021-05-30T12:11:15.917152",
     "status": "completed"
    },
    "tags": []
   },
   "outputs": [],
   "source": [
    "# Instantiate KFold\n",
    "\n",
    "kf = KFold(n_splits=5,shuffle=True,random_state=1)"
   ]
  },
  {
   "cell_type": "code",
   "execution_count": 44,
   "metadata": {
    "execution": {
     "iopub.execute_input": "2021-05-30T12:11:16.246456Z",
     "iopub.status.busy": "2021-05-30T12:11:16.245763Z",
     "iopub.status.idle": "2021-05-30T12:11:21.718301Z",
     "shell.execute_reply": "2021-05-30T12:11:21.717730Z",
     "shell.execute_reply.started": "2021-05-30T12:07:57.257776Z"
    },
    "papermill": {
     "duration": 5.583694,
     "end_time": "2021-05-30T12:11:21.718457",
     "exception": false,
     "start_time": "2021-05-30T12:11:16.134763",
     "status": "completed"
    },
    "tags": []
   },
   "outputs": [
    {
     "name": "stdout",
     "output_type": "stream",
     "text": [
      "Model Score :  0.9034792368125701\n",
      "              precision    recall  f1-score   support\n",
      "\n",
      "           0       0.84      0.89      0.86       549\n",
      "           1       0.81      0.72      0.76       342\n",
      "\n",
      "    accuracy                           0.83       891\n",
      "   macro avg       0.82      0.81      0.81       891\n",
      "weighted avg       0.83      0.83      0.82       891\n",
      "\n"
     ]
    }
   ],
   "source": [
    "# Kfold Score\n",
    "\n",
    "rfmodel1 = RandomForestClassifier(n_estimators=100,criterion='gini',max_depth = None,min_samples_leaf=2,min_samples_split=6,n_jobs=-1,random_state=1)\n",
    "\n",
    "rfmodel1.fit(features,target)\n",
    "\n",
    "print(\"Model Score : \",rfmodel1.score(features,target))\n",
    "\n",
    "# Model Score\n",
    "print(metrics.classification_report(target,model_selection.cross_val_predict(rfmodel1,features, target,cv = kf)))\n",
    "\n",
    "rf_score = model_selection.cross_val_score(rfmodel1,features,target,cv=kf)\n"
   ]
  },
  {
   "cell_type": "markdown",
   "metadata": {
    "papermill": {
     "duration": 0.105337,
     "end_time": "2021-05-30T12:11:21.929758",
     "exception": false,
     "start_time": "2021-05-30T12:11:21.824421",
     "status": "completed"
    },
    "tags": []
   },
   "source": [
    "### Get Important Features"
   ]
  },
  {
   "cell_type": "code",
   "execution_count": 45,
   "metadata": {
    "execution": {
     "iopub.execute_input": "2021-05-30T12:11:22.148062Z",
     "iopub.status.busy": "2021-05-30T12:11:22.147013Z",
     "iopub.status.idle": "2021-05-30T12:11:22.255299Z",
     "shell.execute_reply": "2021-05-30T12:11:22.254674Z",
     "shell.execute_reply.started": "2021-05-30T12:08:03.083797Z"
    },
    "papermill": {
     "duration": 0.220254,
     "end_time": "2021-05-30T12:11:22.255448",
     "exception": false,
     "start_time": "2021-05-30T12:11:22.035194",
     "status": "completed"
    },
    "tags": []
   },
   "outputs": [],
   "source": [
    "# Get Important Features\n",
    "\n",
    "labels = list(feature_col)\n",
    "feature_importances = pd.DataFrame({'Importance':rfmodel1.feature_importances_},index=labels).sort_values(by='Importance',ascending=False)"
   ]
  },
  {
   "cell_type": "code",
   "execution_count": 46,
   "metadata": {
    "execution": {
     "iopub.execute_input": "2021-05-30T12:11:22.481294Z",
     "iopub.status.busy": "2021-05-30T12:11:22.480351Z",
     "iopub.status.idle": "2021-05-30T12:11:22.485214Z",
     "shell.execute_reply": "2021-05-30T12:11:22.484674Z",
     "shell.execute_reply.started": "2021-05-30T12:08:03.197230Z"
    },
    "papermill": {
     "duration": 0.12397,
     "end_time": "2021-05-30T12:11:22.485436",
     "exception": false,
     "start_time": "2021-05-30T12:11:22.361466",
     "status": "completed"
    },
    "tags": []
   },
   "outputs": [
    {
     "data": {
      "text/html": [
       "<div>\n",
       "<style scoped>\n",
       "    .dataframe tbody tr th:only-of-type {\n",
       "        vertical-align: middle;\n",
       "    }\n",
       "\n",
       "    .dataframe tbody tr th {\n",
       "        vertical-align: top;\n",
       "    }\n",
       "\n",
       "    .dataframe thead th {\n",
       "        text-align: right;\n",
       "    }\n",
       "</style>\n",
       "<table border=\"1\" class=\"dataframe\">\n",
       "  <thead>\n",
       "    <tr style=\"text-align: right;\">\n",
       "      <th></th>\n",
       "      <th>Importance</th>\n",
       "    </tr>\n",
       "  </thead>\n",
       "  <tbody>\n",
       "    <tr>\n",
       "      <th>Cabin_name_G</th>\n",
       "      <td>0.00094</td>\n",
       "    </tr>\n",
       "  </tbody>\n",
       "</table>\n",
       "</div>"
      ],
      "text/plain": [
       "              Importance\n",
       "Cabin_name_G     0.00094"
      ]
     },
     "execution_count": 46,
     "metadata": {},
     "output_type": "execute_result"
    }
   ],
   "source": [
    "# Features Having almost zero variance\n",
    "\n",
    "feature_importances[feature_importances.Importance < 0.001]"
   ]
  },
  {
   "cell_type": "code",
   "execution_count": 47,
   "metadata": {
    "execution": {
     "iopub.execute_input": "2021-05-30T12:11:22.721890Z",
     "iopub.status.busy": "2021-05-30T12:11:22.717793Z",
     "iopub.status.idle": "2021-05-30T12:11:23.004696Z",
     "shell.execute_reply": "2021-05-30T12:11:23.004052Z",
     "shell.execute_reply.started": "2021-05-30T12:08:03.211769Z"
    },
    "papermill": {
     "duration": 0.413206,
     "end_time": "2021-05-30T12:11:23.004861",
     "exception": false,
     "start_time": "2021-05-30T12:11:22.591655",
     "status": "completed"
    },
    "tags": []
   },
   "outputs": [
    {
     "data": {
      "image/png": "[encoded data removed]",
      "text/plain": [
       "<Figure size 864x576 with 1 Axes>"
      ]
     },
     "metadata": {
      "needs_background": "light"
     },
     "output_type": "display_data"
    }
   ],
   "source": [
    "# lets plot them\n",
    "\n",
    "feature_importances.Importance.sort_values(ascending=True).plot(kind='barh', figsize=(12, 8))\n",
    "plt.xlabel('Importance')\n",
    "\n",
    "plt.title(\"Feature Importances\")\n",
    "plt.show()\n"
   ]
  },
  {
   "cell_type": "markdown",
   "metadata": {
    "papermill": {
     "duration": 0.105617,
     "end_time": "2021-05-30T12:11:23.220113",
     "exception": false,
     "start_time": "2021-05-30T12:11:23.114496",
     "status": "completed"
    },
    "tags": []
   },
   "source": [
    "<font color = \"blue\" size=4px> <b>Interpretation : </b></font>\n",
    "\n",
    "* <font color = \"red\" size=4px>Title Mr is having High Variance as Well as Sex</font>\n",
    "* <font color = \"red\" size=4px>Cabin_name_G and Cabin_name_T is having Zero Variance</font>\n",
    "\n",
    "\n",
    " \n",
    "<hr>"
   ]
  },
  {
   "cell_type": "markdown",
   "metadata": {
    "execution": {
     "iopub.execute_input": "2021-05-27T12:54:22.548171Z",
     "iopub.status.busy": "2021-05-27T12:54:22.547671Z",
     "iopub.status.idle": "2021-05-27T12:54:22.556604Z",
     "shell.execute_reply": "2021-05-27T12:54:22.555285Z",
     "shell.execute_reply.started": "2021-05-27T12:54:22.548064Z"
    },
    "papermill": {
     "duration": 0.10514,
     "end_time": "2021-05-30T12:11:23.430863",
     "exception": false,
     "start_time": "2021-05-30T12:11:23.325723",
     "status": "completed"
    },
    "tags": []
   },
   "source": [
    "<font color = \"#191970\" size=5px><center><b>Lets Build Model With Significant Variables</b></font>"
   ]
  },
  {
   "cell_type": "code",
   "execution_count": 48,
   "metadata": {
    "execution": {
     "iopub.execute_input": "2021-05-30T12:11:23.726201Z",
     "iopub.status.busy": "2021-05-30T12:11:23.689757Z",
     "iopub.status.idle": "2021-05-30T12:11:23.865112Z",
     "shell.execute_reply": "2021-05-30T12:11:23.864547Z",
     "shell.execute_reply.started": "2021-05-30T12:08:03.504623Z"
    },
    "papermill": {
     "duration": 0.325219,
     "end_time": "2021-05-30T12:11:23.865257",
     "exception": false,
     "start_time": "2021-05-30T12:11:23.540038",
     "status": "completed"
    },
    "tags": []
   },
   "outputs": [
    {
     "data": {
      "image/png": "[encoded data removed]",
      "text/plain": [
       "<Figure size 864x576 with 1 Axes>"
      ]
     },
     "metadata": {
      "needs_background": "light"
     },
     "output_type": "display_data"
    }
   ],
   "source": [
    "# lets plot them\n",
    "\n",
    "# Features Having almost zero variance\n",
    "\n",
    "feature_importances = feature_importances[feature_importances.Importance > 0.050]\n",
    "\n",
    "feature_importances.Importance.sort_values(ascending=True).plot(kind='barh', figsize=(12, 8))\n",
    "plt.xlabel('Importance')\n",
    "\n",
    "plt.title(\"Feature Importances\")\n",
    "plt.show()\n"
   ]
  },
  {
   "cell_type": "markdown",
   "metadata": {
    "papermill": {
     "duration": 0.107605,
     "end_time": "2021-05-30T12:11:24.080908",
     "exception": false,
     "start_time": "2021-05-30T12:11:23.973303",
     "status": "completed"
    },
    "tags": []
   },
   "source": [
    "### Set Features and Target"
   ]
  },
  {
   "cell_type": "code",
   "execution_count": 49,
   "metadata": {
    "execution": {
     "iopub.execute_input": "2021-05-30T12:11:24.302343Z",
     "iopub.status.busy": "2021-05-30T12:11:24.301518Z",
     "iopub.status.idle": "2021-05-30T12:11:24.303558Z",
     "shell.execute_reply": "2021-05-30T12:11:24.304172Z",
     "shell.execute_reply.started": "2021-05-30T12:08:03.702242Z"
    },
    "papermill": {
     "duration": 0.116564,
     "end_time": "2021-05-30T12:11:24.304347",
     "exception": false,
     "start_time": "2021-05-30T12:11:24.187783",
     "status": "completed"
    },
    "tags": []
   },
   "outputs": [],
   "source": [
    "features = df_train[feature_importances.index]\n",
    "target = df_train.Survived\n",
    "feature_col = features.columns"
   ]
  },
  {
   "cell_type": "markdown",
   "metadata": {
    "papermill": {
     "duration": 0.1067,
     "end_time": "2021-05-30T12:11:24.518696",
     "exception": false,
     "start_time": "2021-05-30T12:11:24.411996",
     "status": "completed"
    },
    "tags": []
   },
   "source": [
    "### Standardise the data"
   ]
  },
  {
   "cell_type": "code",
   "execution_count": 50,
   "metadata": {
    "execution": {
     "iopub.execute_input": "2021-05-30T12:11:24.737376Z",
     "iopub.status.busy": "2021-05-30T12:11:24.736690Z",
     "iopub.status.idle": "2021-05-30T12:11:24.747678Z",
     "shell.execute_reply": "2021-05-30T12:11:24.748204Z",
     "shell.execute_reply.started": "2021-05-30T12:08:03.711331Z"
    },
    "papermill": {
     "duration": 0.122199,
     "end_time": "2021-05-30T12:11:24.748406",
     "exception": false,
     "start_time": "2021-05-30T12:11:24.626207",
     "status": "completed"
    },
    "tags": []
   },
   "outputs": [
    {
     "name": "stdout",
     "output_type": "stream",
     "text": [
      "Shape of features :  (891, 8)\n"
     ]
    }
   ],
   "source": [
    "features = StandardScaler().fit_transform(features)\n",
    "\n",
    "print(\"Shape of features : \",features.shape)"
   ]
  },
  {
   "cell_type": "markdown",
   "metadata": {
    "papermill": {
     "duration": 0.107208,
     "end_time": "2021-05-30T12:11:24.973560",
     "exception": false,
     "start_time": "2021-05-30T12:11:24.866352",
     "status": "completed"
    },
    "tags": []
   },
   "source": [
    "### Grid Search"
   ]
  },
  {
   "cell_type": "code",
   "execution_count": 51,
   "metadata": {
    "execution": {
     "iopub.execute_input": "2021-05-30T12:11:25.197607Z",
     "iopub.status.busy": "2021-05-30T12:11:25.196775Z",
     "iopub.status.idle": "2021-05-30T12:11:25.200389Z",
     "shell.execute_reply": "2021-05-30T12:11:25.200911Z",
     "shell.execute_reply.started": "2021-05-30T12:08:03.730167Z"
    },
    "papermill": {
     "duration": 0.11512,
     "end_time": "2021-05-30T12:11:25.201117",
     "exception": false,
     "start_time": "2021-05-30T12:11:25.085997",
     "status": "completed"
    },
    "tags": []
   },
   "outputs": [],
   "source": [
    "# grid_param = {\n",
    "#     'n_estimators': [70,100,200],\n",
    "#     'criterion':['gini','entropy'],\n",
    "#     'max_depth': [4,5,6],\n",
    "#     'min_samples_split':[1,3,5,6,7],\n",
    "#     'min_samples_leaf':[2,5,6],\n",
    "#     }\n",
    "    \n",
    "\n",
    "# gridModel_test = GridSearchCV(RandomForestClassifier(),param_grid=grid_param,n_jobs=-1,verbose=3)\n",
    "# gridModel_test.fit(features,target)\n",
    "\n",
    "\n",
    "# # Get best Parameters \n",
    "\n",
    "# gridModel_test.best_params_"
   ]
  },
  {
   "cell_type": "code",
   "execution_count": 52,
   "metadata": {
    "execution": {
     "iopub.execute_input": "2021-05-30T12:11:25.431976Z",
     "iopub.status.busy": "2021-05-30T12:11:25.431283Z",
     "iopub.status.idle": "2021-05-30T12:11:37.329568Z",
     "shell.execute_reply": "2021-05-30T12:11:37.328980Z",
     "shell.execute_reply.started": "2021-05-30T12:08:03.736816Z"
    },
    "papermill": {
     "duration": 12.017238,
     "end_time": "2021-05-30T12:11:37.329908",
     "exception": false,
     "start_time": "2021-05-30T12:11:25.312670",
     "status": "completed"
    },
    "tags": []
   },
   "outputs": [
    {
     "name": "stdout",
     "output_type": "stream",
     "text": [
      "Model Score :  0.9337822671156004\n",
      "              precision    recall  f1-score   support\n",
      "\n",
      "           0       0.83      0.89      0.86       549\n",
      "           1       0.80      0.72      0.75       342\n",
      "\n",
      "    accuracy                           0.82       891\n",
      "   macro avg       0.81      0.80      0.81       891\n",
      "weighted avg       0.82      0.82      0.82       891\n",
      "\n"
     ]
    }
   ],
   "source": [
    "# Kfold Score\n",
    "\n",
    "rfmodel_sig = RandomForestClassifier(n_estimators=500,criterion='gini',max_depth = None,min_samples_leaf=1,min_samples_split=6,n_jobs=-1,random_state=1)\n",
    "\n",
    "rfmodel_sig.fit(features,target)\n",
    "\n",
    "print(\"Model Score : \",rfmodel_sig.score(features,target))\n",
    "\n",
    "# Model Score\n",
    "print(metrics.classification_report(target,model_selection.cross_val_predict(rfmodel_sig,features, target,cv = kf)))\n",
    "\n",
    "rf_score_sig = model_selection.cross_val_score(rfmodel_sig,features,target,cv=kf)\n"
   ]
  },
  {
   "cell_type": "markdown",
   "metadata": {
    "execution": {
     "iopub.execute_input": "2021-05-27T12:54:22.548171Z",
     "iopub.status.busy": "2021-05-27T12:54:22.547671Z",
     "iopub.status.idle": "2021-05-27T12:54:22.556604Z",
     "shell.execute_reply": "2021-05-27T12:54:22.555285Z",
     "shell.execute_reply.started": "2021-05-27T12:54:22.548064Z"
    },
    "papermill": {
     "duration": 0.106827,
     "end_time": "2021-05-30T12:11:37.543855",
     "exception": false,
     "start_time": "2021-05-30T12:11:37.437028",
     "status": "completed"
    },
    "tags": []
   },
   "source": [
    "<font color = \"#191970\" size=5px><center><b>Gradient Boost</b></font>"
   ]
  },
  {
   "cell_type": "markdown",
   "metadata": {
    "execution": {
     "iopub.execute_input": "2021-05-27T12:54:22.548171Z",
     "iopub.status.busy": "2021-05-27T12:54:22.547671Z",
     "iopub.status.idle": "2021-05-27T12:54:22.556604Z",
     "shell.execute_reply": "2021-05-27T12:54:22.555285Z",
     "shell.execute_reply.started": "2021-05-27T12:54:22.548064Z"
    },
    "papermill": {
     "duration": 0.106319,
     "end_time": "2021-05-30T12:11:37.756916",
     "exception": false,
     "start_time": "2021-05-30T12:11:37.650597",
     "status": "completed"
    },
    "tags": []
   },
   "source": [
    "<font color = \"#191970\" size=4px><b>Kfold Cross validation Score</b></font>"
   ]
  },
  {
   "cell_type": "code",
   "execution_count": 53,
   "metadata": {
    "execution": {
     "iopub.execute_input": "2021-05-30T12:11:37.985676Z",
     "iopub.status.busy": "2021-05-30T12:11:37.984996Z",
     "iopub.status.idle": "2021-05-30T12:11:59.597760Z",
     "shell.execute_reply": "2021-05-30T12:11:59.597189Z",
     "shell.execute_reply.started": "2021-05-30T12:08:15.551531Z"
    },
    "papermill": {
     "duration": 21.73158,
     "end_time": "2021-05-30T12:11:59.597997",
     "exception": false,
     "start_time": "2021-05-30T12:11:37.866417",
     "status": "completed"
    },
    "tags": []
   },
   "outputs": [
    {
     "name": "stdout",
     "output_type": "stream",
     "text": [
      "\n",
      "\n",
      "Model Score :  0.9259259259259259\n",
      "\n",
      "\n",
      "              precision    recall  f1-score   support\n",
      "\n",
      "           0       0.83      0.90      0.87       549\n",
      "           1       0.82      0.71      0.76       342\n",
      "\n",
      "    accuracy                           0.83       891\n",
      "   macro avg       0.83      0.81      0.81       891\n",
      "weighted avg       0.83      0.83      0.83       891\n",
      "\n"
     ]
    }
   ],
   "source": [
    "# Kfold Score\n",
    "\n",
    "gbmodel1 = RandomForestClassifier(n_estimators=1000,criterion='gini',max_depth = None,min_samples_leaf=1,min_samples_split=7,n_jobs=-1,random_state=1)\n",
    "\n",
    "print(\"\\n\")\n",
    "# fit Model\n",
    "gbmodel1.fit(features,target)\n",
    "print(\"Model Score : \",gbmodel1.score(features,target))\n",
    "print(\"\\n\")\n",
    "\n",
    "# Model Score\n",
    "print(metrics.classification_report(target,model_selection.cross_val_predict(gbmodel1,features, target,cv = kf)))\n",
    "\n",
    "gb_score_sig = model_selection.cross_val_score(gbmodel1,features,target,cv=kf)"
   ]
  },
  {
   "cell_type": "markdown",
   "metadata": {
    "execution": {
     "iopub.execute_input": "2021-05-27T12:54:22.548171Z",
     "iopub.status.busy": "2021-05-27T12:54:22.547671Z",
     "iopub.status.idle": "2021-05-27T12:54:22.556604Z",
     "shell.execute_reply": "2021-05-27T12:54:22.555285Z",
     "shell.execute_reply.started": "2021-05-27T12:54:22.548064Z"
    },
    "papermill": {
     "duration": 0.108791,
     "end_time": "2021-05-30T12:11:59.815122",
     "exception": false,
     "start_time": "2021-05-30T12:11:59.706331",
     "status": "completed"
    },
    "tags": []
   },
   "source": [
    "<font color = \"#191970\" size=5px><center><b>XG Boost</b></font>"
   ]
  },
  {
   "cell_type": "markdown",
   "metadata": {
    "papermill": {
     "duration": 0.111822,
     "end_time": "2021-05-30T12:12:00.035803",
     "exception": false,
     "start_time": "2021-05-30T12:11:59.923981",
     "status": "completed"
    },
    "tags": []
   },
   "source": [
    "### Grid Search"
   ]
  },
  {
   "cell_type": "code",
   "execution_count": 54,
   "metadata": {
    "execution": {
     "iopub.execute_input": "2021-05-30T12:12:00.261977Z",
     "iopub.status.busy": "2021-05-30T12:12:00.261162Z",
     "iopub.status.idle": "2021-05-30T12:12:00.264400Z",
     "shell.execute_reply": "2021-05-30T12:12:00.263733Z",
     "shell.execute_reply.started": "2021-05-30T12:08:36.460433Z"
    },
    "papermill": {
     "duration": 0.118478,
     "end_time": "2021-05-30T12:12:00.264547",
     "exception": false,
     "start_time": "2021-05-30T12:12:00.146069",
     "status": "completed"
    },
    "tags": []
   },
   "outputs": [],
   "source": [
    "# param_grid = {\n",
    "#     'n_estimators': [450,500,550],\n",
    "#     'colsample_bytree': [0.0,0.8,0.85],\n",
    "#     'max_depth': [None,1,2,5],\n",
    "#     'reg_alpha': [1,0.5],\n",
    "#     'reg_lambda': [10,15,19],\n",
    "#     'subsample': [0.55, 0.6, 0.65],\n",
    "#     'learning_rate':[0.5],\n",
    "#     'gamma':[0.01,0.5,1,2],\n",
    "#     'min_child_weight':[0.01,0.5],\n",
    "#     'sampling_method': ['uniform']\n",
    "# }\n",
    "\n",
    "# grid_search=GridSearchCV(XGBClassifier(eval_metric = \"error\"),param_grid=param_grid,n_jobs=-1,verbose=3)\n",
    "# grid_search.fit(features,target)\n",
    "\n",
    "# Getting Best Params\n",
    "# grid_search.best_params_"
   ]
  },
  {
   "cell_type": "markdown",
   "metadata": {
    "execution": {
     "iopub.execute_input": "2021-05-27T12:54:22.548171Z",
     "iopub.status.busy": "2021-05-27T12:54:22.547671Z",
     "iopub.status.idle": "2021-05-27T12:54:22.556604Z",
     "shell.execute_reply": "2021-05-27T12:54:22.555285Z",
     "shell.execute_reply.started": "2021-05-27T12:54:22.548064Z"
    },
    "papermill": {
     "duration": 0.108721,
     "end_time": "2021-05-30T12:12:00.483800",
     "exception": false,
     "start_time": "2021-05-30T12:12:00.375079",
     "status": "completed"
    },
    "tags": []
   },
   "source": [
    "<font color = \"#191970\" size=4px><b>Kfold Cross validation Score</b></font>"
   ]
  },
  {
   "cell_type": "code",
   "execution_count": 55,
   "metadata": {
    "execution": {
     "iopub.execute_input": "2021-05-30T12:12:00.711184Z",
     "iopub.status.busy": "2021-05-30T12:12:00.710427Z",
     "iopub.status.idle": "2021-05-30T12:12:00.714144Z",
     "shell.execute_reply": "2021-05-30T12:12:00.713609Z",
     "shell.execute_reply.started": "2021-05-30T12:08:36.465754Z"
    },
    "papermill": {
     "duration": 0.121692,
     "end_time": "2021-05-30T12:12:00.714295",
     "exception": false,
     "start_time": "2021-05-30T12:12:00.592603",
     "status": "completed"
    },
    "tags": []
   },
   "outputs": [],
   "source": [
    "# Instantiate KFold\n",
    "\n",
    "kf = KFold(n_splits=5,shuffle=True,random_state=1)"
   ]
  },
  {
   "cell_type": "code",
   "execution_count": 56,
   "metadata": {
    "execution": {
     "iopub.execute_input": "2021-05-30T12:12:00.950412Z",
     "iopub.status.busy": "2021-05-30T12:12:00.949623Z",
     "iopub.status.idle": "2021-05-30T12:12:04.426101Z",
     "shell.execute_reply": "2021-05-30T12:12:04.425087Z",
     "shell.execute_reply.started": "2021-05-30T12:08:36.485853Z"
    },
    "papermill": {
     "duration": 3.598176,
     "end_time": "2021-05-30T12:12:04.426305",
     "exception": false,
     "start_time": "2021-05-30T12:12:00.828129",
     "status": "completed"
    },
    "tags": []
   },
   "outputs": [
    {
     "name": "stdout",
     "output_type": "stream",
     "text": [
      "\n",
      "\n",
      "Model Score :  0.9191919191919192\n",
      "\n",
      "\n",
      "              precision    recall  f1-score   support\n",
      "\n",
      "           0       0.84      0.90      0.87       549\n",
      "           1       0.81      0.73      0.77       342\n",
      "\n",
      "    accuracy                           0.83       891\n",
      "   macro avg       0.83      0.81      0.82       891\n",
      "weighted avg       0.83      0.83      0.83       891\n",
      "\n"
     ]
    }
   ],
   "source": [
    "# Kfold Score\n",
    "\n",
    "xgbmodel1 = XGBClassifier(colsample_bytree=0.4, eval_metric='error',sampling_method='uniform',\n",
    "                         gamma=0.1,learning_rate=0.06,max_depth=None, min_child_weight=1,n_estimators=550,\n",
    "                         n_jobs=4,reg_alpha=1,reg_lambda=0.5, subsample=1)\n",
    "\n",
    "print(\"\\n\")\n",
    "# fit Model\n",
    "xgbmodel1.fit(features,target)\n",
    "print(\"Model Score : \",xgbmodel1.score(features,target))\n",
    "print(\"\\n\")\n",
    "\n",
    "# Model Score\n",
    "print(metrics.classification_report(target,model_selection.cross_val_predict(xgbmodel1,features, target,cv = kf)))\n",
    "\n",
    "xgb_score_sig = model_selection.cross_val_score(xgbmodel1,features,target,cv=kf)"
   ]
  },
  {
   "cell_type": "markdown",
   "metadata": {
    "execution": {
     "iopub.execute_input": "2021-05-27T12:54:22.548171Z",
     "iopub.status.busy": "2021-05-27T12:54:22.547671Z",
     "iopub.status.idle": "2021-05-27T12:54:22.556604Z",
     "shell.execute_reply": "2021-05-27T12:54:22.555285Z",
     "shell.execute_reply.started": "2021-05-27T12:54:22.548064Z"
    },
    "papermill": {
     "duration": 0.110422,
     "end_time": "2021-05-30T12:12:04.648442",
     "exception": false,
     "start_time": "2021-05-30T12:12:04.538020",
     "status": "completed"
    },
    "tags": []
   },
   "source": [
    "### <font color = \"#191970\" size=5px><center><b>Model Evaluation</b></font>"
   ]
  },
  {
   "cell_type": "code",
   "execution_count": 57,
   "metadata": {
    "execution": {
     "iopub.execute_input": "2021-05-30T12:12:04.888095Z",
     "iopub.status.busy": "2021-05-30T12:12:04.887382Z",
     "iopub.status.idle": "2021-05-30T12:12:04.890450Z",
     "shell.execute_reply": "2021-05-30T12:12:04.891008Z",
     "shell.execute_reply.started": "2021-05-30T12:08:39.756412Z"
    },
    "papermill": {
     "duration": 0.128875,
     "end_time": "2021-05-30T12:12:04.891218",
     "exception": false,
     "start_time": "2021-05-30T12:12:04.762343",
     "status": "completed"
    },
    "tags": []
   },
   "outputs": [
    {
     "data": {
      "text/html": [
       "<div>\n",
       "<style scoped>\n",
       "    .dataframe tbody tr th:only-of-type {\n",
       "        vertical-align: middle;\n",
       "    }\n",
       "\n",
       "    .dataframe tbody tr th {\n",
       "        vertical-align: top;\n",
       "    }\n",
       "\n",
       "    .dataframe thead th {\n",
       "        text-align: right;\n",
       "    }\n",
       "</style>\n",
       "<table border=\"1\" class=\"dataframe\">\n",
       "  <thead>\n",
       "    <tr style=\"text-align: right;\">\n",
       "      <th></th>\n",
       "      <th>Model</th>\n",
       "      <th>Score</th>\n",
       "    </tr>\n",
       "  </thead>\n",
       "  <tbody>\n",
       "    <tr>\n",
       "      <th>3</th>\n",
       "      <td>XGB</td>\n",
       "      <td>0.831674</td>\n",
       "    </tr>\n",
       "    <tr>\n",
       "      <th>2</th>\n",
       "      <td>Gradient Boosting</td>\n",
       "      <td>0.828303</td>\n",
       "    </tr>\n",
       "    <tr>\n",
       "      <th>0</th>\n",
       "      <td>Random Forest</td>\n",
       "      <td>0.827205</td>\n",
       "    </tr>\n",
       "    <tr>\n",
       "      <th>1</th>\n",
       "      <td>Random Forest Sig</td>\n",
       "      <td>0.820451</td>\n",
       "    </tr>\n",
       "  </tbody>\n",
       "</table>\n",
       "</div>"
      ],
      "text/plain": [
       "               Model     Score\n",
       "3                XGB  0.831674\n",
       "2  Gradient Boosting  0.828303\n",
       "0      Random Forest  0.827205\n",
       "1  Random Forest Sig  0.820451"
      ]
     },
     "execution_count": 57,
     "metadata": {},
     "output_type": "execute_result"
    }
   ],
   "source": [
    "# Checking Model With Best Score\n",
    "\n",
    "Models = pd.DataFrame({\n",
    "    'Model': ['Random Forest','Random Forest Sig','Gradient Boosting','XGB'],\n",
    "    'Score': [rf_score.mean(),rf_score_sig.mean(),gb_score_sig.mean(),xgb_score_sig.mean()]})\n",
    "Models.sort_values(by='Score', ascending=False)"
   ]
  },
  {
   "cell_type": "markdown",
   "metadata": {
    "papermill": {
     "duration": 0.112263,
     "end_time": "2021-05-30T12:12:05.117247",
     "exception": false,
     "start_time": "2021-05-30T12:12:05.004984",
     "status": "completed"
    },
    "tags": []
   },
   "source": [
    "* ##  Now lets do prediction on Unseen Test Data"
   ]
  },
  {
   "cell_type": "markdown",
   "metadata": {
    "papermill": {
     "duration": 0.111655,
     "end_time": "2021-05-30T12:12:05.338468",
     "exception": false,
     "start_time": "2021-05-30T12:12:05.226813",
     "status": "completed"
    },
    "tags": []
   },
   "source": [
    "#### 1. Select Most significant Features For test Data Set"
   ]
  },
  {
   "cell_type": "code",
   "execution_count": 58,
   "metadata": {
    "execution": {
     "iopub.execute_input": "2021-05-30T12:12:05.586046Z",
     "iopub.status.busy": "2021-05-30T12:12:05.585318Z",
     "iopub.status.idle": "2021-05-30T12:12:05.591796Z",
     "shell.execute_reply": "2021-05-30T12:12:05.592406Z",
     "shell.execute_reply.started": "2021-05-30T12:08:39.772947Z"
    },
    "papermill": {
     "duration": 0.118597,
     "end_time": "2021-05-30T12:12:05.592574",
     "exception": false,
     "start_time": "2021-05-30T12:12:05.473977",
     "status": "completed"
    },
    "tags": []
   },
   "outputs": [
    {
     "data": {
      "text/plain": [
       "(418, 8)"
      ]
     },
     "execution_count": 58,
     "metadata": {},
     "output_type": "execute_result"
    }
   ],
   "source": [
    "df_test_sig = df_test[feature_importances.index]\n",
    "\n",
    "df_test_sig.shape"
   ]
  },
  {
   "cell_type": "markdown",
   "metadata": {
    "papermill": {
     "duration": 0.108791,
     "end_time": "2021-05-30T12:12:05.810580",
     "exception": false,
     "start_time": "2021-05-30T12:12:05.701789",
     "status": "completed"
    },
    "tags": []
   },
   "source": [
    "#### 2. Standardise the data"
   ]
  },
  {
   "cell_type": "code",
   "execution_count": 59,
   "metadata": {
    "execution": {
     "iopub.execute_input": "2021-05-30T12:12:06.036071Z",
     "iopub.status.busy": "2021-05-30T12:12:06.035371Z",
     "iopub.status.idle": "2021-05-30T12:12:06.044612Z",
     "shell.execute_reply": "2021-05-30T12:12:06.045199Z",
     "shell.execute_reply.started": "2021-05-30T12:08:39.791576Z"
    },
    "papermill": {
     "duration": 0.124127,
     "end_time": "2021-05-30T12:12:06.045393",
     "exception": false,
     "start_time": "2021-05-30T12:12:05.921266",
     "status": "completed"
    },
    "tags": []
   },
   "outputs": [],
   "source": [
    "df_test_sig = StandardScaler().fit_transform(df_test_sig)"
   ]
  },
  {
   "cell_type": "markdown",
   "metadata": {
    "papermill": {
     "duration": 0.11089,
     "end_time": "2021-05-30T12:12:06.268084",
     "exception": false,
     "start_time": "2021-05-30T12:12:06.157194",
     "status": "completed"
    },
    "tags": []
   },
   "source": [
    "#### 3. Prediction"
   ]
  },
  {
   "cell_type": "code",
   "execution_count": 60,
   "metadata": {
    "execution": {
     "iopub.execute_input": "2021-05-30T12:12:06.491531Z",
     "iopub.status.busy": "2021-05-30T12:12:06.490787Z",
     "iopub.status.idle": "2021-05-30T12:12:07.008666Z",
     "shell.execute_reply": "2021-05-30T12:12:07.009283Z",
     "shell.execute_reply.started": "2021-05-30T12:08:39.807101Z"
    },
    "papermill": {
     "duration": 0.631899,
     "end_time": "2021-05-30T12:12:07.009684",
     "exception": false,
     "start_time": "2021-05-30T12:12:06.377785",
     "status": "completed"
    },
    "tags": []
   },
   "outputs": [],
   "source": [
    "#Predictions\n",
    "\n",
    "Prediction_rf = rfmodel_sig.predict(df_test_sig)\n",
    "Prediction_gb = pd.Series(gbmodel1.predict(df_test_sig))\n",
    "Prediction_xgb = pd.Series(xgbmodel1.predict(df_test_sig))"
   ]
  },
  {
   "cell_type": "code",
   "execution_count": 61,
   "metadata": {
    "execution": {
     "iopub.execute_input": "2021-05-30T12:12:07.238900Z",
     "iopub.status.busy": "2021-05-30T12:12:07.237856Z",
     "iopub.status.idle": "2021-05-30T12:12:07.247476Z",
     "shell.execute_reply": "2021-05-30T12:12:07.246690Z",
     "shell.execute_reply.started": "2021-05-30T12:08:40.329119Z"
    },
    "papermill": {
     "duration": 0.124265,
     "end_time": "2021-05-30T12:12:07.247629",
     "exception": false,
     "start_time": "2021-05-30T12:12:07.123364",
     "status": "completed"
    },
    "tags": []
   },
   "outputs": [],
   "source": [
    "# Lets Read test data to get id coloum\n",
    "\n",
    "test_df_submission =  pd.read_csv(\"../input/titanic/test.csv\")"
   ]
  },
  {
   "cell_type": "code",
   "execution_count": 62,
   "metadata": {
    "execution": {
     "iopub.execute_input": "2021-05-30T12:12:07.479172Z",
     "iopub.status.busy": "2021-05-30T12:12:07.478508Z",
     "iopub.status.idle": "2021-05-30T12:12:07.485549Z",
     "shell.execute_reply": "2021-05-30T12:12:07.486109Z",
     "shell.execute_reply.started": "2021-05-30T12:08:40.346626Z"
    },
    "papermill": {
     "duration": 0.12602,
     "end_time": "2021-05-30T12:12:07.486332",
     "exception": false,
     "start_time": "2021-05-30T12:12:07.360312",
     "status": "completed"
    },
    "tags": []
   },
   "outputs": [],
   "source": [
    "# Save Prediction in Csv File\n",
    "\n",
    "my_submission_rf = pd.DataFrame({'PassengerId': test_df_submission.PassengerId, 'Survived': Prediction_rf})\n",
    "my_submission_gb = pd.DataFrame({'PassengerId': test_df_submission.PassengerId, 'Survived': Prediction_gb})\n",
    "my_submission_xgb = pd.DataFrame({'PassengerId': test_df_submission.PassengerId, 'Survived': Prediction_xgb})\n",
    "\n",
    "# Submit\n",
    "my_submission_rf.to_csv('submission.csv', index=False)"
   ]
  },
  {
   "cell_type": "code",
   "execution_count": null,
   "metadata": {
    "execution": {
     "iopub.execute_input": "2021-05-30T12:08:40.443933Z",
     "iopub.status.busy": "2021-05-30T12:08:40.443483Z",
     "iopub.status.idle": "2021-05-30T12:08:40.450712Z",
     "shell.execute_reply": "2021-05-30T12:08:40.449965Z",
     "shell.execute_reply.started": "2021-05-30T12:08:40.443902Z"
    },
    "papermill": {
     "duration": 0.109199,
     "end_time": "2021-05-30T12:12:07.705130",
     "exception": false,
     "start_time": "2021-05-30T12:12:07.595931",
     "status": "completed"
    },
    "tags": []
   },
   "outputs": [],
   "source": []
  },
  {
   "cell_type": "code",
   "execution_count": null,
   "metadata": {
    "papermill": {
     "duration": 0.109355,
     "end_time": "2021-05-30T12:12:07.923898",
     "exception": false,
     "start_time": "2021-05-30T12:12:07.814543",
     "status": "completed"
    },
    "tags": []
   },
   "outputs": [],
   "source": []
  }
 ],
 "metadata": {
  "kernelspec": {
   "display_name": "Python 3",
   "language": "python",
   "name": "python3"
  },
  "language_info": {
   "codemirror_mode": {
    "name": "ipython",
    "version": 3
   },
   "file_extension": ".py",
   "mimetype": "text/x-python",
   "name": "python",
   "nbconvert_exporter": "python",
   "pygments_lexer": "ipython3",
   "version": "3.8.5"
  },
  "papermill": {
   "default_parameters": {},
   "duration": 102.163531,
   "end_time": "2021-05-30T12:12:09.848577",
   "environment_variables": {},
   "exception": null,
   "input_path": "__notebook__.ipynb",
   "output_path": "__notebook__.ipynb",
   "parameters": {},
   "start_time": "2021-05-30T12:10:27.685046",
   "version": "2.3.3"
  }
 },
 "nbformat": 4,
 "nbformat_minor": 5
}
