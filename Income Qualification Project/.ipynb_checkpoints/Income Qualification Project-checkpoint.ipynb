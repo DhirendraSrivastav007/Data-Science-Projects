{
 "cells": [
  {
   "cell_type": "markdown",
   "metadata": {},
   "source": [
    "<hr>\n",
    "\n",
    "<p>\n",
    "<font size=10px color=\"navy\"><center><b>Income Qualification Project\n",
    "<P>"
   ]
  },
  {
   "cell_type": "markdown",
   "metadata": {},
   "source": [
    "\n",
    "<hr>   \n",
    "    \n",
    "<font size = 5px  color ='red'><center><b>Identify the level of income qualification needed for the families in Latin America.</b></font>\n",
    "    \n",
    "<hr>\n",
    "    \n",
    "    \n",
    "    \n",
    "<font size = 5px><b>Problem Statement Scenario:</b> </font>\n",
    "    \n",
    "    \n",
    "    \n",
    "    \n",
    "Many social programs have a hard time making sure the right people are given enough aid. It’s tricky when a program focuses on the poorest segment of the population. This segment of population can’t provide the necessary income and expense records to prove that they qualify.\n",
    "\n",
    "In Latin America, a popular method called Proxy Means Test (PMT) uses an algorithm to verify income qualification. With PMT, agencies use a model that considers a family’s observable household attributes like the material of their walls and ceiling or the assets found in their homes to classify them and predict their level of need. While this is an improvement, accuracy remains a problem as the region’s population grows and poverty declines.\n",
    "\n",
    "The Inter-American Development Bank (IDB) believes that new methods beyond traditional econometrics, based on a dataset of Costa Rican household characteristics, might help improve PMT’s performance.\n",
    "\n",
    "\n",
    "   \n",
    "<hr>\n"
   ]
  },
  {
   "cell_type": "markdown",
   "metadata": {},
   "source": [
    "<font color = \"#191970\" size=6px><center><b>Import Required Libraries</b></font>"
   ]
  },
  {
   "cell_type": "code",
   "execution_count": 1,
   "metadata": {},
   "outputs": [],
   "source": [
    "# basic\n",
    "import pandas as pd, numpy as np\n",
    "\n",
    "# Viusalization \n",
    "import seaborn as sns\n",
    "from matplotlib import pyplot as plt, style\n",
    "\n",
    "# Feature Engineering/ Feature Selection\n",
    "from sklearn.model_selection import train_test_split\n",
    "from sklearn import model_selection\n",
    "from sklearn.model_selection import KFold\n",
    "from sklearn.model_selection import GridSearchCV\n",
    "from sklearn.feature_selection import VarianceThreshold\n",
    "from sklearn.preprocessing import StandardScaler\n",
    "\n",
    "\n",
    "\n",
    "# Model Bulding and performance metrics\n",
    "from sklearn.ensemble import RandomForestClassifier\n",
    "from sklearn import metrics\n",
    "\n",
    "# Set warnings off\n",
    "import warnings\n",
    "warnings.filterwarnings('ignore')"
   ]
  },
  {
   "cell_type": "markdown",
   "metadata": {},
   "source": [
    "<font color = \"#191970\" size=6px><center><b>Data Collection"
   ]
  },
  {
   "cell_type": "code",
   "execution_count": 2,
   "metadata": {},
   "outputs": [],
   "source": [
    "# Training Data \n",
    "\n",
    "df_train = pd.read_csv(\"train.csv\")\n",
    "\n",
    "# Testing Data\n",
    "\n",
    "df_test = pd.read_csv(\"test.csv\")"
   ]
  },
  {
   "cell_type": "markdown",
   "metadata": {},
   "source": [
    "<font color = \"#191970\" size=8px><center><b>Data Cleaning And EDA"
   ]
  },
  {
   "cell_type": "code",
   "execution_count": 3,
   "metadata": {},
   "outputs": [
    {
     "name": "stdout",
     "output_type": "stream",
     "text": [
      "\n",
      "\n",
      "Shape of Train data :  (9557, 143)\n",
      "Shape of Test data :  (23856, 142)\n",
      "\n",
      "\n"
     ]
    }
   ],
   "source": [
    "# Viewing The Shape of test amd traim data\n",
    "\n",
    "print(\"\\n\")\n",
    "print(\"Shape of Train data : \",df_train.shape)\n",
    "print(\"Shape of Test data : \",df_test.shape)\n",
    "print(\"\\n\")"
   ]
  },
  {
   "cell_type": "markdown",
   "metadata": {},
   "source": [
    "##       1. Identify the output variable."
   ]
  },
  {
   "cell_type": "code",
   "execution_count": 4,
   "metadata": {},
   "outputs": [
    {
     "name": "stdout",
     "output_type": "stream",
     "text": [
      "\n",
      "\n",
      "Output Variable :  Target\n",
      "\n",
      "\n"
     ]
    }
   ],
   "source": [
    "# Test Data Doesnt Have Output column therefore we check the missing column in test data\n",
    "\n",
    "print(\"\\n\")\n",
    "for column in df_train.columns:\n",
    "    if column not in df_test.columns:\n",
    "        print(\"Output Variable : \",column)\n",
    "print(\"\\n\")"
   ]
  },
  {
   "cell_type": "markdown",
   "metadata": {},
   "source": [
    "## 2. Understand the type of data."
   ]
  },
  {
   "cell_type": "code",
   "execution_count": 5,
   "metadata": {},
   "outputs": [
    {
     "name": "stdout",
     "output_type": "stream",
     "text": [
      "<class 'pandas.core.frame.DataFrame'>\n",
      "RangeIndex: 9557 entries, 0 to 9556\n",
      "Columns: 143 entries, Id to Target\n",
      "dtypes: float64(8), int64(130), object(5)\n",
      "memory usage: 10.4+ MB\n"
     ]
    }
   ],
   "source": [
    "# Info of data\n",
    "\n",
    "df_train.info()"
   ]
  },
  {
   "cell_type": "code",
   "execution_count": 6,
   "metadata": {},
   "outputs": [
    {
     "name": "stdout",
     "output_type": "stream",
     "text": [
      "\n",
      "\n",
      "Integer Columns : ['hacdor', 'rooms', 'hacapo', 'v14a', 'refrig', 'v18q', 'r4h1', 'r4h2', 'r4h3', 'r4m1', 'r4m2', 'r4m3', 'r4t1', 'r4t2', 'r4t3', 'tamhog', 'tamviv', 'escolari', 'hhsize', 'paredblolad', 'paredzocalo', 'paredpreb', 'pareddes', 'paredmad', 'paredzinc', 'paredfibras', 'paredother', 'pisomoscer', 'pisocemento', 'pisoother', 'pisonatur', 'pisonotiene', 'pisomadera', 'techozinc', 'techoentrepiso', 'techocane', 'techootro', 'cielorazo', 'abastaguadentro', 'abastaguafuera', 'abastaguano', 'public', 'planpri', 'noelec', 'coopele', 'sanitario1', 'sanitario2', 'sanitario3', 'sanitario5', 'sanitario6', 'energcocinar1', 'energcocinar2', 'energcocinar3', 'energcocinar4', 'elimbasu1', 'elimbasu2', 'elimbasu3', 'elimbasu4', 'elimbasu5', 'elimbasu6', 'epared1', 'epared2', 'epared3', 'etecho1', 'etecho2', 'etecho3', 'eviv1', 'eviv2', 'eviv3', 'dis', 'male', 'female', 'estadocivil1', 'estadocivil2', 'estadocivil3', 'estadocivil4', 'estadocivil5', 'estadocivil6', 'estadocivil7', 'parentesco1', 'parentesco2', 'parentesco3', 'parentesco4', 'parentesco5', 'parentesco6', 'parentesco7', 'parentesco8', 'parentesco9', 'parentesco10', 'parentesco11', 'parentesco12', 'hogar_nin', 'hogar_adul', 'hogar_mayor', 'hogar_total', 'instlevel1', 'instlevel2', 'instlevel3', 'instlevel4', 'instlevel5', 'instlevel6', 'instlevel7', 'instlevel8', 'instlevel9', 'bedrooms', 'tipovivi1', 'tipovivi2', 'tipovivi3', 'tipovivi4', 'tipovivi5', 'computer', 'television', 'mobilephone', 'qmobilephone', 'lugar1', 'lugar2', 'lugar3', 'lugar4', 'lugar5', 'lugar6', 'area1', 'area2', 'age', 'SQBescolari', 'SQBage', 'SQBhogar_total', 'SQBedjefe', 'SQBhogar_nin', 'agesq', 'Target']\n",
      "\n",
      "\n",
      "Float Columns : ['v2a1', 'v18q1', 'rez_esc', 'meaneduc', 'overcrowding', 'SQBovercrowding', 'SQBdependency', 'SQBmeaned']\n",
      "\n",
      "\n",
      "Categorical Columns : ['Id', 'idhogar', 'dependency', 'edjefe', 'edjefa']\n",
      "\n",
      "\n"
     ]
    }
   ],
   "source": [
    "# Getting List Of Data types For each Columns \n",
    "\n",
    "print(\"\\n\")\n",
    "print('Integer Columns :', list(df_train.select_dtypes(np.int64).columns))\n",
    "print(\"\\n\")\n",
    "print('Float Columns :', list(df_train.select_dtypes(np.float64).columns))\n",
    "print(\"\\n\")\n",
    "print('Categorical Columns :', list(df_train.select_dtypes(np.object).columns))\n",
    "print(\"\\n\")\n"
   ]
  },
  {
   "cell_type": "code",
   "execution_count": 7,
   "metadata": {},
   "outputs": [
    {
     "name": "stdout",
     "output_type": "stream",
     "text": [
      "\n",
      "\n",
      " Count for each datatype columns : \n",
      "\n",
      " int64      130\n",
      "float64      8\n",
      "object       5\n",
      "dtype: int64\n",
      "\n",
      "\n"
     ]
    }
   ],
   "source": [
    "# Count Of each Datatype cols\n",
    "\n",
    "print(\"\\n\")\n",
    "print(\" Count for each datatype columns : \\n\\n\",df_train.dtypes.value_counts())\n",
    "print(\"\\n\")"
   ]
  },
  {
   "cell_type": "code",
   "execution_count": 8,
   "metadata": {},
   "outputs": [
    {
     "name": "stdout",
     "output_type": "stream",
     "text": [
      "\n",
      "\n",
      "Id\n",
      "idhogar\n",
      "dependency\n",
      "edjefe\n",
      "edjefa\n",
      "\n",
      "\n"
     ]
    }
   ],
   "source": [
    "# Exploring categorical Features\n",
    "\n",
    "print('\\n')\n",
    "for column in df_train.columns:\n",
    "    type = df_train[column].dtype\n",
    "    if type == 'object':\n",
    "        print(column)\n",
    "\n",
    "print('\\n')"
   ]
  },
  {
   "cell_type": "markdown",
   "metadata": {},
   "source": [
    "<hr>\n",
    "\n",
    "<font color = \"red\" size=4px><b> Data Dictionary For Above Object Variables </font>\n",
    "\n",
    "- Id : Unique ID\n",
    "- idhogar :   Household level identifier\n",
    "- dependency :   Dependency rate, calculated = (number of members of the household younger than 19 or older than 64)/(number of member of household between 19 and 64)\n",
    "- edjefe :   Years of education of Male head of household, based on the interaction of escolari (years of education), head of household and gender, yes=1 and no=0\n",
    "- edjefa :   Years of education of Female head of household, based on the interaction of escolari (years of education), head of household and gender, yes=1 and no=0\n",
    "    \n",
    "<font color = \"blue\" size=4px> <b>Interpretation :</b>*</font><font color = \"red\" size=4px> As Id and idhogar will have no significant variance for prediction,  we will drop them</font>\n",
    "<hr>"
   ]
  },
  {
   "cell_type": "code",
   "execution_count": 9,
   "metadata": {},
   "outputs": [
    {
     "name": "stdout",
     "output_type": "stream",
     "text": [
      "\n",
      "\n",
      "Id\n",
      "idhogar\n",
      "dependency\n",
      "edjefe\n",
      "edjefa\n",
      "\n",
      "\n"
     ]
    }
   ],
   "source": [
    "# Print Categorical Features\n",
    "\n",
    "print('\\n')\n",
    "for column in df_train.columns:\n",
    "    type = df_train[column].dtype\n",
    "    if type == 'object':\n",
    "        print(column)\n",
    "\n",
    "print('\\n')"
   ]
  },
  {
   "cell_type": "code",
   "execution_count": 10,
   "metadata": {},
   "outputs": [
    {
     "name": "stdout",
     "output_type": "stream",
     "text": [
      "\n",
      "\n",
      "Dependency : \n",
      " yes          2192\n",
      "no           1747\n",
      ".5           1497\n",
      "2             730\n",
      "1.5           713\n",
      ".33333334     598\n",
      ".66666669     487\n",
      "8             378\n",
      ".25           260\n",
      "3             236\n",
      "4             100\n",
      ".75            98\n",
      ".2             90\n",
      "1.3333334      84\n",
      ".40000001      84\n",
      "2.5            77\n",
      "5              24\n",
      ".80000001      18\n",
      "1.25           18\n",
      "3.5            18\n",
      "2.25           13\n",
      ".71428573      12\n",
      "1.75           11\n",
      ".22222222      11\n",
      "1.2            11\n",
      ".83333331      11\n",
      ".2857143        9\n",
      ".60000002       8\n",
      "1.6666666       8\n",
      ".16666667       7\n",
      "6               7\n",
      "Name: dependency, dtype: int64\n",
      "\n",
      "\n",
      "edjefe : \n",
      " no     3762\n",
      "6      1845\n",
      "11      751\n",
      "9       486\n",
      "3       307\n",
      "15      285\n",
      "8       257\n",
      "7       234\n",
      "5       222\n",
      "14      208\n",
      "17      202\n",
      "2       194\n",
      "4       137\n",
      "16      134\n",
      "yes     123\n",
      "12      113\n",
      "10      111\n",
      "13      103\n",
      "21       43\n",
      "18       19\n",
      "19       14\n",
      "20        7\n",
      "Name: edjefe, dtype: int64\n",
      "\n",
      "\n",
      "edjefe :\n",
      "  no     3762\n",
      "6      1845\n",
      "11      751\n",
      "9       486\n",
      "3       307\n",
      "15      285\n",
      "8       257\n",
      "7       234\n",
      "5       222\n",
      "14      208\n",
      "17      202\n",
      "2       194\n",
      "4       137\n",
      "16      134\n",
      "yes     123\n",
      "12      113\n",
      "10      111\n",
      "13      103\n",
      "21       43\n",
      "18       19\n",
      "19       14\n",
      "20        7\n",
      "Name: edjefe, dtype: int64\n",
      "\n",
      "\n"
     ]
    }
   ],
   "source": [
    "# Checking For Unique Values of each Categorical Features\n",
    "\n",
    "print(\"\\n\")\n",
    "print(\"Dependency : \\n\",df_train.dependency.value_counts())\n",
    "print(\"\\n\")\n",
    "print(\"edjefe : \\n\",df_train.edjefe.value_counts())\n",
    "print(\"\\n\")\n",
    "print(\"edjefe :\\n \",df_train.edjefe.value_counts())\n",
    "print(\"\\n\")\n"
   ]
  },
  {
   "cell_type": "code",
   "execution_count": 11,
   "metadata": {},
   "outputs": [],
   "source": [
    "# Function for encoding categorical values in column\n",
    "\n",
    "def encode_to_numeric(value):\n",
    "    if value == 'yes':\n",
    "        return(float(1))\n",
    "    elif value == 'no':\n",
    "        return(float(0))\n",
    "    else:\n",
    "        return(float(value))\n",
    "    \n",
    "# Applying Fucntion to Categorical Features in train data\n",
    "\n",
    "cols=['dependency','edjefe','edjefa']\n",
    "\n",
    "for col in cols:\n",
    "    df_train[col] = df_train[col].apply(encode_to_numeric)\n",
    "\n",
    "# Applying Fucntion to Categorical Features in test data\n",
    "\n",
    "for col in cols:\n",
    "    df_test[col] = df_test[col].apply(encode_to_numeric)"
   ]
  },
  {
   "cell_type": "code",
   "execution_count": 12,
   "metadata": {},
   "outputs": [
    {
     "name": "stdout",
     "output_type": "stream",
     "text": [
      "\n",
      "\n",
      " Count for each datatype columns : \n",
      "\n",
      " int64      130\n",
      "float64     11\n",
      "object       2\n",
      "dtype: int64\n",
      "\n",
      "\n"
     ]
    }
   ],
   "source": [
    "# Check if any categorical Features Remaining..\n",
    "\n",
    "print(\"\\n\")\n",
    "print(\" Count for each datatype columns : \\n\\n\",df_train.dtypes.value_counts())\n",
    "print(\"\\n\")"
   ]
  },
  {
   "cell_type": "markdown",
   "metadata": {},
   "source": [
    "## 3. Count how many null values are existing in columns."
   ]
  },
  {
   "cell_type": "code",
   "execution_count": 13,
   "metadata": {},
   "outputs": [
    {
     "name": "stdout",
     "output_type": "stream",
     "text": [
      "\n",
      "\n",
      "Integer Variables :  Series([], dtype: int64)\n",
      "\n",
      "\n",
      "Float Variables :\n",
      "\n",
      "  v2a1         6860\n",
      "v18q1        7342\n",
      "rez_esc      7928\n",
      "meaneduc        5\n",
      "SQBmeaned       5\n",
      "dtype: int64\n",
      "\n",
      "\n",
      "Target variable :  0\n",
      "\n",
      "\n"
     ]
    }
   ],
   "source": [
    "# Check for missing Values:\n",
    "\n",
    "# Missing Values for integer features\n",
    "print(\"\\n\")\n",
    "null_counts_int = df_train.select_dtypes(np.int64).isnull().sum()\n",
    "print(\"Integer Variables : \",null_counts_int[null_counts_int > 0])\n",
    "print(\"\\n\")\n",
    "\n",
    "# Missing Values for Float features\n",
    "\n",
    "null_counts_float = df_train.select_dtypes(np.float64).isnull().sum()\n",
    "print(\"Float Variables :\\n\\n \",null_counts_float[null_counts_float > 0])\n",
    "print(\"\\n\")\n",
    "\n",
    "# Missing Values in Target Variable\n",
    "\n",
    "print('Target variable : ', df_train.Target.isna().sum())\n",
    "print(\"\\n\")"
   ]
  },
  {
   "cell_type": "markdown",
   "metadata": {},
   "source": [
    "<hr>\n",
    "\n",
    "<font color = \"red\" size=4px><b> Data Dictionary For Above Float Variables </font>\n",
    "\n",
    "- v2a1 : Monthly rent payment \n",
    "- v18q1 : number of tablets household owns\n",
    "- rez_esc : Years behind in school\n",
    "\n",
    "- SQBmeaned : square of the mean years of education of adults (>=18) in the household\n",
    "- meaneduc : average years of education for adults (18+)\n",
    "    \n",
    "\n",
    "<hr>"
   ]
  },
  {
   "cell_type": "markdown",
   "metadata": {},
   "source": [
    "<font color = \"maroon\" size=4px> Lets Check the missing rent payments with respect to house ownership status"
   ]
  },
  {
   "cell_type": "code",
   "execution_count": 14,
   "metadata": {},
   "outputs": [
    {
     "data": {
      "image/png": "[encoded data removed]",
      "text/plain": [
       "<Figure size 720x576 with 1 Axes>"
      ]
     },
     "metadata": {},
     "output_type": "display_data"
    }
   ],
   "source": [
    "# Variables Indication House Ownership Status: \n",
    "\n",
    "ownership_status_cols = [column for column in df_train if column.startswith('tipovivi')]\n",
    "\n",
    "# Plot Missing Rents count for each Ownership status\n",
    "\n",
    "style.use('ggplot')\n",
    "df_train.loc[df_train.v2a1.isnull(), ownership_status_cols].sum().plot.bar(figsize = (10, 8), color = 'royalblue', edgecolor = 'k', linewidth = 3)\n",
    "plt.xticks(ticks=[0, 1, 2, 3, 4],labels = ['Owns and Paid Off', 'Owns and Paying', 'Rented', 'Precarious', 'Other'])\n",
    "plt.title('Missing Rents count for each Ownership status', size = 15,pad=15);                                                              "
   ]
  },
  {
   "cell_type": "markdown",
   "metadata": {},
   "source": [
    "<hr>\n",
    "\n",
    "<font color = \"blue\" size=4px> <b>Interpretation :</b></font><font color = \"red\" size=4px> From above Intepretation we can infere that house which is owned and fully paid has most missing rent and which makes sense, so we will fill all the missing rents with 0</font>\n",
    "   \n",
    "<hr>"
   ]
  },
  {
   "cell_type": "code",
   "execution_count": 15,
   "metadata": {},
   "outputs": [],
   "source": [
    "# Filling missing rents with zero for train and test data\n",
    "\n",
    "df_train.v2a1.fillna(0,inplace=True)\n",
    "df_test.v2a1.fillna(0,inplace=True)"
   ]
  },
  {
   "cell_type": "markdown",
   "metadata": {},
   "source": [
    "<font color = \"maroon\" size=4px>Lets Check the missing number of tablets household owns with respect to (v18q) if head of house (parentesco1) owns a tablet or not"
   ]
  },
  {
   "cell_type": "code",
   "execution_count": 16,
   "metadata": {},
   "outputs": [
    {
     "data": {
      "image/png": "[encoded data removed]",
      "text/plain": [
       "<Figure size 864x432 with 1 Axes>"
      ]
     },
     "metadata": {},
     "output_type": "display_data"
    }
   ],
   "source": [
    "# rows for head of house\n",
    "\n",
    "head_of_house = df_train.loc[df_train.parentesco1 == 1].copy()\n",
    "\n",
    "# Group the number of talets a household owns with head of house owing a tablet or not\n",
    "\n",
    "Count_na_talets = pd.DataFrame(head_of_house.groupby('v18q')['v18q1'].apply(lambda x: x.isnull().sum())).reset_index().rename(columns={'v18q1':'missing Value Count for number of tablest household owns','v18q':'Head of house Owning Tablet'})\n",
    "\n",
    "# Plotting The count of Missing tablets count of household with respect to Ownership of tablet of Head of House\n",
    "\n",
    "plt.figure(figsize = (12,6))\n",
    "sns.barplot(Count_na_talets['Head of house Owning Tablet'],Count_na_talets['missing Value Count for number of tablest household owns'],color='cyan')\n",
    "plt.title('The count of Missing tablets count of household with respect to Ownership of tablet of Head of House')\n",
    "plt.show()"
   ]
  },
  {
   "cell_type": "markdown",
   "metadata": {},
   "source": [
    "<hr>\n",
    "\n",
    "<font color = \"blue\" size=4px> <b>Interpretation :<b></font> <font color = \"red\" size=4px> From above Intepretation we can infere that if Head of House doesnt owns a tablet, there will be zero number of tablets a household owns , so we will replace all missing count value with 0 </font>\n",
    "<hr>"
   ]
  },
  {
   "cell_type": "code",
   "execution_count": 17,
   "metadata": {},
   "outputs": [],
   "source": [
    "# Filling missing tablets value with zero in train amd test data sets\n",
    "\n",
    "for column in [df_train,df_test]:\n",
    "    column['v18q1'].fillna(0,inplace=True)"
   ]
  },
  {
   "cell_type": "markdown",
   "metadata": {},
   "source": [
    "<font color = \"maroon\" size=4px> Lets Look at rez_esc : Years behind in school with null values(7928),\n",
    "    columns related is Age lets compare it \n",
    "\n"
   ]
  },
  {
   "cell_type": "code",
   "execution_count": 18,
   "metadata": {},
   "outputs": [
    {
     "data": {
      "text/plain": [
       "count    1629.000000\n",
       "mean       12.258441\n",
       "std         3.218325\n",
       "min         7.000000\n",
       "25%         9.000000\n",
       "50%        12.000000\n",
       "75%        15.000000\n",
       "max        17.000000\n",
       "Name: age, dtype: float64"
      ]
     },
     "execution_count": 18,
     "metadata": {},
     "output_type": "execute_result"
    }
   ],
   "source": [
    "df_train[df_train['rez_esc'].notnull()]['age'].describe()"
   ]
  },
  {
   "cell_type": "markdown",
   "metadata": {},
   "source": [
    "<font color = \"maroon\" size=3px> min age is 7 and max is 17 \n"
   ]
  },
  {
   "cell_type": "code",
   "execution_count": 19,
   "metadata": {},
   "outputs": [
    {
     "data": {
      "text/plain": [
       "count    7928.000000\n",
       "mean       38.833249\n",
       "std        20.989486\n",
       "min         0.000000\n",
       "25%        24.000000\n",
       "50%        38.000000\n",
       "75%        54.000000\n",
       "max        97.000000\n",
       "Name: age, dtype: float64"
      ]
     },
     "execution_count": 19,
     "metadata": {},
     "output_type": "execute_result"
    }
   ],
   "source": [
    "# rez_esc has some value when except the nulls lets Verify it\n",
    "\n",
    "df_train.loc[df_train['rez_esc'].isnull()]['age'].describe()"
   ]
  },
  {
   "cell_type": "markdown",
   "metadata": {},
   "source": [
    "<font color = \"maroon\" size=3px> the column has value when not null , thus we will not drop it"
   ]
  },
  {
   "cell_type": "code",
   "execution_count": 20,
   "metadata": {},
   "outputs": [
    {
     "data": {
      "text/plain": [
       "2514    10\n",
       "Name: age, dtype: int64"
      ]
     },
     "execution_count": 20,
     "metadata": {},
     "output_type": "execute_result"
    }
   ],
   "source": [
    "# lets find the age which is behind school in range of AGE 7-17\n",
    "\n",
    "df_train.loc[df_train.rez_esc.isna() & (df_train.age > 7) & (df_train.age < 17)]['age']"
   ]
  },
  {
   "cell_type": "markdown",
   "metadata": {},
   "source": [
    "<hr>\n",
    "\n",
    "<font color = \"blue\" size=4px> <b>Interpretation :</b></font><font color = \"red\" size=4px> From above Intepretation we can infere that there's only one member in family who's is behind in school with age of 10, lets fill it with zero</font>\n",
    "<hr>"
   ]
  },
  {
   "cell_type": "code",
   "execution_count": 21,
   "metadata": {},
   "outputs": [],
   "source": [
    "# Filling null values with Zero in Train and test data\n",
    "\n",
    "for column in [df_train,df_test]:\n",
    "    column['rez_esc'].fillna(0,inplace=True)"
   ]
  },
  {
   "cell_type": "markdown",
   "metadata": {},
   "source": [
    "<hr>\n",
    "\n",
    "Lets look at meaneduc   (total nulls: 5) : average years of education for adults (18+)  \n",
    " why the null values, Lets look at few rows with nulls in meaneduc\n",
    "\n",
    "\n",
    "Columns related to average years of education for adults (18+)  \n",
    "- edjefe\n",
    "- edjefa\n",
    "- instlevel1, =1 no level of education\n",
    "- instlevel2, =1 incomplete primary "
   ]
  },
  {
   "cell_type": "code",
   "execution_count": 22,
   "metadata": {},
   "outputs": [
    {
     "data": {
      "text/plain": [
       "edjefe        0\n",
       "edjefa        0\n",
       "instlevel1    0\n",
       "instlevel2    0\n",
       "dtype: int64"
      ]
     },
     "execution_count": 22,
     "metadata": {},
     "output_type": "execute_result"
    }
   ],
   "source": [
    "# Lets eplore few rows of meaneduc null values\n",
    "\n",
    "meaneduc_null_rows = df_train[df_train.meaneduc.isnull()].head()\n",
    "\n",
    "columns = ['edjefe','edjefa','instlevel1','instlevel2']\n",
    "\n",
    "meaneduc_null_rows[columns][meaneduc_null_rows[columns]['instlevel1'] > 0].count()"
   ]
  },
  {
   "cell_type": "markdown",
   "metadata": {},
   "source": [
    "<hr>\n",
    "\n",
    "<font color = \"blue\" size=4px> <b>Interpretation :</b></font><font color = \"red\" size=4px> From above Intepretation we can infere that meaneduc is null when no level of education is 0 , lets fill the missing values with na for both meaneduc and SQBmeaned</font>\n",
    "<hr>"
   ]
  },
  {
   "cell_type": "code",
   "execution_count": 23,
   "metadata": {},
   "outputs": [],
   "source": [
    "# Filling The SQBmeaned amd meaneduc with 0 values in train and test data\n",
    "\n",
    "for column in [df_train,df_test]:\n",
    "    column['meaneduc'].fillna(0,inplace = True)\n",
    "    column['SQBmeaned'].fillna(0,inplace = True)"
   ]
  },
  {
   "cell_type": "code",
   "execution_count": 24,
   "metadata": {},
   "outputs": [
    {
     "data": {
      "text/plain": [
       "0    143\n",
       "dtype: int64"
      ]
     },
     "execution_count": 24,
     "metadata": {},
     "output_type": "execute_result"
    }
   ],
   "source": [
    "# lets check for Missing Values \n",
    "df_train.isnull().sum().value_counts()"
   ]
  },
  {
   "cell_type": "markdown",
   "metadata": {},
   "source": [
    "## 4. Check if there is a house without a family head."
   ]
  },
  {
   "cell_type": "code",
   "execution_count": 25,
   "metadata": {},
   "outputs": [
    {
     "data": {
      "text/html": [
       "<div>\n",
       "<style scoped>\n",
       "    .dataframe tbody tr th:only-of-type {\n",
       "        vertical-align: middle;\n",
       "    }\n",
       "\n",
       "    .dataframe tbody tr th {\n",
       "        vertical-align: top;\n",
       "    }\n",
       "\n",
       "    .dataframe thead th {\n",
       "        text-align: right;\n",
       "    }\n",
       "</style>\n",
       "<table border=\"1\" class=\"dataframe\">\n",
       "  <thead>\n",
       "    <tr style=\"text-align: right;\">\n",
       "      <th></th>\n",
       "      <th>Heads(Yes/no)</th>\n",
       "      <th>Household counts</th>\n",
       "    </tr>\n",
       "  </thead>\n",
       "  <tbody>\n",
       "    <tr>\n",
       "      <th>0</th>\n",
       "      <td>1</td>\n",
       "      <td>2973</td>\n",
       "    </tr>\n",
       "    <tr>\n",
       "      <th>1</th>\n",
       "      <td>0</td>\n",
       "      <td>15</td>\n",
       "    </tr>\n",
       "  </tbody>\n",
       "</table>\n",
       "</div>"
      ],
      "text/plain": [
       "   Heads(Yes/no)  Household counts\n",
       "0              1              2973\n",
       "1              0                15"
      ]
     },
     "execution_count": 25,
     "metadata": {},
     "output_type": "execute_result"
    }
   ],
   "source": [
    "# Grouping Household with head of house counts\n",
    "\n",
    "house_wihtout_heads = pd.DataFrame(df_train.groupby(\"idhogar\")['parentesco1'].sum().value_counts().reset_index()).rename(columns={'index':'Heads(Yes/no)','parentesco1':'Household counts'})\n",
    "\n",
    "house_wihtout_heads"
   ]
  },
  {
   "cell_type": "markdown",
   "metadata": {},
   "source": [
    "<hr>\n",
    "\n",
    "- parentescol1 : 1 if household head\n",
    "\n",
    "\n",
    "<font color = \"blue\" size=4px> <b>Interpretation :</b></font><font color = \"red\" size=4px> From above Intepretation we can infere that there are <b>15</b> Households Without Family head and <b>2973</b> Households with Family Head</font>\n",
    "<hr>"
   ]
  },
  {
   "cell_type": "markdown",
   "metadata": {},
   "source": [
    "## 5. Check whether all members of the house have the same poverty level."
   ]
  },
  {
   "cell_type": "code",
   "execution_count": 26,
   "metadata": {},
   "outputs": [
    {
     "name": "stdout",
     "output_type": "stream",
     "text": [
      "\n",
      "\n",
      "Number of households with family members not having similar poverty level :  85\n",
      "Number of households with family members having similar poverty level :  2988\n",
      "\n",
      "\n"
     ]
    }
   ],
   "source": [
    "# Group the housholds with target values and get unique Counts\n",
    "\n",
    "all_equal = df_train.groupby(\"idhogar\")['Target'].apply(lambda x : x.nunique()==1)\n",
    "\n",
    "# Get number of Households Which are not having same target value\n",
    "\n",
    "not_equal = all_equal[all_equal != True]\n",
    "\n",
    "print(\"\\n\")\n",
    "print(\"Number of households with family members not having similar poverty level : \",len(not_equal))\n",
    "print(\"Number of households with family members having similar poverty level : \",len(all_equal))\n",
    "print(\"\\n\")"
   ]
  },
  {
   "cell_type": "markdown",
   "metadata": {},
   "source": [
    "<hr>\n",
    "\n",
    "<font color = \"blue\" size=4px> <b>Interpretation :</b></font> <font color = \"red\" size=4px> From above Intepretation we can infere that there are <b>85*</b>Households with family members not having similar poverty level and <b>2988</b> with  similar poverty level</font>\n",
    "<hr>"
   ]
  },
  {
   "cell_type": "markdown",
   "metadata": {},
   "source": [
    "## 6. Set the poverty level of the members and the head of the house same in a family."
   ]
  },
  {
   "cell_type": "code",
   "execution_count": 27,
   "metadata": {},
   "outputs": [
    {
     "name": "stdout",
     "output_type": "stream",
     "text": [
      "\n",
      "\n",
      "There are 0 households where the family members do not all have the same target.\n",
      "\n",
      "\n"
     ]
    }
   ],
   "source": [
    "# Iterate through each household\n",
    "\n",
    "\n",
    "for household in not_equal.index:\n",
    "    \n",
    "    # Find the correct label (for the head of household)\n",
    "    \n",
    "    true_target = int(df_train[(df_train['idhogar'] == household) & (df_train['parentesco1'] == 1.0)]['Target'])\n",
    "    \n",
    "    # Set the correct label for all members in the household\n",
    "    \n",
    "    df_train.loc[df_train['idhogar'] == household, 'Target'] = true_target\n",
    "    \n",
    "    \n",
    "# Groupby the household and figure out the number of unique values\n",
    "\n",
    "all_equal = df_train.groupby('idhogar')['Target'].apply(lambda x: x.nunique() == 1)\n",
    "\n",
    "# Households where targets are not all equal\n",
    "\n",
    "not_equal = all_equal[all_equal != True]\n",
    "print(\"\\n\")\n",
    "print('There are {} households where the family members do not all have the same target.'.format(len(not_equal)))\n",
    "print(\"\\n\")"
   ]
  },
  {
   "cell_type": "markdown",
   "metadata": {},
   "source": [
    "## 7. Check if there are any biases in our dataset."
   ]
  },
  {
   "cell_type": "markdown",
   "metadata": {},
   "source": [
    "<hr>\n",
    "\n",
    "<font color = \"red\" size=4px> Target(Poverty Level):-</font>\n",
    "\n",
    "- 1 = extreme poverty \n",
    "- 2 = moderate poverty\n",
    "- 3 = vulnerable households\n",
    "- 4 = non vulnerable households "
   ]
  },
  {
   "cell_type": "code",
   "execution_count": 28,
   "metadata": {},
   "outputs": [
    {
     "name": "stdout",
     "output_type": "stream",
     "text": [
      "\n",
      "\n"
     ]
    },
    {
     "data": {
      "image/png": "[encoded data removed]",
      "text/plain": [
       "<Figure size 864x432 with 1 Axes>"
      ]
     },
     "metadata": {},
     "output_type": "display_data"
    }
   ],
   "source": [
    "# Getting value_counts for each target\n",
    "\n",
    "target_counts = df_train.Target.value_counts().sort_index()\n",
    "\n",
    "# Plot The Count for each Poverty Level\n",
    "print(\"\\n\")\n",
    "target_counts.plot.bar(figsize = (12,6),linewidth=3,edgecolor='k')\n",
    "plt.xlabel(\"Poverty Levels\",size = 16)\n",
    "plt.ylabel(\"Count\",size = 16)\n",
    "plt.xticks([0,1,2,3],['extreme poverty','moderate poverty','vulnerable households','non vulnerable households'],rotation=20)\n",
    "plt.title(\"Poverty Level Counts\",pad=30,size=16)\n",
    "plt.show()"
   ]
  },
  {
   "cell_type": "markdown",
   "metadata": {},
   "source": [
    "<hr>\n",
    "\n",
    "<font color = \"blue\" size=4px> <b>Interpretation :</b></font><font color = \"red\" size=4px> From above Intepretation we can infere that  Extreme Poverty has samallest count whereas Non Vulnerable households are having highest count , Therefore the <b>Data is Biased<b></font>\n",
    "<hr>"
   ]
  },
  {
   "cell_type": "markdown",
   "metadata": {},
   "source": [
    "## 8. Clean the data and remove variables which are not significant "
   ]
  },
  {
   "cell_type": "code",
   "execution_count": 29,
   "metadata": {},
   "outputs": [],
   "source": [
    "# Remove Unwanted columns from train and test\n",
    "\n",
    "columns = ['SQBescolari', 'SQBage', 'SQBhogar_total', 'SQBedjefe','SQBhogar_nin', 'SQBovercrowding', 'SQBdependency', 'SQBmeaned', 'agesq','Id','idhogar']\n",
    "\n",
    "for df in [df_train,df_test]:\n",
    "    df.drop(columns=columns,inplace=True)"
   ]
  },
  {
   "cell_type": "markdown",
   "metadata": {},
   "source": [
    "#### 8.1. Remove Features with Zero Variance"
   ]
  },
  {
   "cell_type": "code",
   "execution_count": 30,
   "metadata": {},
   "outputs": [
    {
     "name": "stdout",
     "output_type": "stream",
     "text": [
      "Varible with Zero Variance :  ['elimbasu5']\n"
     ]
    }
   ],
   "source": [
    "# Check for Columns with Zero Variance In data Set\n",
    "\n",
    "var_thres = VarianceThreshold(threshold=0.0)\n",
    "\n",
    "features_no_output = df_train.drop(columns='Target')\n",
    "var_thres.fit(features_no_output)\n",
    "\n",
    "# getting columns with Zero variance\n",
    "\n",
    "constant_columns = [column for column in features_no_output.columns if column not in features_no_output.columns[var_thres.get_support()]]\n",
    "\n",
    "print(\"Varible with Zero Variance : \",constant_columns)"
   ]
  },
  {
   "cell_type": "markdown",
   "metadata": {},
   "source": [
    "<hr>\n",
    "\n",
    "<font color = \"blue\" size=4px> <b>Interpretation :</b></font><font color = \"red\" size=4px> From above Intepretation we can infere that </font>\n",
    "\n",
    "- elimbasu5 : (1 if rubbish disposal mainly by throwing in river, creek or sea). is having zero varaince \n",
    "- pisoother : 1 if predominant material on the floor is other\n",
    "- planpri  : 1 electricity from private plant\n",
    "    \n",
    " <font color = \"red\" size=4px> are having almost zero Variance ,so we will drop it<>/font\n",
    "    \n",
    "<hr>"
   ]
  },
  {
   "cell_type": "code",
   "execution_count": 31,
   "metadata": {},
   "outputs": [],
   "source": [
    "# Dropping columns with zeri variance in Train and test data\n",
    "\n",
    "for column in [df_train,df_test]:\n",
    "    column.drop(constant_columns,axis=1,inplace=True)"
   ]
  },
  {
   "cell_type": "markdown",
   "metadata": {},
   "source": [
    "#### 5.2. Lets Remove Features which are Highly Correlated"
   ]
  },
  {
   "cell_type": "code",
   "execution_count": 32,
   "metadata": {},
   "outputs": [],
   "source": [
    "# Creating a function through which we can select highly correlated features and dropping the first feature that is correlated with any other feature\n",
    "\n",
    "def correlation(dataset, threshold):\n",
    "    col_corr = set() # Set of all names of correlated columns\n",
    "    corr_matrix = dataset.corr() # Correlation Matrix\n",
    "    \n",
    "    for i in range(len(corr_matrix.columns)):\n",
    "        for j in range(i):\n",
    "            if abs(corr_matrix.iloc[i, j]) > threshold:    # we are interested in absolute coeff value\n",
    "                    \n",
    "                colname = corr_matrix.columns[i] # getting the name of columns\n",
    "                col_corr.add(colname)\n",
    "    return(col_corr)\n"
   ]
  },
  {
   "cell_type": "code",
   "execution_count": 33,
   "metadata": {},
   "outputs": [
    {
     "name": "stdout",
     "output_type": "stream",
     "text": [
      "\n",
      "\n",
      "Correlated Features :\n",
      "  {'female', 'hhsize', 'tamviv', 'tamhog', 'sanitario3', 'hogar_total', 'abastaguafuera', 'energcocinar3', 'coopele', 'area2'}\n",
      "\n",
      "\n",
      "No. of Features Correlated:  10\n"
     ]
    }
   ],
   "source": [
    "# Getting the Features with High Correlation\n",
    "\n",
    "features_no_output = df_train.drop(columns=['Target'])\n",
    "\n",
    "corr_features = correlation(features_no_output,0.90) # Setting Threshold as features having correlation above 85%\n",
    "print(\"\\n\")\n",
    "print(\"Correlated Features :\\n \",corr_features)\n",
    "print(\"\\n\")\n",
    "print(\"No. of Features Correlated: \",len(corr_features))"
   ]
  },
  {
   "cell_type": "markdown",
   "metadata": {},
   "source": [
    "<hr>\n",
    "\n",
    "<font color = \"blue\" size=4px> <b>Interpretation :</b></font><font color = \"red\" size=4px> From above Intepretation we can infere that Using Pearson Correlation we were able find out 10 Highly Correlated Features with <b>90% Correlation</b> with other Features In DataSet</font>\n",
    "\n",
    "<font color = \"red\" size=4px> We can remove those features to avoid dimentionality curse</font>\n",
    "\n",
    "<hr>"
   ]
  },
  {
   "cell_type": "code",
   "execution_count": 39,
   "metadata": {},
   "outputs": [],
   "source": [
    "# Dropping the Highly Correlated Features From Train and Test Data set\n",
    "\n",
    "for df in [df_train,df_test]:\n",
    "    df.drop(columns=corr_features,inplace = True)\n",
    "\n"
   ]
  },
  {
   "cell_type": "code",
   "execution_count": 40,
   "metadata": {},
   "outputs": [
    {
     "name": "stdout",
     "output_type": "stream",
     "text": [
      "\n",
      "\n",
      "No. of Features Correlated:  0\n",
      "\n",
      "\n"
     ]
    }
   ],
   "source": [
    "# Check if any correlated features Remaining\n",
    "\n",
    "corr_features = correlation(df_train,0.90) # Setting Threshold as features having correlation above 85%\n",
    "print(\"\\n\")\n",
    "print(\"No. of Features Correlated: \",len(corr_features))\n",
    "print(\"\\n\")"
   ]
  },
  {
   "cell_type": "markdown",
   "metadata": {},
   "source": [
    "<font color = \"#191970\" size=8px><center><b> Model Building"
   ]
  },
  {
   "cell_type": "markdown",
   "metadata": {},
   "source": [
    "#### 1. Defining Features and Target"
   ]
  },
  {
   "cell_type": "code",
   "execution_count": 41,
   "metadata": {},
   "outputs": [],
   "source": [
    "Features = df_train.drop(columns='Target')\n",
    "Target = df_train.Target"
   ]
  },
  {
   "cell_type": "markdown",
   "metadata": {},
   "source": [
    "#### 1.1 define Train Test Split"
   ]
  },
  {
   "cell_type": "code",
   "execution_count": 42,
   "metadata": {},
   "outputs": [],
   "source": [
    "x_train, x_test, y_train, y_test = train_test_split(Features,Target,random_state = 1)"
   ]
  },
  {
   "cell_type": "markdown",
   "metadata": {},
   "source": [
    "#### 2. Standardise the data"
   ]
  },
  {
   "cell_type": "code",
   "execution_count": 43,
   "metadata": {},
   "outputs": [],
   "source": [
    "Features_std = StandardScaler().fit_transform(Features)\n",
    "x_train_std = StandardScaler().fit_transform(x_train)\n",
    "x_test_std = StandardScaler().fit_transform(x_test)"
   ]
  },
  {
   "cell_type": "code",
   "execution_count": 44,
   "metadata": {},
   "outputs": [
    {
     "name": "stdout",
     "output_type": "stream",
     "text": [
      "Shape Of Train :  (7167, 120)\n",
      "Shape Of Test  :  (2390, 120)\n"
     ]
    }
   ],
   "source": [
    "# Shape Of Split\n",
    "print(\"Shape Of Train : \",x_train_std.shape)\n",
    "print(\"Shape Of Test  : \",x_test_std.shape)"
   ]
  },
  {
   "cell_type": "markdown",
   "metadata": {},
   "source": [
    "#### 3. Model Training"
   ]
  },
  {
   "cell_type": "code",
   "execution_count": 48,
   "metadata": {},
   "outputs": [
    {
     "name": "stdout",
     "output_type": "stream",
     "text": [
      "\n",
      "\n",
      "Train Score :  0.8487512208734478\n",
      "Test  Score :  0.801673640167364\n"
     ]
    }
   ],
   "source": [
    "# Instantiate estimator Object\n",
    "\n",
    "rfmodel1 = RandomForestClassifier(criterion = 'entropy',\n",
    " max_depth = 10,\n",
    " min_samples_split = 2,\n",
    " n_estimators = 1000)\n",
    "\n",
    "\n",
    "# Fit The Model\n",
    "\n",
    "rfmodel1.fit(x_train_std,y_train)\n",
    "\n",
    "# Performance Metrics\n",
    "print(\"\\n\")\n",
    "print(\"Train Score : \",rfmodel1.score(x_train_std,y_train))\n",
    "print(\"Test  Score : \",rfmodel1.score(x_test_std,y_test))"
   ]
  },
  {
   "cell_type": "markdown",
   "metadata": {},
   "source": [
    "##### "
   ]
  },
  {
   "cell_type": "code",
   "execution_count": 44,
   "metadata": {},
   "outputs": [],
   "source": [
    "# KFold Cross Validation\n",
    "\n",
    "kf = KFold(n_splits=10,shuffle=True,random_state=1)"
   ]
  },
  {
   "cell_type": "code",
   "execution_count": 47,
   "metadata": {},
   "outputs": [
    {
     "ename": "NameError",
     "evalue": "name 'kf' is not defined",
     "output_type": "error",
     "traceback": [
      "\u001b[1;31m---------------------------------------------------------------------------\u001b[0m",
      "\u001b[1;31mNameError\u001b[0m                                 Traceback (most recent call last)",
      "\u001b[1;32m<ipython-input-47-2ace81b1e90c>\u001b[0m in \u001b[0;36m<module>\u001b[1;34m\u001b[0m\n\u001b[0;32m     12\u001b[0m \u001b[1;31m#Predictions\u001b[0m\u001b[1;33m\u001b[0m\u001b[1;33m\u001b[0m\u001b[1;33m\u001b[0m\u001b[0m\n\u001b[0;32m     13\u001b[0m \u001b[1;33m\u001b[0m\u001b[0m\n\u001b[1;32m---> 14\u001b[1;33m \u001b[0mprediction\u001b[0m \u001b[1;33m=\u001b[0m \u001b[0mmodel_selection\u001b[0m\u001b[1;33m.\u001b[0m\u001b[0mcross_val_predict\u001b[0m\u001b[1;33m(\u001b[0m\u001b[0mrfModel2\u001b[0m\u001b[1;33m,\u001b[0m\u001b[0mFeatures_std\u001b[0m\u001b[1;33m,\u001b[0m\u001b[0mTarget\u001b[0m\u001b[1;33m,\u001b[0m\u001b[0mcv\u001b[0m\u001b[1;33m=\u001b[0m\u001b[0mkf\u001b[0m\u001b[1;33m)\u001b[0m\u001b[1;33m\u001b[0m\u001b[1;33m\u001b[0m\u001b[0m\n\u001b[0m\u001b[0;32m     15\u001b[0m \u001b[1;33m\u001b[0m\u001b[0m\n",
      "\u001b[1;31mNameError\u001b[0m: name 'kf' is not defined"
     ]
    }
   ],
   "source": [
    "# Instantiate Estimator Object \n",
    "\n",
    "rfModel2 = RandomForestClassifier(criterion = 'entropy',\n",
    " max_depth = 10,\n",
    " min_samples_split = 2,\n",
    " n_estimators = 1000)\n",
    "\n",
    "# Fit the Model\n",
    "\n",
    "rfModel2.fit(Features_std,Target)\n",
    "\n",
    "#Predictions\n",
    "\n",
    "prediction = model_selection.cross_val_predict(rfModel2,Features_std,Target,cv=kf)\n",
    "\n"
   ]
  },
  {
   "cell_type": "code",
   "execution_count": 46,
   "metadata": {},
   "outputs": [
    {
     "name": "stdout",
     "output_type": "stream",
     "text": [
      "Classification Report : \n",
      "\n",
      "               precision    recall  f1-score   support\n",
      "\n",
      "           1       0.99      0.88      0.93       774\n",
      "           2       0.98      0.91      0.94      1558\n",
      "           3       0.99      0.84      0.91      1221\n",
      "           4       0.94      1.00      0.97      6004\n",
      "\n",
      "    accuracy                           0.95      9557\n",
      "   macro avg       0.97      0.91      0.94      9557\n",
      "weighted avg       0.96      0.95      0.95      9557\n",
      "\n"
     ]
    }
   ],
   "source": [
    "print(\"Classification Report : \\n\\n\",metrics.classification_report(Target,prediction))"
   ]
  },
  {
   "cell_type": "code",
   "execution_count": null,
   "metadata": {},
   "outputs": [],
   "source": [
    "pd.crosstab(Target,prediction)"
   ]
  },
  {
   "cell_type": "markdown",
   "metadata": {},
   "source": [
    "<hr>\n",
    "\n",
    "<font color = \"blue\" size=4px> <b>Interpretation :</b></font><font color = \"red\" size=4px> Model Achieved <b>95% Accuracy</b> cosidering all Features</font>\n",
    "\n",
    "<font color = \"red\" size=4px> Lets now take Most Significant Features</font>\n",
    "\n",
    "<hr>"
   ]
  },
  {
   "cell_type": "markdown",
   "metadata": {},
   "source": [
    "### Get Important Features"
   ]
  },
  {
   "cell_type": "code",
   "execution_count": null,
   "metadata": {},
   "outputs": [],
   "source": [
    "# Get Important Features\n",
    "\n",
    "labels = list(x_train)\n",
    "feature_importances = pd.DataFrame({'Importance':rfmodel1.feature_importances_},index=labels).sort_values(by='Importance',ascending=False)"
   ]
  },
  {
   "cell_type": "code",
   "execution_count": null,
   "metadata": {},
   "outputs": [],
   "source": [
    "# Features Having almost zero variance\n",
    "\n",
    "feature_importances[feature_importances.Importance < 0.0001]"
   ]
  },
  {
   "cell_type": "code",
   "execution_count": null,
   "metadata": {},
   "outputs": [],
   "source": [
    "# lets plot them\n",
    "\n",
    "feature_importances.Importance.sort_values(ascending=True).plot(kind='barh', figsize=(20, 20))\n",
    "plt.xlabel('Importance')\n",
    "\n",
    "plt.title(\"Feature Importances\")\n",
    "plt.show()\n"
   ]
  },
  {
   "cell_type": "code",
   "execution_count": null,
   "metadata": {},
   "outputs": [],
   "source": [
    "print(\"Number Of Features : \", feature_importances.value_counts().sum())"
   ]
  },
  {
   "cell_type": "markdown",
   "metadata": {},
   "source": [
    "<hr>\n",
    "\n",
    "<font color = \"blue\" size=4px> <b>Interpretation :</b></font><font color = \"red\" size=4px> From above Figure we can infere that Most features are having almost <b>zero significance</b> to the model</font>\n",
    "\n",
    "<font color = \"red\" size=4px> Lets now take Most Significant Features with <b>Threshold Of 0.01</b></font>\n",
    "\n",
    "<hr>"
   ]
  },
  {
   "cell_type": "code",
   "execution_count": null,
   "metadata": {},
   "outputs": [],
   "source": [
    "# Taking most Significant Features\n",
    "\n",
    "feature_importances = feature_importances[feature_importances.Importance > 0.01]\n",
    "\n",
    "feature_importances.Importance.sort_values(ascending=True).plot(kind='barh', figsize=(15, 11),color='royalblue')\n",
    "plt.xlabel('Importance')\n",
    "plt.title(\"Feature Importances\")\n",
    "plt.show()\n",
    "\n",
    "print(\"\\n\")"
   ]
  },
  {
   "cell_type": "code",
   "execution_count": null,
   "metadata": {},
   "outputs": [],
   "source": [
    "print(\"Number Of Features : \", feature_importances.value_counts().sum())"
   ]
  },
  {
   "cell_type": "markdown",
   "metadata": {},
   "source": [
    "<hr>\n",
    "\n",
    "<font color = \"blue\" size=4px> <b>Interpretation :</b></font><font color = \"red\" size=4px> From above Figure we can infere that <b>meaneduc and dependency</b> are having highest significance to the model</font>\n",
    "\n",
    "<font color = \"red\" size=4px> We have reduced Features From <b>118 to 32</b></font>\n",
    "\n",
    "<hr>"
   ]
  },
  {
   "cell_type": "markdown",
   "metadata": {},
   "source": [
    "<font color = \"#191970\" size=8px><center><b> Model Building With Significant Variables"
   ]
  },
  {
   "cell_type": "code",
   "execution_count": null,
   "metadata": {},
   "outputs": [],
   "source": [
    "# Getting Most Significant Features names\n",
    "\n",
    "Sig_features = feature_importances.index"
   ]
  },
  {
   "cell_type": "markdown",
   "metadata": {},
   "source": [
    "#### 1. Defining Features and Target"
   ]
  },
  {
   "cell_type": "code",
   "execution_count": null,
   "metadata": {},
   "outputs": [],
   "source": [
    "Features = df_train[Sig_features]\n",
    "Target = df_train.Target"
   ]
  },
  {
   "cell_type": "markdown",
   "metadata": {},
   "source": [
    "#### 1.1 define Train Test Split"
   ]
  },
  {
   "cell_type": "code",
   "execution_count": null,
   "metadata": {},
   "outputs": [],
   "source": [
    "x_train, x_test, y_train, y_test = train_test_split(Features,Target,random_state = 1)"
   ]
  },
  {
   "cell_type": "markdown",
   "metadata": {},
   "source": [
    "#### 2. Standardise the data"
   ]
  },
  {
   "cell_type": "code",
   "execution_count": null,
   "metadata": {},
   "outputs": [],
   "source": [
    "Features_std = StandardScaler().fit_transform(Features)\n",
    "x_train_std = StandardScaler().fit_transform(x_train)\n",
    "x_test_std = StandardScaler().fit_transform(x_test)"
   ]
  },
  {
   "cell_type": "code",
   "execution_count": null,
   "metadata": {},
   "outputs": [],
   "source": [
    "# Shape Of Split\n",
    "print(\"Shape Of Train : \",x_train_std.shape)\n",
    "print(\"Shape Of Test  : \",x_test_std.shape)"
   ]
  },
  {
   "cell_type": "markdown",
   "metadata": {},
   "source": [
    "#### 3. Grid Search"
   ]
  },
  {
   "cell_type": "code",
   "execution_count": 56,
   "metadata": {},
   "outputs": [
    {
     "data": {
      "text/plain": [
       "GridSearchCV(estimator=RandomForestClassifier(), n_jobs=-1,\n",
       "             param_grid={'criterion': ['entropy'], 'max_depth': [30, 35],\n",
       "                         'min_samples_leaf': [1, 2, 3],\n",
       "                         'min_samples_split': [1, 2, 3],\n",
       "                         'n_estimators': [100]})"
      ]
     },
     "execution_count": 56,
     "metadata": {},
     "output_type": "execute_result"
    }
   ],
   "source": [
    "# # Grid Search \n",
    "# grid_rf2= GridSearchCV(RandomForestClassifier(),param_grid={'n_estimators':[100],'criterion':['entropy'],\n",
    "#                                                              'max_depth':[30,35],'min_samples_split':[1,2,3],\n",
    "#                                                              'min_samples_leaf':[1,2,3]},n_jobs=-1)\n",
    "\n",
    "# grid_rf2.fit(x_train_std,y_train)"
   ]
  },
  {
   "cell_type": "code",
   "execution_count": 57,
   "metadata": {},
   "outputs": [
    {
     "data": {
      "text/plain": [
       "{'criterion': 'entropy',\n",
       " 'max_depth': 30,\n",
       " 'min_samples_leaf': 1,\n",
       " 'min_samples_split': 2,\n",
       " 'n_estimators': 100}"
      ]
     },
     "execution_count": 57,
     "metadata": {},
     "output_type": "execute_result"
    }
   ],
   "source": [
    "# # Getting Best Parameters \n",
    "# grid_rf2.best_params_"
   ]
  },
  {
   "cell_type": "markdown",
   "metadata": {},
   "source": [
    "#### 3. Model Training"
   ]
  },
  {
   "cell_type": "code",
   "execution_count": 58,
   "metadata": {},
   "outputs": [
    {
     "name": "stdout",
     "output_type": "stream",
     "text": [
      "\n",
      "\n",
      "Train Score :  1.0\n",
      "Test  Score :  0.9535564853556485\n",
      "\n",
      "\n"
     ]
    }
   ],
   "source": [
    "# Instantiate estimator Object\n",
    "\n",
    "rfmodel2 = RandomForestClassifier(criterion='entropy', max_depth=31, min_samples_leaf=1,\n",
    "                       min_samples_split=2, n_estimators=1000,n_jobs=-1,random_state=1)\n",
    "\n",
    "# Fit The Model\n",
    "\n",
    "rfmodel2.fit(x_train_std,y_train)\n",
    "\n",
    "# Performance Metrics\n",
    "print(\"\\n\")\n",
    "print(\"Train Score : \",rfmodel2.score(x_train_std,y_train))\n",
    "print(\"Test  Score : \",rfmodel2.score(x_test_std,y_test))\n",
    "print(\"\\n\")"
   ]
  },
  {
   "cell_type": "markdown",
   "metadata": {},
   "source": [
    "##### Cross Validation"
   ]
  },
  {
   "cell_type": "code",
   "execution_count": 59,
   "metadata": {},
   "outputs": [],
   "source": [
    "# KFold Cross Validation\n",
    "\n",
    "kf = KFold(n_splits=10,shuffle=True,random_state=1)"
   ]
  },
  {
   "cell_type": "code",
   "execution_count": 60,
   "metadata": {},
   "outputs": [],
   "source": [
    "# Instantiate Estimator Object \n",
    "\n",
    "rfModel2_sig = RandomForestClassifier(criterion='entropy', max_depth=31, min_samples_leaf=1,\n",
    "                       min_samples_split=2, n_estimators=1000,n_jobs=-1,random_state=1)\n",
    "\n",
    "# Fit the Model\n",
    "\n",
    "rfModel2_sig.fit(Features_std,Target)\n",
    "\n",
    "#Predictions\n",
    "\n",
    "prediction = model_selection.cross_val_predict(rfModel2_sig,Features_std,Target,cv=kf)\n",
    "\n"
   ]
  },
  {
   "cell_type": "code",
   "execution_count": 61,
   "metadata": {},
   "outputs": [
    {
     "name": "stdout",
     "output_type": "stream",
     "text": [
      "Classification Report : \n",
      "\n",
      "               precision    recall  f1-score   support\n",
      "\n",
      "           1       0.99      0.93      0.96       774\n",
      "           2       0.98      0.94      0.96      1558\n",
      "           3       0.99      0.91      0.95      1221\n",
      "           4       0.96      1.00      0.98      6004\n",
      "\n",
      "    accuracy                           0.97      9557\n",
      "   macro avg       0.98      0.95      0.96      9557\n",
      "weighted avg       0.97      0.97      0.97      9557\n",
      "\n"
     ]
    }
   ],
   "source": [
    "print(\"Classification Report : \\n\\n\",metrics.classification_report(Target,prediction))"
   ]
  },
  {
   "cell_type": "code",
   "execution_count": 62,
   "metadata": {},
   "outputs": [
    {
     "data": {
      "text/html": [
       "<div>\n",
       "<style scoped>\n",
       "    .dataframe tbody tr th:only-of-type {\n",
       "        vertical-align: middle;\n",
       "    }\n",
       "\n",
       "    .dataframe tbody tr th {\n",
       "        vertical-align: top;\n",
       "    }\n",
       "\n",
       "    .dataframe thead th {\n",
       "        text-align: right;\n",
       "    }\n",
       "</style>\n",
       "<table border=\"1\" class=\"dataframe\">\n",
       "  <thead>\n",
       "    <tr style=\"text-align: right;\">\n",
       "      <th>col_0</th>\n",
       "      <th>1</th>\n",
       "      <th>2</th>\n",
       "      <th>3</th>\n",
       "      <th>4</th>\n",
       "    </tr>\n",
       "    <tr>\n",
       "      <th>Target</th>\n",
       "      <th></th>\n",
       "      <th></th>\n",
       "      <th></th>\n",
       "      <th></th>\n",
       "    </tr>\n",
       "  </thead>\n",
       "  <tbody>\n",
       "    <tr>\n",
       "      <th>1</th>\n",
       "      <td>723</td>\n",
       "      <td>8</td>\n",
       "      <td>2</td>\n",
       "      <td>41</td>\n",
       "    </tr>\n",
       "    <tr>\n",
       "      <th>2</th>\n",
       "      <td>4</td>\n",
       "      <td>1462</td>\n",
       "      <td>6</td>\n",
       "      <td>86</td>\n",
       "    </tr>\n",
       "    <tr>\n",
       "      <th>3</th>\n",
       "      <td>2</td>\n",
       "      <td>13</td>\n",
       "      <td>1114</td>\n",
       "      <td>92</td>\n",
       "    </tr>\n",
       "    <tr>\n",
       "      <th>4</th>\n",
       "      <td>4</td>\n",
       "      <td>12</td>\n",
       "      <td>7</td>\n",
       "      <td>5981</td>\n",
       "    </tr>\n",
       "  </tbody>\n",
       "</table>\n",
       "</div>"
      ],
      "text/plain": [
       "col_0     1     2     3     4\n",
       "Target                       \n",
       "1       723     8     2    41\n",
       "2         4  1462     6    86\n",
       "3         2    13  1114    92\n",
       "4         4    12     7  5981"
      ]
     },
     "execution_count": 62,
     "metadata": {},
     "output_type": "execute_result"
    }
   ],
   "source": [
    "pd.crosstab(Target,prediction)"
   ]
  },
  {
   "cell_type": "markdown",
   "metadata": {},
   "source": [
    "<hr>\n",
    "\n",
    "<font color = \"blue\" size=4px> <b>Interpretation :</b></font>\n",
    "\n",
    "<font color = \"red\" size=4px> Model Achieved <b>97% Accuracy</b> cosidering Significant Features</font>\n",
    "\n",
    "<font color = \"red\" size=4px> We increased Accuracy From <b>95% to 97%</b> below are Classification report:</font>\n",
    "    \n",
    "<font color = \"blue\" size=4px> <b>CLassification Report Model With All Features :</b></font> \n",
    "    \n",
    "  \n",
    "               precision    recall  f1-score   \n",
    "\n",
    "           1       0.99      0.88      0.93   \n",
    "           2       0.98      0.90      0.94   \n",
    "           3       0.99      0.83      0.90   \n",
    "           4       0.93      1.00      0.97   \n",
    "\n",
    "    accuracy                           0.95   \n",
    "\n",
    "\n",
    "    \n",
    "    \n",
    "<font color = \"blue\" size=4px> <b>CLassification Report Model With Significant :</b></font>  \n",
    "    \n",
    "    \n",
    "               precision    recall  f1-score   \n",
    "\n",
    "           1       0.98      0.93      0.96   \n",
    "           2       0.98      0.94      0.96   \n",
    "           3       0.99      0.91      0.95    \n",
    "           4       0.96      1.00      0.98      \n",
    "\n",
    "    accuracy                           0.97   \n",
    " \n",
    " \n",
    "\n",
    "    \n",
    "    \n",
    "    \n",
    "<hr>"
   ]
  },
  {
   "cell_type": "markdown",
   "metadata": {},
   "source": [
    "## 8. Now lets do prediction on Unseen Test Data"
   ]
  },
  {
   "cell_type": "markdown",
   "metadata": {},
   "source": [
    "#### 1. Select Most significant Features For test Data Set"
   ]
  },
  {
   "cell_type": "code",
   "execution_count": 63,
   "metadata": {},
   "outputs": [
    {
     "data": {
      "text/plain": [
       "(23856, 32)"
      ]
     },
     "execution_count": 63,
     "metadata": {},
     "output_type": "execute_result"
    }
   ],
   "source": [
    "df_test_sig = df_test[Sig_features]\n",
    "\n",
    "df_test_sig.shape"
   ]
  },
  {
   "cell_type": "markdown",
   "metadata": {},
   "source": [
    "#### 2. Standardise the data"
   ]
  },
  {
   "cell_type": "code",
   "execution_count": 64,
   "metadata": {},
   "outputs": [],
   "source": [
    "df_test_sig = StandardScaler().fit_transform(df_test_sig)"
   ]
  },
  {
   "cell_type": "markdown",
   "metadata": {},
   "source": [
    "#### 3. Prediction"
   ]
  },
  {
   "cell_type": "code",
   "execution_count": 65,
   "metadata": {},
   "outputs": [],
   "source": [
    "#Predictions\n",
    "\n",
    "Prediction = pd.Series(rfModel2_sig.predict(df_test_sig))"
   ]
  },
  {
   "cell_type": "markdown",
   "metadata": {},
   "source": [
    "#### 4. Plot The Count for each Predicted Poverty Level"
   ]
  },
  {
   "cell_type": "code",
   "execution_count": 66,
   "metadata": {},
   "outputs": [
    {
     "name": "stdout",
     "output_type": "stream",
     "text": [
      "\n",
      "\n"
     ]
    },
    {
     "data": {
      "image/png": "[encoded data removed]",
      "text/plain": [
       "<Figure size 864x432 with 1 Axes>"
      ]
     },
     "metadata": {},
     "output_type": "display_data"
    }
   ],
   "source": [
    "predicted_counts = Prediction.value_counts().sort_index()\n",
    "\n",
    "# Plot The Count for each Predicted Poverty Level\n",
    "print(\"\\n\")\n",
    "predicted_counts.plot.bar(figsize = (12,6),linewidth=3,edgecolor='k',color='royalblue')\n",
    "plt.xlabel(\"Poverty Levels\",size = 16)\n",
    "plt.ylabel(\"Count\",size = 16)\n",
    "plt.xticks([0,1,2,3],['extreme poverty','moderate poverty','vulnerable households','non vulnerable households'],rotation=20)\n",
    "plt.title(\"Poverty Level Counts (Predicted)\",pad=30,size=16)\n",
    "plt.show()"
   ]
  }
 ],
 "metadata": {
  "kernelspec": {
   "display_name": "Python 3",
   "language": "python",
   "name": "python3"
  },
  "language_info": {
   "codemirror_mode": {
    "name": "ipython",
    "version": 3
   },
   "file_extension": ".py",
   "mimetype": "text/x-python",
   "name": "python",
   "nbconvert_exporter": "python",
   "pygments_lexer": "ipython3",
   "version": "3.8.5"
  },
  "toc-autonumbering": false,
  "toc-showcode": false,
  "toc-showmarkdowntxt": false,
  "toc-showtags": false
 },
 "nbformat": 4,
 "nbformat_minor": 4
}
